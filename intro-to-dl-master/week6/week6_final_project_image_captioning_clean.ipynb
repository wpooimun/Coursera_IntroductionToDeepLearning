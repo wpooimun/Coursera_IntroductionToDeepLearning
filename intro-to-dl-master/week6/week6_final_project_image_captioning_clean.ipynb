{
  "cells": [
    {
      "cell_type": "code",
      "source": [
        "! shred -u setup_google_colab.py\n",
        "! wget https://raw.githubusercontent.com/hse-aml/intro-to-dl/master/setup_google_colab.py -O setup_google_colab.py\n",
        "import setup_google_colab\n",
        "# please, uncomment the week you're working on\n",
        "# setup_google_colab.setup_week1()\n",
        "# setup_google_colab.setup_week2()\n",
        "# setup_google_colab.setup_week3()\n",
        "# setup_google_colab.setup_week4()\n",
        "# setup_google_colab.setup_week5()\n",
        "setup_google_colab.setup_week6()"
      ],
      "metadata": {
        "id": "jjYjHMbyaFpp",
        "colab": {
          "base_uri": "https://localhost:8080/"
        },
        "outputId": "9553b842-8991-476a-cf1c-522814749f1a"
      },
      "execution_count": 1,
      "outputs": [
        {
          "output_type": "stream",
          "name": "stdout",
          "text": [
            "shred: setup_google_colab.py: failed to open for writing: No such file or directory\n",
            "--2022-03-10 12:17:10--  https://raw.githubusercontent.com/hse-aml/intro-to-dl/master/setup_google_colab.py\n",
            "Resolving raw.githubusercontent.com (raw.githubusercontent.com)... 185.199.108.133, 185.199.109.133, 185.199.111.133, ...\n",
            "Connecting to raw.githubusercontent.com (raw.githubusercontent.com)|185.199.108.133|:443... connected.\n",
            "HTTP request sent, awaiting response... 200 OK\n",
            "Length: 3636 (3.6K) [text/plain]\n",
            "Saving to: ‘setup_google_colab.py’\n",
            "\n",
            "setup_google_colab. 100%[===================>]   3.55K  --.-KB/s    in 0s      \n",
            "\n",
            "2022-03-10 12:17:10 (31.2 MB/s) - ‘setup_google_colab.py’ saved [3636/3636]\n",
            "\n",
            "**************************************************\n",
            "captions_train-val2014.zip\n",
            "**************************************************\n",
            "train2014_sample.zip\n",
            "**************************************************\n",
            "train_img_embeds.pickle\n",
            "**************************************************\n",
            "train_img_fns.pickle\n",
            "**************************************************\n",
            "val2014_sample.zip\n",
            "**************************************************\n",
            "val_img_embeds.pickle\n",
            "**************************************************\n",
            "val_img_fns.pickle\n",
            "**************************************************\n",
            "inception_v3_weights_tf_dim_ordering_tf_kernels_notop.h5\n",
            "**************************************************\n",
            "cifar-10-batches-py.tar.gz\n",
            "**************************************************\n",
            "mnist.npz\n"
          ]
        }
      ]
    },
    {
      "cell_type": "code",
      "execution_count": 2,
      "metadata": {
        "id": "sL3tYZFzZ4nQ",
        "colab": {
          "base_uri": "https://localhost:8080/"
        },
        "outputId": "d889518e-be5e-4568-cf68-f58e9e12a03d"
      },
      "outputs": [
        {
          "output_type": "stream",
          "name": "stdout",
          "text": [
            "TensorFlow 1.x selected.\n"
          ]
        }
      ],
      "source": [
        "# set tf 1.x for colab\n",
        "%tensorflow_version 1.x"
      ]
    },
    {
      "cell_type": "markdown",
      "metadata": {
        "id": "TCv36KalZ4nU"
      },
      "source": [
        "# Image Captioning Final Project\n",
        "\n",
        "In this final project you will define and train an image-to-caption model, that can produce descriptions for real world images!\n",
        "\n",
        "<img src=\"https://github.com/wpooimun/Coursera_IntroductionToDeepLearning/blob/main/intro-to-dl-master/week6/images/encoder_decoder.png?raw=1\" style=\"width:70%\">\n",
        "\n",
        "Model architecture: CNN encoder and RNN decoder. \n",
        "(https://research.googleblog.com/2014/11/a-picture-is-worth-thousand-coherent.html)"
      ]
    },
    {
      "cell_type": "markdown",
      "metadata": {
        "ExecuteTime": {
          "end_time": "2017-08-27T10:16:46.508273Z",
          "start_time": "2017-08-27T10:16:46.506062Z"
        },
        "id": "4EVcQzvaZ4nY"
      },
      "source": [
        "# Import stuff"
      ]
    },
    {
      "cell_type": "code",
      "execution_count": 3,
      "metadata": {
        "ExecuteTime": {
          "end_time": "2017-09-17T12:30:35.584796Z",
          "start_time": "2017-09-17T12:30:35.581343Z"
        },
        "id": "kCKZahfOZ4nZ"
      },
      "outputs": [],
      "source": [
        "import sys\n",
        "sys.path.append(\"..\")\n",
        "import grading\n",
        "import download_utils"
      ]
    },
    {
      "cell_type": "code",
      "execution_count": 4,
      "metadata": {
        "id": "wYWp-KHzZ4na"
      },
      "outputs": [],
      "source": [
        "download_utils.link_all_keras_resources()"
      ]
    },
    {
      "cell_type": "code",
      "execution_count": 5,
      "metadata": {
        "ExecuteTime": {
          "end_time": "2017-09-17T14:32:05.229736Z",
          "start_time": "2017-09-17T14:31:56.495874Z"
        },
        "id": "8RUPoCVkZ4nb",
        "colab": {
          "base_uri": "https://localhost:8080/"
        },
        "outputId": "2875cfce-e909-4819-8410-9e8bfca1591a"
      },
      "outputs": [
        {
          "output_type": "stream",
          "name": "stderr",
          "text": [
            "Using TensorFlow backend.\n"
          ]
        }
      ],
      "source": [
        "import tensorflow as tf\n",
        "from tensorflow.contrib import keras\n",
        "import numpy as np\n",
        "%matplotlib inline\n",
        "import matplotlib.pyplot as plt\n",
        "L = keras.layers\n",
        "K = keras.backend\n",
        "import utils\n",
        "import time\n",
        "import zipfile\n",
        "import json\n",
        "from collections import defaultdict\n",
        "import re\n",
        "import random\n",
        "from random import choice\n",
        "import grading_utils\n",
        "import os\n",
        "from keras_utils import reset_tf_session\n",
        "import tqdm_utils"
      ]
    },
    {
      "cell_type": "markdown",
      "metadata": {
        "id": "7N0-JUXfZ4nb"
      },
      "source": [
        "# Prepare the storage for model checkpoints"
      ]
    },
    {
      "cell_type": "code",
      "execution_count": 6,
      "metadata": {
        "id": "6OaRf99bZ4nc",
        "colab": {
          "base_uri": "https://localhost:8080/"
        },
        "outputId": "4421988d-bea5-471e-af65-cbe12b89479c"
      },
      "outputs": [
        {
          "output_type": "stream",
          "name": "stdout",
          "text": [
            "/content/weights_10\n"
          ]
        }
      ],
      "source": [
        "# Leave USE_GOOGLE_DRIVE = False if you're running locally!\n",
        "# We recommend to set USE_GOOGLE_DRIVE = True in Google Colab!\n",
        "# If set to True, we will mount Google Drive, so that you can restore your checkpoint \n",
        "# and continue trainig even if your previous Colab session dies.\n",
        "# If set to True, follow on-screen instructions to access Google Drive (you must have a Google account).\n",
        "USE_GOOGLE_DRIVE = False\n",
        "\n",
        "def mount_google_drive():\n",
        "    from google.colab import drive\n",
        "    mount_directory = \"/content/gdrive\"\n",
        "    drive.mount(mount_directory)\n",
        "    drive_root = mount_directory + \"/\" + list(filter(lambda x: x[0] != '.', os.listdir(mount_directory)))[0] + \"/colab\"\n",
        "    return drive_root\n",
        "\n",
        "CHECKPOINT_ROOT = \"\"\n",
        "if USE_GOOGLE_DRIVE:\n",
        "    CHECKPOINT_ROOT = mount_google_drive() + \"/\"\n",
        "\n",
        "def get_checkpoint_path(epoch=None):\n",
        "    if epoch is None:\n",
        "        return os.path.abspath(CHECKPOINT_ROOT + \"weights\")\n",
        "    else:\n",
        "        return os.path.abspath(CHECKPOINT_ROOT + \"weights_{}\".format(epoch))\n",
        "      \n",
        "# example of checkpoint dir\n",
        "print(get_checkpoint_path(10))"
      ]
    },
    {
      "cell_type": "markdown",
      "metadata": {
        "id": "EJ6ieXBVZ4nd"
      },
      "source": [
        "# Fill in your Coursera token and email\n",
        "To successfully submit your answers to our grader, please fill in your Coursera submission token and email"
      ]
    },
    {
      "cell_type": "code",
      "execution_count": 7,
      "metadata": {
        "id": "xZ6o5s1GZ4ne"
      },
      "outputs": [],
      "source": [
        "grader = grading.Grader(assignment_key=\"NEDBg6CgEee8nQ6uE8a7OA\", \n",
        "                        all_parts=[\"19Wpv\", \"uJh73\", \"yiJkt\", \"rbpnH\", \"E2OIL\", \"YJR7z\"])"
      ]
    },
    {
      "cell_type": "code",
      "execution_count": 43,
      "metadata": {
        "id": "xWJLoAKLZ4ne"
      },
      "outputs": [],
      "source": [
        "# token expires every 30 min\n",
        "COURSERA_TOKEN = \"wITbhip8fZMR2u1Q\" ### YOUR TOKEN HERE\n",
        "COURSERA_EMAIL = \"e0204954@u.nus.edu\" ### YOUR EMAIL HERE"
      ]
    },
    {
      "cell_type": "markdown",
      "metadata": {
        "id": "sNyGlbjTZ4ne"
      },
      "source": [
        "# Download data\n",
        "\n",
        "Takes 10 hours and 20 GB. We've downloaded necessary files for you.\n",
        "\n",
        "Relevant links (just in case):\n",
        "- train images http://msvocds.blob.core.windows.net/coco2014/train2014.zip\n",
        "- validation images http://msvocds.blob.core.windows.net/coco2014/val2014.zip\n",
        "- captions for both train and validation http://msvocds.blob.core.windows.net/annotations-1-0-3/captions_train-val2014.zip"
      ]
    },
    {
      "cell_type": "code",
      "execution_count": 8,
      "metadata": {
        "id": "6rgGpxKbZ4nf"
      },
      "outputs": [],
      "source": [
        "# we downloaded them for you, just link them here\n",
        "download_utils.link_week_6_resources()"
      ]
    },
    {
      "cell_type": "markdown",
      "metadata": {
        "ExecuteTime": {
          "end_time": "2017-08-27T10:23:45.863881Z",
          "start_time": "2017-08-27T10:23:45.861693Z"
        },
        "id": "mgAH7fMuZ4nf"
      },
      "source": [
        "# Extract image features\n",
        "\n",
        "We will use pre-trained InceptionV3 model for CNN encoder (https://research.googleblog.com/2016/03/train-your-own-image-classifier-with.html) and extract its last hidden layer as an embedding:\n",
        "\n",
        "<img src=\"https://github.com/wpooimun/Coursera_IntroductionToDeepLearning/blob/main/intro-to-dl-master/week6/images/inceptionv3.png?raw=1\" style=\"width:70%\">"
      ]
    },
    {
      "cell_type": "code",
      "execution_count": 9,
      "metadata": {
        "ExecuteTime": {
          "end_time": "2017-09-17T14:32:09.629321Z",
          "start_time": "2017-09-17T14:32:09.627108Z"
        },
        "id": "Xuuuvjy9Z4ng"
      },
      "outputs": [],
      "source": [
        "IMG_SIZE = 299"
      ]
    },
    {
      "cell_type": "code",
      "execution_count": 10,
      "metadata": {
        "ExecuteTime": {
          "end_time": "2017-09-17T14:32:09.836606Z",
          "start_time": "2017-09-17T14:32:09.831028Z"
        },
        "id": "_5s3tg-WZ4ng"
      },
      "outputs": [],
      "source": [
        "# we take the last hidden layer of IncetionV3 as an image embedding\n",
        "def get_cnn_encoder():\n",
        "    K.set_learning_phase(False)\n",
        "    model = keras.applications.InceptionV3(include_top=False)\n",
        "    preprocess_for_model = keras.applications.inception_v3.preprocess_input\n",
        "\n",
        "    model = keras.models.Model(model.inputs, keras.layers.GlobalAveragePooling2D()(model.output))\n",
        "    return model, preprocess_for_model"
      ]
    },
    {
      "cell_type": "markdown",
      "metadata": {
        "id": "sQ1WL7XYZ4nh"
      },
      "source": [
        "Features extraction takes too much time on CPU:\n",
        "- Takes 16 minutes on GPU.\n",
        "- 25x slower (InceptionV3) on CPU and takes 7 hours.\n",
        "- 10x slower (MobileNet) on CPU and takes 3 hours.\n",
        "\n",
        "So we've done it for you with the following code:\n",
        "```python\n",
        "# load pre-trained model\n",
        "reset_tf_session()\n",
        "encoder, preprocess_for_model = get_cnn_encoder()\n",
        "\n",
        "# extract train features\n",
        "train_img_embeds, train_img_fns = utils.apply_model(\n",
        "    \"train2014.zip\", encoder, preprocess_for_model, input_shape=(IMG_SIZE, IMG_SIZE))\n",
        "utils.save_pickle(train_img_embeds, \"train_img_embeds.pickle\")\n",
        "utils.save_pickle(train_img_fns, \"train_img_fns.pickle\")\n",
        "\n",
        "# extract validation features\n",
        "val_img_embeds, val_img_fns = utils.apply_model(\n",
        "    \"val2014.zip\", encoder, preprocess_for_model, input_shape=(IMG_SIZE, IMG_SIZE))\n",
        "utils.save_pickle(val_img_embeds, \"val_img_embeds.pickle\")\n",
        "utils.save_pickle(val_img_fns, \"val_img_fns.pickle\")\n",
        "\n",
        "# sample images for learners\n",
        "def sample_zip(fn_in, fn_out, rate=0.01, seed=42):\n",
        "    np.random.seed(seed)\n",
        "    with zipfile.ZipFile(fn_in) as fin, zipfile.ZipFile(fn_out, \"w\") as fout:\n",
        "        sampled = filter(lambda _: np.random.rand() < rate, fin.filelist)\n",
        "        for zInfo in sampled:\n",
        "            fout.writestr(zInfo, fin.read(zInfo))\n",
        "            \n",
        "sample_zip(\"train2014.zip\", \"train2014_sample.zip\")\n",
        "sample_zip(\"val2014.zip\", \"val2014_sample.zip\")\n",
        "```"
      ]
    },
    {
      "cell_type": "code",
      "execution_count": 11,
      "metadata": {
        "ExecuteTime": {
          "end_time": "2017-09-17T14:32:12.621413Z",
          "start_time": "2017-09-17T14:32:11.986281Z"
        },
        "id": "KUN79CTVZ4nh",
        "colab": {
          "base_uri": "https://localhost:8080/"
        },
        "outputId": "3cc0e16b-ab36-4264-fc7c-9f7620f7ec50"
      },
      "outputs": [
        {
          "output_type": "stream",
          "name": "stdout",
          "text": [
            "(82783, 2048) 82783\n",
            "(40504, 2048) 40504\n"
          ]
        }
      ],
      "source": [
        "# load prepared embeddings\n",
        "train_img_embeds = utils.read_pickle(\"train_img_embeds.pickle\")\n",
        "train_img_fns = utils.read_pickle(\"train_img_fns.pickle\")\n",
        "val_img_embeds = utils.read_pickle(\"val_img_embeds.pickle\")\n",
        "val_img_fns = utils.read_pickle(\"val_img_fns.pickle\")\n",
        "# check shapes\n",
        "print(train_img_embeds.shape, len(train_img_fns))\n",
        "print(val_img_embeds.shape, len(val_img_fns))"
      ]
    },
    {
      "cell_type": "code",
      "execution_count": 12,
      "metadata": {
        "ExecuteTime": {
          "end_time": "2017-09-17T14:32:21.515330Z",
          "start_time": "2017-09-17T14:32:21.400879Z"
        },
        "id": "xO95tZqJZ4nh",
        "colab": {
          "base_uri": "https://localhost:8080/"
        },
        "outputId": "9a913ce5-cc67-4814-ca4d-512574ab1bde"
      },
      "outputs": [
        {
          "output_type": "execute_result",
          "data": {
            "text/plain": [
              "['val2014_sample.zip', 'train2014_sample.zip']"
            ]
          },
          "metadata": {},
          "execution_count": 12
        }
      ],
      "source": [
        "# check prepared samples of images\n",
        "list(filter(lambda x: x.endswith(\"_sample.zip\"), os.listdir(\".\")))"
      ]
    },
    {
      "cell_type": "markdown",
      "metadata": {
        "id": "7MCB7qxGZ4nh"
      },
      "source": [
        "# Extract captions for images"
      ]
    },
    {
      "cell_type": "code",
      "execution_count": 13,
      "metadata": {
        "ExecuteTime": {
          "end_time": "2017-09-17T14:32:24.897276Z",
          "start_time": "2017-09-17T14:32:22.942805Z"
        },
        "id": "m99obFvjZ4ni",
        "colab": {
          "base_uri": "https://localhost:8080/"
        },
        "outputId": "f641929f-37de-44a0-da05-a995f63bd84c"
      },
      "outputs": [
        {
          "output_type": "stream",
          "name": "stdout",
          "text": [
            "82783 82783\n",
            "40504 40504\n"
          ]
        }
      ],
      "source": [
        "# extract captions from zip\n",
        "def get_captions_for_fns(fns, zip_fn, zip_json_path):\n",
        "    zf = zipfile.ZipFile(zip_fn)\n",
        "    j = json.loads(zf.read(zip_json_path).decode(\"utf8\"))\n",
        "    id_to_fn = {img[\"id\"]: img[\"file_name\"] for img in j[\"images\"]}\n",
        "    fn_to_caps = defaultdict(list)\n",
        "    for cap in j['annotations']:\n",
        "        fn_to_caps[id_to_fn[cap['image_id']]].append(cap['caption'])\n",
        "    fn_to_caps = dict(fn_to_caps)\n",
        "    return list(map(lambda x: fn_to_caps[x], fns))\n",
        "    \n",
        "train_captions = get_captions_for_fns(train_img_fns, \"captions_train-val2014.zip\", \n",
        "                                      \"annotations/captions_train2014.json\")\n",
        "\n",
        "val_captions = get_captions_for_fns(val_img_fns, \"captions_train-val2014.zip\", \n",
        "                                      \"annotations/captions_val2014.json\")\n",
        "\n",
        "# check shape\n",
        "print(len(train_img_fns), len(train_captions))\n",
        "print(len(val_img_fns), len(val_captions))"
      ]
    },
    {
      "cell_type": "code",
      "execution_count": 14,
      "metadata": {
        "ExecuteTime": {
          "end_time": "2017-09-17T14:42:06.492565Z",
          "start_time": "2017-09-17T14:42:06.245458Z"
        },
        "id": "bDH7BiSEZ4ni",
        "colab": {
          "base_uri": "https://localhost:8080/",
          "height": 341
        },
        "outputId": "320f489d-de12-42f8-a85e-d45206c0bd06"
      },
      "outputs": [
        {
          "output_type": "display_data",
          "data": {
            "image/png": "[encoded data removed]",
            "text/plain": [
              "<Figure size 432x288 with 1 Axes>"
            ]
          },
          "metadata": {
            "needs_background": "light"
          }
        }
      ],
      "source": [
        "# look at training example (each has 5 captions)\n",
        "def show_trainig_example(train_img_fns, train_captions, example_idx=0):\n",
        "    \"\"\"\n",
        "    You can change example_idx and see different images\n",
        "    \"\"\"\n",
        "    zf = zipfile.ZipFile(\"train2014_sample.zip\")\n",
        "    captions_by_file = dict(zip(train_img_fns, train_captions))\n",
        "    all_files = set(train_img_fns)\n",
        "    found_files = list(filter(lambda x: x.filename.rsplit(\"/\")[-1] in all_files, zf.filelist))\n",
        "    example = found_files[example_idx]\n",
        "    img = utils.decode_image_from_buf(zf.read(example))\n",
        "    plt.imshow(utils.image_center_crop(img))\n",
        "    plt.title(\"\\n\".join(captions_by_file[example.filename.rsplit(\"/\")[-1]]))\n",
        "    plt.show()\n",
        "    \n",
        "show_trainig_example(train_img_fns, train_captions, example_idx=108)"
      ]
    },
    {
      "cell_type": "markdown",
      "metadata": {
        "id": "iDCNq9y6Z4ni"
      },
      "source": [
        "# Prepare captions for training"
      ]
    },
    {
      "cell_type": "code",
      "execution_count": 15,
      "metadata": {
        "ExecuteTime": {
          "end_time": "2017-09-17T14:43:40.637447Z",
          "start_time": "2017-09-17T14:43:40.633717Z"
        },
        "id": "Ykt5GHdRZ4nj",
        "colab": {
          "base_uri": "https://localhost:8080/"
        },
        "outputId": "8215a3bb-a5ff-4df0-a8e9-843e9c1e6635"
      },
      "outputs": [
        {
          "output_type": "execute_result",
          "data": {
            "text/plain": [
              "[['A long dirt road going through a forest.',\n",
              "  'A SCENE OF WATER AND A PATH WAY',\n",
              "  'A sandy path surrounded by trees leads to a beach.',\n",
              "  'Ocean view through a dirt road surrounded by a forested area. ',\n",
              "  'dirt path leading beneath barren trees to open plains'],\n",
              " ['A group of zebra standing next to each other.',\n",
              "  'This is an image of of zebras drinking',\n",
              "  'ZEBRAS AND BIRDS SHARING THE SAME WATERING HOLE',\n",
              "  'Zebras that are bent over and drinking water together.',\n",
              "  'a number of zebras drinking water near one another']]"
            ]
          },
          "metadata": {},
          "execution_count": 15
        }
      ],
      "source": [
        "# preview captions data\n",
        "train_captions[:2]"
      ]
    },
    {
      "cell_type": "code",
      "execution_count": 24,
      "metadata": {
        "ExecuteTime": {
          "end_time": "2017-09-17T14:43:40.932131Z",
          "start_time": "2017-09-17T14:43:40.891187Z"
        },
        "id": "wYTIa_MaZ4nj"
      },
      "outputs": [],
      "source": [
        "# special tokens\n",
        "PAD = \"#PAD#\"\n",
        "UNK = \"#UNK#\"\n",
        "START = \"#START#\"\n",
        "END = \"#END#\"\n",
        "\n",
        "# split sentence into tokens (split into lowercased words)\n",
        "def split_sentence(sentence):\n",
        "    return list(filter(lambda x: len(x) > 0, re.split('\\W+', sentence.lower())))\n",
        "\n",
        "def generate_vocabulary(train_captions):\n",
        "    \"\"\"\n",
        "    Return {token: index} for all train tokens (words) that occur 5 times or more, \n",
        "        `index` should be from 0 to N, where N is a number of unique tokens in the resulting dictionary.\n",
        "    Use `split_sentence` function to split sentence into tokens.\n",
        "    Also, add PAD (for batch padding), UNK (unknown, out of vocabulary), \n",
        "        START (start of sentence) and END (end of sentence) tokens into the vocabulary.\n",
        "    \"\"\"\n",
        "    ### YOUR CODE HERE ###\n",
        "    words = [word for captions in train_captions for caption in captions for word in split_sentence(caption)]\n",
        "    unique_vocab = set(words)\n",
        "    # vocab = [word for word in unique_vocab if words.count(word) >= 5]   # list.count(item) takes a very long time here\n",
        "\n",
        "    vocab = []\n",
        "    word_count_dict = dict()\n",
        "    for word in words:\n",
        "      if not word in vocab:\n",
        "        if word_count_dict.get(word) is None:\n",
        "          word_count_dict[word] = 1 # start counting\n",
        "        else:\n",
        "          word_count_dict[word] += 1\n",
        "          if word_count_dict[word] >= 5:  # more than 5 occurence, add to vocab list\n",
        "            vocab.append(word)\n",
        "\n",
        "    print(len(words), len(unique_vocab), len(vocab))\n",
        "    vocab.append(PAD)\n",
        "    vocab.append(UNK)\n",
        "    vocab.append(START)\n",
        "    vocab.append(END)\n",
        "\n",
        "    return {token: index for index, token in enumerate(sorted(vocab))}\n",
        "    \n",
        "def caption_tokens_to_indices(captions, vocab):\n",
        "    \"\"\"\n",
        "    `captions` argument is an array of arrays:\n",
        "    [\n",
        "        [\n",
        "            \"image1 caption1\",\n",
        "            \"image1 caption2\",\n",
        "            ...\n",
        "        ],\n",
        "        [\n",
        "            \"image2 caption1\",\n",
        "            \"image2 caption2\",\n",
        "            ...\n",
        "        ],\n",
        "        ...\n",
        "    ]\n",
        "    Use `split_sentence` function to split sentence into tokens.\n",
        "    Replace all tokens with vocabulary indices, use UNK for unknown words (out of vocabulary).\n",
        "    Add START and END tokens to start and end of each sentence respectively.\n",
        "    For the example above you should produce the following:\n",
        "    [\n",
        "        [\n",
        "            [vocab[START], vocab[\"image1\"], vocab[\"caption1\"], vocab[END]],\n",
        "            [vocab[START], vocab[\"image1\"], vocab[\"caption2\"], vocab[END]],\n",
        "            ...\n",
        "        ],\n",
        "        ...\n",
        "    ]\n",
        "    \"\"\"\n",
        "    ### YOUR CODE HERE ###\n",
        "    indexing_vocab_in_words = lambda words: [vocab[START]] + [vocab[word] if word in vocab else vocab[UNK] for word in words] + [vocab[END]]\n",
        "    indexing_words_in_captions = lambda captions: [indexing_vocab_in_words(split_sentence(caption.lower())) for caption in captions]\n",
        "    \n",
        "    res = [indexing_words_in_captions(caption_list) for caption_list in captions]\n",
        "    # print(res[0])\n",
        "    return res"
      ]
    },
    {
      "cell_type": "code",
      "execution_count": 17,
      "metadata": {
        "ExecuteTime": {
          "end_time": "2017-09-17T14:43:44.824532Z",
          "start_time": "2017-09-17T14:43:41.264769Z"
        },
        "id": "fitNY5rLZ4nj",
        "colab": {
          "base_uri": "https://localhost:8080/"
        },
        "outputId": "a3e201b1-6fd2-4c35-d48e-33abd73737d5"
      },
      "outputs": [
        {
          "output_type": "stream",
          "name": "stdout",
          "text": [
            "4339916 23129 8765\n",
            "8769\n"
          ]
        }
      ],
      "source": [
        "# prepare vocabulary\n",
        "vocab = generate_vocabulary(train_captions)\n",
        "vocab_inverse = {idx: w for w, idx in vocab.items()}\n",
        "print(len(vocab))"
      ]
    },
    {
      "cell_type": "code",
      "source": [
        "print(vocab)"
      ],
      "metadata": {
        "colab": {
          "base_uri": "https://localhost:8080/"
        },
        "id": "ENj-dY1Lx_t-",
        "outputId": "f0fcb2e2-cb81-4bcc-c6a8-acbad05d340f"
      },
      "execution_count": 20,
      "outputs": [
        {
          "output_type": "stream",
          "name": "stdout",
          "text": [
            "{'#END#': 0, '#PAD#': 1, '#START#': 2, '#UNK#': 3, '00': 4, '1': 5, '10': 6, '11': 7, '12': 8, '13': 9, '13th': 10, '14': 11, '15': 12, '16': 13, '17': 14, '18': 15, '19': 16, '1950': 17, '1971': 18, '1st': 19, '2': 20, '20': 21, '2012': 22, '2013': 23, '20th': 24, '22': 25, '24': 26, '25': 27, '29': 28, '3': 29, '30': 30, '30th': 31, '34th': 32, '35': 33, '350': 34, '3d': 35, '3rd': 36, '4': 37, '40': 38, '45': 39, '5': 40, '50': 41, '50th': 42, '54': 43, '55': 44, '5th': 45, '6': 46, '66': 47, '6th': 48, '7': 49, '747': 50, '8': 51, '9': 52, '99': 53, 'a': 54, 'aa': 55, 'abandon': 56, 'abandoned': 57, 'ability': 58, 'able': 59, 'aboard': 60, 'about': 61, 'above': 62, 'abstract': 63, 'abundance': 64, 'abundant': 65, 'accent': 66, 'accented': 67, 'accents': 68, 'accept': 69, 'accepting': 70, 'access': 71, 'accessible': 72, 'accessories': 73, 'accessory': 74, 'accident': 75, 'accompanied': 76, 'accompany': 77, 'accordion': 78, 'acrobatic': 79, 'across': 80, 'act': 81, 'acting': 82, 'action': 83, 'actions': 84, 'active': 85, 'actively': 86, 'activities': 87, 'activity': 88, 'actor': 89, 'actors': 90, 'actual': 91, 'actually': 92, 'ad': 93, 'add': 94, 'added': 95, 'adding': 96, 'additional': 97, 'address': 98, 'addresses': 99, 'adds': 100, 'adidas': 101, 'adjacent': 102, 'adjoining': 103, 'adjust': 104, 'adjustable': 105, 'adjusting': 106, 'adjusts': 107, 'admire': 108, 'admires': 109, 'admiring': 110, 'adn': 111, 'adobe': 112, 'adolescent': 113, 'adorable': 114, 'adorn': 115, 'adorned': 116, 'adorns': 117, 'ads': 118, 'adult': 119, 'adults': 120, 'advanced': 121, 'advancing': 122, 'advantage': 123, 'adventure': 124, 'advertise': 125, 'advertised': 126, 'advertisement': 127, 'advertisements': 128, 'advertises': 129, 'advertising': 130, 'aerial': 131, 'aeroplane': 132, 'afar': 133, 'affection': 134, 'affectionate': 135, 'affectionately': 136, 'affixed': 137, 'afghan': 138, 'afield': 139, 'africa': 140, 'african': 141, 'afro': 142, 'after': 143, 'afternoon': 144, 'again': 145, 'against': 146, 'age': 147, 'aged': 148, 'ages': 149, 'aggressively': 150, 'aging': 151, 'ago': 152, 'ahead': 153, 'aid': 154, 'aim': 155, 'aimed': 156, 'aiming': 157, 'aims': 158, 'air': 159, 'airborne': 160, 'aircraft': 161, 'aircrafts': 162, 'airfield': 163, 'airfrance': 164, 'airline': 165, 'airliner': 166, 'airliners': 167, 'airlines': 168, 'airplane': 169, 'airplanes': 170, 'airport': 171, 'airshow': 172, 'airstrip': 173, 'airways': 174, 'airy': 175, 'aisle': 176, 'ajar': 177, 'al': 178, 'alarm': 179, 'alaska': 180, 'album': 181, 'alcohol': 182, 'alcoholic': 183, 'alcove': 184, 'ale': 185, 'alert': 186, 'alertly': 187, 'alfalfa': 188, 'algae': 189, 'alien': 190, 'aligned': 191, 'alike': 192, 'all': 193, 'alley': 194, 'alleyway': 195, 'alligator': 196, 'allot': 197, 'allover': 198, 'allow': 199, 'allowed': 200, 'allowing': 201, 'allows': 202, 'ally': 203, 'almond': 204, 'almonds': 205, 'almost': 206, 'aloft': 207, 'alone': 208, 'along': 209, 'alongside': 210, 'alot': 211, 'alpine': 212, 'already': 213, 'also': 214, 'alter': 215, 'altered': 216, 'altitude': 217, 'alto': 218, 'aluminum': 219, 'always': 220, 'am': 221, 'amateur': 222, 'amazed': 223, 'amazing': 224, 'ambulance': 225, 'ambulances': 226, 'amenities': 227, 'america': 228, 'american': 229, 'amid': 230, 'amidst': 231, 'amish': 232, 'among': 233, 'amongst': 234, 'amount': 235, 'amounts': 236, 'amp': 237, 'ample': 238, 'amtrak': 239, 'amusement': 240, 'amusing': 241, 'an': 242, 'ana': 243, 'analog': 244, 'anchor': 245, 'anchored': 246, 'anchovies': 247, 'ancient': 248, 'and': 249, 'angel': 250, 'angeles': 251, 'angels': 252, 'angle': 253, 'angled': 254, 'angles': 255, 'angrily': 256, 'angry': 257, 'animal': 258, 'animals': 259, 'animated': 260, 'animation': 261, 'anime': 262, 'ankle': 263, 'ankles': 264, 'ann': 265, 'announcer': 266, 'announcing': 267, 'annual': 268, 'another': 269, 'ans': 270, 'answering': 271, 'antelope': 272, 'antelopes': 273, 'antenna': 274, 'anti': 275, 'anticipating': 276, 'anticipation': 277, 'antique': 278, 'antiques': 279, 'antlers': 280, 'any': 281, 'anyone': 282, 'anything': 283, 'anytime': 284, 'apart': 285, 'apartment': 286, 'apartments': 287, 'app': 288, 'apparatus': 289, 'apparel': 290, 'apparently': 291, 'appealing': 292, 'appear': 293, 'appearance': 294, 'appearing': 295, 'appears': 296, 'appetizer': 297, 'appetizers': 298, 'appetizing': 299, 'applauding': 300, 'apple': 301, 'apples': 302, 'appliance': 303, 'appliances': 304, 'application': 305, 'applied': 306, 'applying': 307, 'appointed': 308, 'approach': 309, 'approached': 310, 'approaches': 311, 'approaching': 312, 'appropriate': 313, 'approval': 314, 'apricots': 315, 'apron': 316, 'aprons': 317, 'aqua': 318, 'aquarium': 319, 'ar': 320, 'arabic': 321, 'arbor': 322, 'arcade': 323, 'arch': 324, 'arched': 325, 'arches': 326, 'architectural': 327, 'architecture': 328, 'archway': 329, 'are': 330, 'area': 331, 'areas': 332, 'arena': 333, 'arial': 334, 'arid': 335, 'arm': 336, 'armchair': 337, 'armed': 338, 'armoire': 339, 'armor': 340, 'armored': 341, 'armrest': 342, 'arms': 343, 'army': 344, 'around': 345, 'arranged': 346, 'arrangement': 347, 'arrangements': 348, 'arranges': 349, 'arranging': 350, 'array': 351, 'arrayed': 352, 'arrival': 353, 'arrive': 354, 'arrived': 355, 'arrives': 356, 'arriving': 357, 'arrow': 358, 'arrows': 359, 'art': 360, 'artful': 361, 'artfully': 362, 'artichoke': 363, 'artichokes': 364, 'article': 365, 'articles': 366, 'articulated': 367, 'artifacts': 368, 'artificial': 369, 'artisan': 370, 'artist': 371, 'artistic': 372, 'artistically': 373, 'arts': 374, 'artsy': 375, 'artwork': 376, 'arugula': 377, 'as': 378, 'ascending': 379, 'ascends': 380, 'ascent': 381, 'ashore': 382, 'asia': 383, 'asian': 384, 'aside': 385, 'asking': 386, 'asleep': 387, 'asparagus': 388, 'asphalt': 389, 'ass': 390, 'assembled': 391, 'assembling': 392, 'assembly': 393, 'assist': 394, 'assisted': 395, 'assisting': 396, 'assists': 397, 'assorted': 398, 'assortment': 399, 'astounding': 400, 'astride': 401, 'at': 402, 'ate': 403, 'athlete': 404, 'athletes': 405, 'athletic': 406, 'atlanta': 407, 'atlantic': 408, 'atm': 409, 'atmosphere': 410, 'atop': 411, 'atrium': 412, 'attached': 413, 'attaching': 414, 'attachment': 415, 'attachments': 416, 'attack': 417, 'attacking': 418, 'attempt': 419, 'attempted': 420, 'attempting': 421, 'attempts': 422, 'attend': 423, 'attendant': 424, 'attendants': 425, 'attended': 426, 'attendees': 427, 'attending': 428, 'attention': 429, 'attentive': 430, 'attentively': 431, 'attic': 432, 'attire': 433, 'attired': 434, 'attraction': 435, 'attractions': 436, 'attractive': 437, 'attractively': 438, 'attracts': 439, 'atv': 440, 'atvs': 441, 'auction': 442, 'audience': 443, 'audio': 444, 'auditorium': 445, 'australia': 446, 'australian': 447, 'authentic': 448, 'auto': 449, 'autographs': 450, 'automated': 451, 'automatic': 452, 'automobile': 453, 'automobiles': 454, 'autumn': 455, 'av': 456, 'available': 457, 'ave': 458, 'avenue': 459, 'average': 460, 'avid': 461, 'avocado': 462, 'avocados': 463, 'avoid': 464, 'avoiding': 465, 'await': 466, 'awaiting': 467, 'awaits': 468, 'awake': 469, 'award': 470, 'awards': 471, 'away': 472, 'awesome': 473, 'awful': 474, 'awkward': 475, 'awkwardly': 476, 'awning': 477, 'awnings': 478, 'b': 479, 'babies': 480, 'baby': 481, 'back': 482, 'backdrop': 483, 'backed': 484, 'background': 485, 'backhand': 486, 'backing': 487, 'backlit': 488, 'backpack': 489, 'backpacks': 490, 'backs': 491, 'backseat': 492, 'backside': 493, 'backsides': 494, 'backsplash': 495, 'backup': 496, 'backward': 497, 'backwards': 498, 'backyard': 499, 'bacon': 500, 'bad': 501, 'badge': 502, 'badges': 503, 'badly': 504, 'badminton': 505, 'bag': 506, 'bagel': 507, 'bagels': 508, 'baggage': 509, 'bagged': 510, 'baggy': 511, 'bags': 512, 'baguette': 513, 'bail': 514, 'bails': 515, 'bake': 516, 'baked': 517, 'baker': 518, 'bakers': 519, 'bakery': 520, 'bakes': 521, 'baking': 522, 'balance': 523, 'balanced': 524, 'balances': 525, 'balancing': 526, 'balck': 527, 'balconies': 528, 'balcony': 529, 'bald': 530, 'balding': 531, 'bale': 532, 'bales': 533, 'ball': 534, 'ballgame': 535, 'balloon': 536, 'balloons': 537, 'ballpark': 538, 'ballroom': 539, 'balls': 540, 'baltimore': 541, 'bamboo': 542, 'ban': 543, 'banana': 544, 'bananas': 545, 'band': 546, 'bandage': 547, 'bandana': 548, 'bandanna': 549, 'bands': 550, 'bangs': 551, 'banister': 552, 'bank': 553, 'banks': 554, 'bannanas': 555, 'banner': 556, 'banners': 557, 'bannister': 558, 'banquet': 559, 'baord': 560, 'bar': 561, 'barb': 562, 'barbecue': 563, 'barbecued': 564, 'barbed': 565, 'barbeque': 566, 'barber': 567, 'barbershop': 568, 'barbie': 569, 'barbwire': 570, 'bard': 571, 'bare': 572, 'bareback': 573, 'barefoot': 574, 'barefooted': 575, 'barely': 576, 'barge': 577, 'bark': 578, 'barking': 579, 'barn': 580, 'barns': 581, 'barnyard': 582, 'baron': 583, 'barred': 584, 'barrel': 585, 'barrels': 586, 'barren': 587, 'barricade': 588, 'barricades': 589, 'barrier': 590, 'barriers': 591, 'barrow': 592, 'barry': 593, 'bars': 594, 'barstools': 595, 'bartender': 596, 'base': 597, 'baseball': 598, 'baseballs': 599, 'based': 600, 'baseline': 601, 'baseman': 602, 'basement': 603, 'bases': 604, 'basic': 605, 'basil': 606, 'basin': 607, 'basins': 608, 'basket': 609, 'basketball': 610, 'baskets': 611, 'bass': 612, 'bassinet': 613, 'bat': 614, 'batch': 615, 'batches': 616, 'bath': 617, 'bathe': 618, 'bathed': 619, 'bathing': 620, 'bathrobe': 621, 'bathroom': 622, 'bathrooms': 623, 'bathtub': 624, 'batman': 625, 'bats': 626, 'batter': 627, 'battered': 628, 'batteries': 629, 'batters': 630, 'battery': 631, 'batting': 632, 'battle': 633, 'battleship': 634, 'bay': 635, 'bazaar': 636, 'bbq': 637, 'be': 638, 'beach': 639, 'beached': 640, 'beachfront': 641, 'beacon': 642, 'bead': 643, 'beaded': 644, 'beads': 645, 'beagle': 646, 'beak': 647, 'beaked': 648, 'beaks': 649, 'beam': 650, 'beaming': 651, 'beams': 652, 'bean': 653, 'beanie': 654, 'beans': 655, 'bear': 656, 'beard': 657, 'bearded': 658, 'bearing': 659, 'bears': 660, 'beast': 661, 'beat': 662, 'beaten': 663, 'beautiful': 664, 'beautifully': 665, 'beauty': 666, 'because': 667, 'become': 668, 'becomes': 669, 'becoming': 670, 'bed': 671, 'bedding': 672, 'bedroom': 673, 'beds': 674, 'bedside': 675, 'bedspread': 676, 'bee': 677, 'beef': 678, 'been': 679, 'beer': 680, 'beers': 681, 'bees': 682, 'beet': 683, 'beetle': 684, 'beets': 685, 'before': 686, 'begging': 687, 'begin': 688, 'beginning': 689, 'begins': 690, 'behind': 691, 'beige': 692, 'being': 693, 'believing': 694, 'bell': 695, 'bells': 696, 'belly': 697, 'belong': 698, 'belonging': 699, 'belongings': 700, 'belongs': 701, 'below': 702, 'belt': 703, 'ben': 704, 'bench': 705, 'benches': 706, 'bend': 707, 'bending': 708, 'bends': 709, 'beneath': 710, 'bent': 711, 'bento': 712, 'benz': 713, 'beret': 714, 'berries': 715, 'berry': 716, 'beside': 717, 'besides': 718, 'bespectacled': 719, 'best': 720, 'better': 721, 'between': 722, 'beverage': 723, 'beverages': 724, 'beware': 725, 'beyond': 726, 'bi': 727, 'biathlon': 728, 'bib': 729, 'bible': 730, 'bicycle': 731, 'bicycles': 732, 'bicycling': 733, 'bicyclist': 734, 'bicyclists': 735, 'bid': 736, 'bidet': 737, 'big': 738, 'bigger': 739, 'bike': 740, 'biker': 741, 'bikers': 742, 'bikes': 743, 'biking': 744, 'bikini': 745, 'bikinis': 746, 'bill': 747, 'billboard': 748, 'billboards': 749, 'billowing': 750, 'billows': 751, 'bills': 752, 'bin': 753, 'binder': 754, 'binders': 755, 'binoculars': 756, 'bins': 757, 'biplane': 758, 'biplanes': 759, 'birch': 760, 'bird': 761, 'birdcage': 762, 'birdhouse': 763, 'birds': 764, 'birth': 765, 'birthday': 766, 'biscuit': 767, 'biscuits': 768, 'bison': 769, 'bit': 770, 'bite': 771, 'bites': 772, 'biting': 773, 'bits': 774, 'bitten': 775, 'bizarre': 776, 'black': 777, 'blackberries': 778, 'blackberry': 779, 'blackened': 780, 'blacktop': 781, 'blade': 782, 'blades': 783, 'blank': 784, 'blanket': 785, 'blankets': 786, 'blast': 787, 'blaze': 788, 'blazer': 789, 'blazing': 790, 'bleacher': 791, 'bleachers': 792, 'bleak': 793, 'bleeding': 794, 'blend': 795, 'blended': 796, 'blender': 797, 'blenders': 798, 'blending': 799, 'blind': 800, 'blinder': 801, 'blinders': 802, 'blindfold': 803, 'blindfolded': 804, 'blinds': 805, 'blizzard': 806, 'block': 807, 'blocked': 808, 'blocking': 809, 'blocks': 810, 'blond': 811, 'blonde': 812, 'blood': 813, 'bloody': 814, 'bloom': 815, 'blooming': 816, 'blooms': 817, 'blossom': 818, 'blossoms': 819, 'blouse': 820, 'blow': 821, 'blowing': 822, 'blown': 823, 'blows': 824, 'blt': 825, 'blue': 826, 'blueberries': 827, 'blueberry': 828, 'bluebird': 829, 'blues': 830, 'bluff': 831, 'blur': 832, 'blurred': 833, 'blurry': 834, 'blvd': 835, 'bmw': 836, 'boad': 837, 'boar': 838, 'board': 839, 'boarded': 840, 'boarder': 841, 'boarders': 842, 'boarding': 843, 'boards': 844, 'boardwalk': 845, 'boars': 846, 'boat': 847, 'boaters': 848, 'boating': 849, 'boats': 850, 'bodies': 851, 'body': 852, 'bodyboard': 853, 'bodyboarding': 854, 'bodysuit': 855, 'boeing': 856, 'boiled': 857, 'boiling': 858, 'bold': 859, 'bomb': 860, 'bomber': 861, 'bonds': 862, 'bone': 863, 'bones': 864, 'bonsai': 865, 'boogie': 866, 'book': 867, 'bookbag': 868, 'bookcase': 869, 'bookcases': 870, 'books': 871, 'bookshelf': 872, 'bookshelves': 873, 'bookstore': 874, 'boom': 875, 'booster': 876, 'boot': 877, 'booth': 878, 'booths': 879, 'boots': 880, 'booty': 881, 'booze': 882, 'border': 883, 'bordered': 884, 'bordering': 885, 'borders': 886, 'bored': 887, 'boring': 888, 'born': 889, 'boston': 890, 'bot': 891, 'both': 892, 'bottle': 893, 'bottled': 894, 'bottles': 895, 'bottom': 896, 'bottoms': 897, 'bought': 898, 'boulder': 899, 'boulders': 900, 'boulevard': 901, 'bounces': 902, 'bouncing': 903, 'bound': 904, 'boundary': 905, 'bouquet': 906, 'bouquets': 907, 'bourbon': 908, 'boutonniere': 909, 'bovine': 910, 'bow': 911, 'bowed': 912, 'bowel': 913, 'bowing': 914, 'bowl': 915, 'bowler': 916, 'bowling': 917, 'bowls': 918, 'bows': 919, 'bowtie': 920, 'box': 921, 'boxcar': 922, 'boxcars': 923, 'boxed': 924, 'boxers': 925, 'boxes': 926, 'boxing': 927, 'boy': 928, 'boys': 929, 'bra': 930, 'brace': 931, 'bracelet': 932, 'bracelets': 933, 'braces': 934, 'brahma': 935, 'braided': 936, 'brake': 937, 'brakes': 938, 'branch': 939, 'branches': 940, 'brand': 941, 'branded': 942, 'brass': 943, 'bratwurst': 944, 'brave': 945, 'bread': 946, 'breaded': 947, 'breads': 948, 'break': 949, 'breakfast': 950, 'breaking': 951, 'breaks': 952, 'breast': 953, 'breasted': 954, 'breasts': 955, 'breath': 956, 'breed': 957, 'breeds': 958, 'breeze': 959, 'brick': 960, 'bricked': 961, 'bricks': 962, 'bridal': 963, 'bride': 964, 'brides': 965, 'bridge': 966, 'bridges': 967, 'bridle': 968, 'bridled': 969, 'brief': 970, 'briefcase': 971, 'briefcases': 972, 'bright': 973, 'brightly': 974, 'brim': 975, 'brimmed': 976, 'bring': 977, 'bringing': 978, 'brings': 979, 'bristles': 980, 'britain': 981, 'british': 982, 'broad': 983, 'broadly': 984, 'broadway': 985, 'broccoli': 986, 'broccolli': 987, 'brochure': 988, 'brochures': 989, 'brocolli': 990, 'broiled': 991, 'broiler': 992, 'broke': 993, 'broken': 994, 'bronco': 995, 'bronze': 996, 'broom': 997, 'broth': 998, 'brother': 999, 'brothers': 1000, 'brought': 1001, 'brown': 1002, 'browned': 1003, 'brownie': 1004, 'brownies': 1005, 'browning': 1006, 'brownish': 1007, 'browns': 1008, 'browse': 1009, 'browses': 1010, 'browsing': 1011, 'bruised': 1012, 'brunch': 1013, 'brunette': 1014, 'brush': 1015, 'brushed': 1016, 'brushes': 1017, 'brushing': 1018, 'brushy': 1019, 'brussel': 1020, 'bubble': 1021, 'bubbles': 1022, 'bubbling': 1023, 'bubbly': 1024, 'bucket': 1025, 'buckets': 1026, 'bucking': 1027, 'buckled': 1028, 'bucks': 1029, 'bud': 1030, 'buddha': 1031, 'buddhist': 1032, 'buddy': 1033, 'buds': 1034, 'budweiser': 1035, 'buffalo': 1036, 'buffet': 1037, 'bug': 1038, 'buggies': 1039, 'buggy': 1040, 'bugs': 1041, 'buiding': 1042, 'buidling': 1043, 'build': 1044, 'building': 1045, 'buildings': 1046, 'built': 1047, 'bulb': 1048, 'bulbs': 1049, 'bulding': 1050, 'buldings': 1051, 'buliding': 1052, 'bulidings': 1053, 'bull': 1054, 'bulldog': 1055, 'bulldozer': 1056, 'bullet': 1057, 'bulletin': 1058, 'bullpen': 1059, 'bulls': 1060, 'bump': 1061, 'bumper': 1062, 'bumping': 1063, 'bumps': 1064, 'bun': 1065, 'bunch': 1066, 'bunched': 1067, 'bunches': 1068, 'bundle': 1069, 'bundled': 1070, 'bundles': 1071, 'bundt': 1072, 'bunk': 1073, 'bunny': 1074, 'buns': 1075, 'bunt': 1076, 'bunting': 1077, 'buoy': 1078, 'buoys': 1079, 'bureau': 1080, 'burger': 1081, 'burgers': 1082, 'burgundy': 1083, 'buried': 1084, 'burned': 1085, 'burner': 1086, 'burners': 1087, 'burning': 1088, 'burnt': 1089, 'burrito': 1090, 'burritos': 1091, 'bus': 1092, 'buses': 1093, 'bush': 1094, 'bushel': 1095, 'bushels': 1096, 'bushes': 1097, 'bushy': 1098, 'busily': 1099, 'business': 1100, 'businesses': 1101, 'businessman': 1102, 'businessmen': 1103, 'buss': 1104, 'busses': 1105, 'bust': 1106, 'busted': 1107, 'bustling': 1108, 'busy': 1109, 'but': 1110, 'butcher': 1111, 'butt': 1112, 'butter': 1113, 'buttered': 1114, 'butterflies': 1115, 'butterfly': 1116, 'buttery': 1117, 'butting': 1118, 'button': 1119, 'buttons': 1120, 'butts': 1121, 'buy': 1122, 'buying': 1123, 'by': 1124, 'bystanders': 1125, 'c': 1126, 'cab': 1127, 'cabbage': 1128, 'cabbages': 1129, 'cabin': 1130, 'cabinet': 1131, 'cabinetry': 1132, 'cabinets': 1133, 'cabins': 1134, 'cable': 1135, 'cables': 1136, 'caboose': 1137, 'cabs': 1138, 'cacti': 1139, 'cactus': 1140, 'caddy': 1141, 'cafe': 1142, 'cafeteria': 1143, 'cage': 1144, 'caged': 1145, 'cages': 1146, 'cake': 1147, 'caked': 1148, 'cakes': 1149, 'cal': 1150, 'calculator': 1151, 'calculators': 1152, 'calendar': 1153, 'calf': 1154, 'calfs': 1155, 'calico': 1156, 'california': 1157, 'call': 1158, 'called': 1159, 'calling': 1160, 'calls': 1161, 'calm': 1162, 'calmly': 1163, 'calories': 1164, 'calves': 1165, 'calzone': 1166, 'calzones': 1167, 'cam': 1168, 'came': 1169, 'camel': 1170, 'camera': 1171, 'cameraman': 1172, 'cameras': 1173, 'camo': 1174, 'camouflage': 1175, 'camouflaged': 1176, 'camp': 1177, 'campaign': 1178, 'camper': 1179, 'campers': 1180, 'campground': 1181, 'camping': 1182, 'campsite': 1183, 'campus': 1184, 'can': 1185, 'canada': 1186, 'canadian': 1187, 'canal': 1188, 'candies': 1189, 'candle': 1190, 'candlelight': 1191, 'candles': 1192, 'candlesticks': 1193, 'candy': 1194, 'cane': 1195, 'canes': 1196, 'canister': 1197, 'canisters': 1198, 'canned': 1199, 'canning': 1200, 'cannon': 1201, 'cannot': 1202, 'canoe': 1203, 'canoes': 1204, 'canopies': 1205, 'canopy': 1206, 'cans': 1207, 'cant': 1208, 'cantaloupe': 1209, 'canvas': 1210, 'canyon': 1211, 'cap': 1212, 'capable': 1213, 'cape': 1214, 'capital': 1215, 'capitol': 1216, 'capped': 1217, 'cappuccino': 1218, 'caps': 1219, 'captain': 1220, 'caption': 1221, 'captive': 1222, 'captivity': 1223, 'capture': 1224, 'captured': 1225, 'captures': 1226, 'car': 1227, 'carafe': 1228, 'caramel': 1229, 'caravan': 1230, 'carcass': 1231, 'card': 1232, 'cardboard': 1233, 'cardigan': 1234, 'cardinal': 1235, 'cards': 1236, 'care': 1237, 'careful': 1238, 'carefully': 1239, 'cargo': 1240, 'caring': 1241, 'carnation': 1242, 'carnations': 1243, 'carnival': 1244, 'carousel': 1245, 'carpet': 1246, 'carpeted': 1247, 'carpeting': 1248, 'carpets': 1249, 'carraige': 1250, 'carriage': 1251, 'carriages': 1252, 'carried': 1253, 'carrier': 1254, 'carriers': 1255, 'carries': 1256, 'carring': 1257, 'carrot': 1258, 'carrots': 1259, 'carry': 1260, 'carrying': 1261, 'cars': 1262, 'cart': 1263, 'carting': 1264, 'carton': 1265, 'cartons': 1266, 'cartoon': 1267, 'cartoonish': 1268, 'cartoons': 1269, 'carts': 1270, 'carved': 1271, 'carves': 1272, 'carving': 1273, 'carvings': 1274, 'case': 1275, 'cases': 1276, 'cash': 1277, 'cashews': 1278, 'casing': 1279, 'casino': 1280, 'casserole': 1281, 'cast': 1282, 'casting': 1283, 'castle': 1284, 'casts': 1285, 'casual': 1286, 'casually': 1287, 'cat': 1288, 'catamaran': 1289, 'catch': 1290, 'catcher': 1291, 'catchers': 1292, 'catches': 1293, 'catching': 1294, 'catering': 1295, 'caterpillar': 1296, 'cathedral': 1297, 'catholic': 1298, 'cats': 1299, 'catsup': 1300, 'cattle': 1301, 'caucasian': 1302, 'caught': 1303, 'cauliflower': 1304, 'cause': 1305, 'causing': 1306, 'caution': 1307, 'cave': 1308, 'cay': 1309, 'cd': 1310, 'cds': 1311, 'ceiling': 1312, 'ceilings': 1313, 'cel': 1314, 'celebrate': 1315, 'celebrates': 1316, 'celebrating': 1317, 'celebration': 1318, 'celebratory': 1319, 'celery': 1320, 'cell': 1321, 'cellar': 1322, 'cellphone': 1323, 'cellphones': 1324, 'cellular': 1325, 'cement': 1326, 'cemetary': 1327, 'cemetery': 1328, 'center': 1329, 'centered': 1330, 'centerpiece': 1331, 'centers': 1332, 'central': 1333, 'centre': 1334, 'cents': 1335, 'century': 1336, 'ceramic': 1337, 'ceramics': 1338, 'cereal': 1339, 'ceremonial': 1340, 'ceremony': 1341, 'certain': 1342, 'certainly': 1343, 'cgi': 1344, 'chain': 1345, 'chained': 1346, 'chains': 1347, 'chair': 1348, 'chairlift': 1349, 'chairs': 1350, 'chaise': 1351, 'chalk': 1352, 'chalkboard': 1353, 'challenging': 1354, 'champagne': 1355, 'chance': 1356, 'chandelier': 1357, 'chandeliers': 1358, 'change': 1359, 'changed': 1360, 'changes': 1361, 'changing': 1362, 'channel': 1363, 'chaps': 1364, 'character': 1365, 'characters': 1366, 'charcoal': 1367, 'charge': 1368, 'charger': 1369, 'chargers': 1370, 'charging': 1371, 'charity': 1372, 'charlie': 1373, 'charm': 1374, 'charming': 1375, 'charms': 1376, 'chart': 1377, 'charter': 1378, 'chase': 1379, 'chased': 1380, 'chases': 1381, 'chasing': 1382, 'chat': 1383, 'chats': 1384, 'chatting': 1385, 'cheap': 1386, 'check': 1387, 'checked': 1388, 'checker': 1389, 'checkerboard': 1390, 'checkered': 1391, 'checking': 1392, 'checkout': 1393, 'checkpoint': 1394, 'checks': 1395, 'cheddar': 1396, 'cheek': 1397, 'cheeks': 1398, 'cheer': 1399, 'cheerful': 1400, 'cheering': 1401, 'cheerleader': 1402, 'cheers': 1403, 'chees': 1404, 'cheese': 1405, 'cheeseburger': 1406, 'cheesecake': 1407, 'cheeses': 1408, 'cheesy': 1409, 'cheetah': 1410, 'chef': 1411, 'chefs': 1412, 'cherries': 1413, 'cherry': 1414, 'chess': 1415, 'chest': 1416, 'chested': 1417, 'chestnut': 1418, 'chests': 1419, 'chevrolet': 1420, 'chevy': 1421, 'chew': 1422, 'chewed': 1423, 'chewing': 1424, 'chews': 1425, 'chic': 1426, 'chicago': 1427, 'chick': 1428, 'chicken': 1429, 'chickens': 1430, 'chickpeas': 1431, 'chicks': 1432, 'chihuahua': 1433, 'child': 1434, 'children': 1435, 'childrens': 1436, 'childs': 1437, 'chili': 1438, 'chilled': 1439, 'chilli': 1440, 'chillin': 1441, 'chilling': 1442, 'chilly': 1443, 'chimney': 1444, 'chin': 1445, 'china': 1446, 'chinatown': 1447, 'chinese': 1448, 'chip': 1449, 'chipped': 1450, 'chipping': 1451, 'chips': 1452, 'chiquita': 1453, 'chocolate': 1454, 'chocolates': 1455, 'choice': 1456, 'choices': 1457, 'choir': 1458, 'choking': 1459, 'choo': 1460, 'choose': 1461, 'choosing': 1462, 'chop': 1463, 'chopped': 1464, 'chopper': 1465, 'chopping': 1466, 'choppy': 1467, 'chops': 1468, 'chopsticks': 1469, 'chose': 1470, 'chow': 1471, 'christ': 1472, 'christmas': 1473, 'chrome': 1474, 'chubby': 1475, 'chuck': 1476, 'chugging': 1477, 'chugs': 1478, 'chunk': 1479, 'chunks': 1480, 'chunky': 1481, 'church': 1482, 'chute': 1483, 'ciabatta': 1484, 'cider': 1485, 'cigar': 1486, 'cigarette': 1487, 'cigarettes': 1488, 'cilantro': 1489, 'cinder': 1490, 'cinnamon': 1491, 'circle': 1492, 'circles': 1493, 'circuit': 1494, 'circular': 1495, 'circus': 1496, 'cities': 1497, 'citizen': 1498, 'citizens': 1499, 'citrus': 1500, 'city': 1501, 'cityscape': 1502, 'civil': 1503, 'civilians': 1504, 'clad': 1505, 'claim': 1506, 'clams': 1507, 'clapping': 1508, 'class': 1509, 'classic': 1510, 'classical': 1511, 'classroom': 1512, 'classy': 1513, 'claus': 1514, 'clause': 1515, 'claw': 1516, 'claws': 1517, 'clay': 1518, 'clean': 1519, 'cleaned': 1520, 'cleaner': 1521, 'cleaning': 1522, 'cleans': 1523, 'clear': 1524, 'cleared': 1525, 'clearing': 1526, 'clearly': 1527, 'cleaver': 1528, 'clementine': 1529, 'clementines': 1530, 'click': 1531, 'clicking': 1532, 'cliff': 1533, 'cliffs': 1534, 'climate': 1535, 'climb': 1536, 'climber': 1537, 'climbing': 1538, 'climbs': 1539, 'clinging': 1540, 'clings': 1541, 'clinton': 1542, 'clip': 1543, 'clipboard': 1544, 'clipped': 1545, 'clippers': 1546, 'clipping': 1547, 'clippings': 1548, 'clips': 1549, 'clock': 1550, 'clocks': 1551, 'clocktower': 1552, 'close': 1553, 'closed': 1554, 'closely': 1555, 'closer': 1556, 'closes': 1557, 'closest': 1558, 'closet': 1559, 'closets': 1560, 'closeup': 1561, 'closing': 1562, 'cloth': 1563, 'clothed': 1564, 'clothes': 1565, 'clothesline': 1566, 'clothing': 1567, 'cloths': 1568, 'cloud': 1569, 'clouded': 1570, 'cloudless': 1571, 'clouds': 1572, 'cloudy': 1573, 'clover': 1574, 'clown': 1575, 'clowns': 1576, 'club': 1577, 'clump': 1578, 'clumps': 1579, 'cluster': 1580, 'clustered': 1581, 'clusters': 1582, 'clutches': 1583, 'clutching': 1584, 'clutter': 1585, 'cluttered': 1586, 'clydesdale': 1587, 'co': 1588, 'coach': 1589, 'coached': 1590, 'coaches': 1591, 'coal': 1592, 'coals': 1593, 'coast': 1594, 'coastal': 1595, 'coaster': 1596, 'coasters': 1597, 'coastline': 1598, 'coat': 1599, 'coated': 1600, 'coating': 1601, 'coats': 1602, 'cob': 1603, 'cobble': 1604, 'cobbled': 1605, 'cobblestone': 1606, 'cobblestones': 1607, 'coca': 1608, 'cock': 1609, 'cocking': 1610, 'cockpit': 1611, 'cocktail': 1612, 'coco': 1613, 'cocoa': 1614, 'coconut': 1615, 'coconuts': 1616, 'code': 1617, 'coffe': 1618, 'coffee': 1619, 'coffeemaker': 1620, 'coin': 1621, 'coins': 1622, 'coke': 1623, 'cola': 1624, 'cold': 1625, 'cole': 1626, 'coleslaw': 1627, 'colgate': 1628, 'collage': 1629, 'collar': 1630, 'collared': 1631, 'collars': 1632, 'colleagues': 1633, 'collect': 1634, 'collected': 1635, 'collectible': 1636, 'collectibles': 1637, 'collecting': 1638, 'collection': 1639, 'collector': 1640, 'college': 1641, 'collide': 1642, 'colliding': 1643, 'collie': 1644, 'collision': 1645, 'cologne': 1646, 'colonial': 1647, 'color': 1648, 'colored': 1649, 'colorful': 1650, 'colorfully': 1651, 'coloring': 1652, 'colors': 1653, 'colt': 1654, 'colts': 1655, 'column': 1656, 'columns': 1657, 'com': 1658, 'comb': 1659, 'combat': 1660, 'combed': 1661, 'combination': 1662, 'combined': 1663, 'combines': 1664, 'combing': 1665, 'combo': 1666, 'combs': 1667, 'come': 1668, 'comes': 1669, 'comfort': 1670, 'comfortable': 1671, 'comfortably': 1672, 'comforter': 1673, 'comforters': 1674, 'comfy': 1675, 'comic': 1676, 'comical': 1677, 'comically': 1678, 'comics': 1679, 'coming': 1680, 'commercial': 1681, 'commode': 1682, 'common': 1683, 'community': 1684, 'commuter': 1685, 'commuters': 1686, 'commuting': 1687, 'compact': 1688, 'companion': 1689, 'companions': 1690, 'company': 1691, 'compared': 1692, 'comparing': 1693, 'compartment': 1694, 'compartments': 1695, 'compass': 1696, 'compete': 1697, 'competing': 1698, 'competition': 1699, 'competitive': 1700, 'competitor': 1701, 'competitors': 1702, 'complete': 1703, 'completed': 1704, 'completely': 1705, 'completes': 1706, 'completing': 1707, 'complex': 1708, 'complicated': 1709, 'components': 1710, 'composed': 1711, 'composite': 1712, 'compound': 1713, 'compute': 1714, 'computer': 1715, 'computers': 1716, 'computing': 1717, 'concentrates': 1718, 'concentrating': 1719, 'concept': 1720, 'concerned': 1721, 'concert': 1722, 'concession': 1723, 'concrete': 1724, 'condiment': 1725, 'condiments': 1726, 'condition': 1727, 'conditioner': 1728, 'conditions': 1729, 'condom': 1730, 'condos': 1731, 'conducting': 1732, 'conductor': 1733, 'cone': 1734, 'cones': 1735, 'confection': 1736, 'conference': 1737, 'confetti': 1738, 'confined': 1739, 'confinement': 1740, 'confused': 1741, 'confusing': 1742, 'congested': 1743, 'congratulating': 1744, 'congratulations': 1745, 'congregate': 1746, 'congregating': 1747, 'congress': 1748, 'connect': 1749, 'connected': 1750, 'connecting': 1751, 'connection': 1752, 'connects': 1753, 'consist': 1754, 'consisting': 1755, 'consists': 1756, 'console': 1757, 'consoles': 1758, 'constructed': 1759, 'constructing': 1760, 'construction': 1761, 'consume': 1762, 'consumed': 1763, 'consuming': 1764, 'consumption': 1765, 'contact': 1766, 'contain': 1767, 'contained': 1768, 'container': 1769, 'containers': 1770, 'containing': 1771, 'contains': 1772, 'contemplates': 1773, 'contemplating': 1774, 'contemporary': 1775, 'contending': 1776, 'content': 1777, 'contentedly': 1778, 'contents': 1779, 'contest': 1780, 'continental': 1781, 'continue': 1782, 'continues': 1783, 'contrail': 1784, 'contrails': 1785, 'contraption': 1786, 'contrast': 1787, 'contrasting': 1788, 'control': 1789, 'controlled': 1790, 'controller': 1791, 'controllers': 1792, 'controlling': 1793, 'controls': 1794, 'convenience': 1795, 'convenient': 1796, 'convention': 1797, 'conventional': 1798, 'conversation': 1799, 'conversations': 1800, 'converse': 1801, 'conversing': 1802, 'converted': 1803, 'convertible': 1804, 'convex': 1805, 'conveyer': 1806, 'conveyor': 1807, 'convoy': 1808, 'coo': 1809, 'cook': 1810, 'cookbook': 1811, 'cooked': 1812, 'cooker': 1813, 'cookie': 1814, 'cookies': 1815, 'cooking': 1816, 'cooks': 1817, 'cooktop': 1818, 'cookware': 1819, 'cool': 1820, 'cooler': 1821, 'coolers': 1822, 'cooling': 1823, 'coop': 1824, 'coordinating': 1825, 'cop': 1826, 'copper': 1827, 'cops': 1828, 'copy': 1829, 'coral': 1830, 'cord': 1831, 'corded': 1832, 'cordless': 1833, 'cords': 1834, 'core': 1835, 'corgi': 1836, 'cork': 1837, 'corn': 1838, 'cornbread': 1839, 'corned': 1840, 'corner': 1841, 'corners': 1842, 'cornfield': 1843, 'corona': 1844, 'corporate': 1845, 'corral': 1846, 'correct': 1847, 'corrected': 1848, 'corridor': 1849, 'cosmetic': 1850, 'cosmetics': 1851, 'costume': 1852, 'costumed': 1853, 'costumes': 1854, 'cot': 1855, 'cottage': 1856, 'cotton': 1857, 'couch': 1858, 'couches': 1859, 'cough': 1860, 'could': 1861, 'counter': 1862, 'counters': 1863, 'countertop': 1864, 'countertops': 1865, 'counting': 1866, 'countries': 1867, 'country': 1868, 'countryside': 1869, 'county': 1870, 'coup': 1871, 'coupe': 1872, 'couple': 1873, 'couples': 1874, 'coupons': 1875, 'courch': 1876, 'course': 1877, 'court': 1878, 'courthouse': 1879, 'courtroom': 1880, 'courts': 1881, 'courtyard': 1882, 'cove': 1883, 'cover': 1884, 'covered': 1885, 'covering': 1886, 'coverings': 1887, 'covers': 1888, 'cow': 1889, 'cowboy': 1890, 'cowboys': 1891, 'cowgirl': 1892, 'cows': 1893, 'cozy': 1894, 'crab': 1895, 'crabs': 1896, 'crack': 1897, 'cracked': 1898, 'cracker': 1899, 'crackers': 1900, 'cracks': 1901, 'cradle': 1902, 'craft': 1903, 'crafted': 1904, 'crafting': 1905, 'crafts': 1906, 'craggy': 1907, 'crammed': 1908, 'cramped': 1909, 'cranberries': 1910, 'cranberry': 1911, 'crane': 1912, 'cranes': 1913, 'crash': 1914, 'crashed': 1915, 'crashes': 1916, 'crashing': 1917, 'crate': 1918, 'crater': 1919, 'crates': 1920, 'crawling': 1921, 'crawls': 1922, 'crayons': 1923, 'crazy': 1924, 'cream': 1925, 'creamer': 1926, 'creams': 1927, 'creamy': 1928, 'create': 1929, 'created': 1930, 'creates': 1931, 'creating': 1932, 'creation': 1933, 'creative': 1934, 'creatively': 1935, 'creature': 1936, 'creatures': 1937, 'credit': 1938, 'creek': 1939, 'creepy': 1940, 'creme': 1941, 'crepe': 1942, 'crepes': 1943, 'crescent': 1944, 'crest': 1945, 'cresting': 1946, 'crests': 1947, 'crew': 1948, 'crews': 1949, 'crib': 1950, 'cricket': 1951, 'crinkle': 1952, 'crisp': 1953, 'crispy': 1954, 'criss': 1955, 'crochet': 1956, 'crocheted': 1957, 'crock': 1958, 'croissant': 1959, 'croissants': 1960, 'crook': 1961, 'crooked': 1962, 'crop': 1963, 'cropped': 1964, 'crops': 1965, 'croquet': 1966, 'cross': 1967, 'crossbones': 1968, 'crossed': 1969, 'crosses': 1970, 'crossing': 1971, 'crossroad': 1972, 'crossroads': 1973, 'crosswalk': 1974, 'crosswalks': 1975, 'crossword': 1976, 'crotch': 1977, 'crouch': 1978, 'crouched': 1979, 'crouches': 1980, 'crouching': 1981, 'croutons': 1982, 'crow': 1983, 'crowd': 1984, 'crowded': 1985, 'crowding': 1986, 'crowds': 1987, 'crowed': 1988, 'crown': 1989, 'crowns': 1990, 'crows': 1991, 'crt': 1992, 'crude': 1993, 'cruise': 1994, 'cruiser': 1995, 'cruises': 1996, 'cruising': 1997, 'crumb': 1998, 'crumbled': 1999, 'crumbling': 2000, 'crumbs': 2001, 'crumpled': 2002, 'crush': 2003, 'crushed': 2004, 'crust': 2005, 'crusted': 2006, 'crusts': 2007, 'crusty': 2008, 'crying': 2009, 'crystal': 2010, 'cub': 2011, 'cubby': 2012, 'cube': 2013, 'cubed': 2014, 'cubes': 2015, 'cubical': 2016, 'cubicle': 2017, 'cubicles': 2018, 'cubs': 2019, 'cuckoo': 2020, 'cucumber': 2021, 'cucumbers': 2022, 'cuddle': 2023, 'cuddled': 2024, 'cuddles': 2025, 'cuddling': 2026, 'cuisine': 2027, 'culinary': 2028, 'cultural': 2029, 'cup': 2030, 'cupboard': 2031, 'cupboards': 2032, 'cupcake': 2033, 'cupcakes': 2034, 'cupola': 2035, 'cupping': 2036, 'cups': 2037, 'curb': 2038, 'curbside': 2039, 'curio': 2040, 'curiosity': 2041, 'curious': 2042, 'curiously': 2043, 'curl': 2044, 'curled': 2045, 'curls': 2046, 'curly': 2047, 'current': 2048, 'currently': 2049, 'curry': 2050, 'curtain': 2051, 'curtained': 2052, 'curtains': 2053, 'curve': 2054, 'curved': 2055, 'curves': 2056, 'curving': 2057, 'curvy': 2058, 'cushion': 2059, 'cushioned': 2060, 'cushions': 2061, 'custard': 2062, 'custom': 2063, 'customer': 2064, 'customers': 2065, 'customized': 2066, 'cut': 2067, 'cute': 2068, 'cutlery': 2069, 'cutout': 2070, 'cutouts': 2071, 'cuts': 2072, 'cutter': 2073, 'cutters': 2074, 'cutting': 2075, 'cycle': 2076, 'cycles': 2077, 'cycling': 2078, 'cyclist': 2079, 'cyclists': 2080, 'cylinder': 2081, 'd': 2082, 'dachshund': 2083, 'dad': 2084, 'daffodils': 2085, 'daily': 2086, 'dairy': 2087, 'daisies': 2088, 'daisy': 2089, 'dalmatian': 2090, 'dalmation': 2091, 'dam': 2092, 'damage': 2093, 'damaged': 2094, 'damp': 2095, 'dance': 2096, 'dancer': 2097, 'dancers': 2098, 'dances': 2099, 'dancing': 2100, 'dandelion': 2101, 'dandelions': 2102, 'danger': 2103, 'dangerous': 2104, 'dangerously': 2105, 'dangled': 2106, 'dangling': 2107, 'danish': 2108, 'dark': 2109, 'darkened': 2110, 'darker': 2111, 'darkly': 2112, 'darkness': 2113, 'darth': 2114, 'dash': 2115, 'dashboard': 2116, 'data': 2117, 'date': 2118, 'dated': 2119, 'daughter': 2120, 'daughters': 2121, 'davidson': 2122, 'dawn': 2123, 'day': 2124, 'daybed': 2125, 'daylight': 2126, 'days': 2127, 'daytime': 2128, 'dc': 2129, 'de': 2130, 'dead': 2131, 'deal': 2132, 'dealership': 2133, 'dear': 2134, 'death': 2135, 'debris': 2136, 'decal': 2137, 'decals': 2138, 'decaying': 2139, 'decent': 2140, 'decided': 2141, 'decides': 2142, 'deciding': 2143, 'deck': 2144, 'decked': 2145, 'decker': 2146, 'deckered': 2147, 'decks': 2148, 'decline': 2149, 'deco': 2150, 'decor': 2151, 'decorate': 2152, 'decorated': 2153, 'decorates': 2154, 'decorating': 2155, 'decoration': 2156, 'decorations': 2157, 'decorative': 2158, 'decoratively': 2159, 'decrepit': 2160, 'dedicated': 2161, 'deep': 2162, 'deer': 2163, 'defaced': 2164, 'defense': 2165, 'defensive': 2166, 'definitely': 2167, 'deflated': 2168, 'deformed': 2169, 'del': 2170, 'delectable': 2171, 'deli': 2172, 'delicacy': 2173, 'delicate': 2174, 'delicious': 2175, 'delicous': 2176, 'delight': 2177, 'deliver': 2178, 'delivered': 2179, 'delivering': 2180, 'delivers': 2181, 'delivery': 2182, 'dell': 2183, 'delta': 2184, 'demolished': 2185, 'demon': 2186, 'demonic': 2187, 'demonstrate': 2188, 'demonstrates': 2189, 'demonstrating': 2190, 'demonstration': 2191, 'den': 2192, 'denim': 2193, 'dense': 2194, 'densely': 2195, 'dental': 2196, 'dented': 2197, 'dentist': 2198, 'deodorant': 2199, 'depart': 2200, 'departing': 2201, 'department': 2202, 'departure': 2203, 'depicted': 2204, 'depicting': 2205, 'depiction': 2206, 'depicts': 2207, 'deployed': 2208, 'depot': 2209, 'derby': 2210, 'derelict': 2211, 'descend': 2212, 'descending': 2213, 'descends': 2214, 'descent': 2215, 'describe': 2216, 'describing': 2217, 'description': 2218, 'desert': 2219, 'deserted': 2220, 'deserts': 2221, 'design': 2222, 'designated': 2223, 'designed': 2224, 'designer': 2225, 'designs': 2226, 'desk': 2227, 'desks': 2228, 'desktop': 2229, 'desolate': 2230, 'despite': 2231, 'dessert': 2232, 'desserts': 2233, 'destination': 2234, 'destinations': 2235, 'destroyed': 2236, 'detail': 2237, 'detailed': 2238, 'detailing': 2239, 'details': 2240, 'determined': 2241, 'detour': 2242, 'detroit': 2243, 'developed': 2244, 'development': 2245, 'device': 2246, 'devices': 2247, 'devil': 2248, 'devoid': 2249, 'dew': 2250, 'dhl': 2251, 'diagonal': 2252, 'diagonally': 2253, 'diagram': 2254, 'dial': 2255, 'dials': 2256, 'diamond': 2257, 'diaper': 2258, 'diapers': 2259, 'dice': 2260, 'diced': 2261, 'dicing': 2262, 'dick': 2263, 'did': 2264, 'die': 2265, 'diesel': 2266, 'diet': 2267, 'different': 2268, 'differently': 2269, 'differnt': 2270, 'difficult': 2271, 'diffrent': 2272, 'dig': 2273, 'digging': 2274, 'digital': 2275, 'digs': 2276, 'dilapidated': 2277, 'dim': 2278, 'dimly': 2279, 'dine': 2280, 'diner': 2281, 'diners': 2282, 'dinette': 2283, 'dingy': 2284, 'dining': 2285, 'dinner': 2286, 'dinnerware': 2287, 'dinning': 2288, 'dinosaur': 2289, 'dinosaurs': 2290, 'diorama': 2291, 'dip': 2292, 'dipped': 2293, 'dipping': 2294, 'dips': 2295, 'direct': 2296, 'directed': 2297, 'directing': 2298, 'direction': 2299, 'directional': 2300, 'directions': 2301, 'directly': 2302, 'director': 2303, 'directs': 2304, 'dirt': 2305, 'dirtbike': 2306, 'dirty': 2307, 'disabled': 2308, 'disarray': 2309, 'disassembled': 2310, 'disc': 2311, 'discarded': 2312, 'disco': 2313, 'discs': 2314, 'discuss': 2315, 'discussing': 2316, 'discussion': 2317, 'disembark': 2318, 'disembarking': 2319, 'disgusting': 2320, 'dish': 2321, 'dishes': 2322, 'disheveled': 2323, 'dishwasher': 2324, 'disk': 2325, 'disks': 2326, 'dismantled': 2327, 'disney': 2328, 'disorganized': 2329, 'dispenser': 2330, 'dispensers': 2331, 'dispensing': 2332, 'display': 2333, 'displayed': 2334, 'displaying': 2335, 'displays': 2336, 'disposable': 2337, 'disposal': 2338, 'disrepair': 2339, 'distance': 2340, 'distant': 2341, 'distinct': 2342, 'distorted': 2343, 'district': 2344, 'ditch': 2345, 'dive': 2346, 'divers': 2347, 'diverse': 2348, 'dives': 2349, 'divided': 2350, 'divider': 2351, 'dividers': 2352, 'dividing': 2353, 'diving': 2354, 'dj': 2355, 'do': 2356, 'dock': 2357, 'docked': 2358, 'docking': 2359, 'docks': 2360, 'doctor': 2361, 'doctors': 2362, 'document': 2363, 'documents': 2364, 'dodge': 2365, 'dodgers': 2366, 'dodging': 2367, 'does': 2368, 'doesn': 2369, 'dog': 2370, 'doggie': 2371, 'doggy': 2372, 'dogs': 2373, 'doily': 2374, 'doing': 2375, 'dole': 2376, 'doll': 2377, 'dollar': 2378, 'dollars': 2379, 'dollhouse': 2380, 'dollop': 2381, 'dolls': 2382, 'dolly': 2383, 'dolphin': 2384, 'dolphins': 2385, 'dome': 2386, 'domed': 2387, 'domestic': 2388, 'don': 2389, 'donation': 2390, 'done': 2391, 'donkey': 2392, 'donkeys': 2393, 'dont': 2394, 'donut': 2395, 'donuts': 2396, 'doodling': 2397, 'door': 2398, 'doors': 2399, 'doorway': 2400, 'doorways': 2401, 'dorm': 2402, 'dot': 2403, 'dots': 2404, 'dotted': 2405, 'double': 2406, 'doubledecker': 2407, 'doubles': 2408, 'dough': 2409, 'doughnut': 2410, 'doughnuts': 2411, 'dougnuts': 2412, 'dove': 2413, 'down': 2414, 'downed': 2415, 'downhill': 2416, 'downstairs': 2417, 'downtown': 2418, 'downward': 2419, 'downwards': 2420, 'dozen': 2421, 'dozens': 2422, 'dr': 2423, 'drab': 2424, 'draft': 2425, 'drag': 2426, 'dragged': 2427, 'dragging': 2428, 'dragon': 2429, 'drags': 2430, 'drain': 2431, 'drainage': 2432, 'dramatic': 2433, 'dramatically': 2434, 'drape': 2435, 'draped': 2436, 'drapes': 2437, 'draw': 2438, 'drawer': 2439, 'drawers': 2440, 'drawing': 2441, 'drawings': 2442, 'drawn': 2443, 'draws': 2444, 'dread': 2445, 'dreadlocks': 2446, 'dreads': 2447, 'dreary': 2448, 'drenched': 2449, 'dress': 2450, 'dressed': 2451, 'dresser': 2452, 'dressers': 2453, 'dresses': 2454, 'dressing': 2455, 'dribbles': 2456, 'dribbling': 2457, 'dried': 2458, 'drier': 2459, 'dries': 2460, 'drift': 2461, 'drifting': 2462, 'drifts': 2463, 'driftwood': 2464, 'drill': 2465, 'drilling': 2466, 'drink': 2467, 'drinking': 2468, 'drinks': 2469, 'dripping': 2470, 'drive': 2471, 'driven': 2472, 'driver': 2473, 'drivers': 2474, 'drives': 2475, 'driveway': 2476, 'driving': 2477, 'drizzled': 2478, 'drizzling': 2479, 'drooping': 2480, 'drop': 2481, 'dropped': 2482, 'dropping': 2483, 'drops': 2484, 'drum': 2485, 'drums': 2486, 'drunk': 2487, 'dry': 2488, 'dryer': 2489, 'drying': 2490, 'dual': 2491, 'duck': 2492, 'ducking': 2493, 'ducklings': 2494, 'ducks': 2495, 'ducky': 2496, 'duct': 2497, 'dude': 2498, 'dudes': 2499, 'due': 2500, 'duel': 2501, 'duffel': 2502, 'duffle': 2503, 'dug': 2504, 'dugout': 2505, 'dull': 2506, 'dumb': 2507, 'dummies': 2508, 'dummy': 2509, 'dump': 2510, 'dumped': 2511, 'dumping': 2512, 'dumplings': 2513, 'dumpster': 2514, 'dune': 2515, 'dunes': 2516, 'dunk': 2517, 'dunkin': 2518, 'dunking': 2519, 'duo': 2520, 'duplicate': 2521, 'during': 2522, 'dusk': 2523, 'dust': 2524, 'dusted': 2525, 'duster': 2526, 'dusting': 2527, 'dusty': 2528, 'duty': 2529, 'duvet': 2530, 'dvd': 2531, 'dvds': 2532, 'dwarfed': 2533, 'dwelling': 2534, 'dye': 2535, 'dyed': 2536, 'dying': 2537, 'dynamite': 2538, 'e': 2539, 'each': 2540, 'eachother': 2541, 'eager': 2542, 'eagerly': 2543, 'eagle': 2544, 'ear': 2545, 'earbuds': 2546, 'earlier': 2547, 'early': 2548, 'earphones': 2549, 'earrings': 2550, 'ears': 2551, 'earth': 2552, 'ease': 2553, 'easel': 2554, 'easily': 2555, 'east': 2556, 'easter': 2557, 'eastern': 2558, 'easy': 2559, 'eat': 2560, 'eaten': 2561, 'eatery': 2562, 'eating': 2563, 'eats': 2564, 'eatting': 2565, 'eclectic': 2566, 'ed': 2567, 'edge': 2568, 'edged': 2569, 'edges': 2570, 'edible': 2571, 'edited': 2572, 'effect': 2573, 'effects': 2574, 'efficiency': 2575, 'efficient': 2576, 'effort': 2577, 'egg': 2578, 'eggplant': 2579, 'eggs': 2580, 'egret': 2581, 'egyptian': 2582, 'eiffel': 2583, 'eight': 2584, 'eighteen': 2585, 'either': 2586, 'elaborate': 2587, 'elaborately': 2588, 'elbow': 2589, 'elbows': 2590, 'elder': 2591, 'elderly': 2592, 'electric': 2593, 'electrical': 2594, 'electricity': 2595, 'electronic': 2596, 'electronics': 2597, 'elegant': 2598, 'elegantly': 2599, 'elements': 2600, 'elephant': 2601, 'elephants': 2602, 'elevated': 2603, 'elevator': 2604, 'eleven': 2605, 'elf': 2606, 'elizabeth': 2607, 'elk': 2608, 'elongated': 2609, 'else': 2610, 'elvis': 2611, 'email': 2612, 'embankment': 2613, 'embedded': 2614, 'embellished': 2615, 'emblem': 2616, 'embrace': 2617, 'embracing': 2618, 'embroidered': 2619, 'emergency': 2620, 'emerges': 2621, 'emerging': 2622, 'emirates': 2623, 'emitting': 2624, 'emo': 2625, 'empire': 2626, 'employee': 2627, 'employees': 2628, 'emptied': 2629, 'empty': 2630, 'emptying': 2631, 'en': 2632, 'encased': 2633, 'enclose': 2634, 'enclosed': 2635, 'enclosure': 2636, 'enclosures': 2637, 'end': 2638, 'ending': 2639, 'ends': 2640, 'energy': 2641, 'enforcement': 2642, 'engage': 2643, 'engaged': 2644, 'engaging': 2645, 'engine': 2646, 'engineer': 2647, 'engines': 2648, 'england': 2649, 'english': 2650, 'engraved': 2651, 'enjoy': 2652, 'enjoyed': 2653, 'enjoying': 2654, 'enjoyment': 2655, 'enjoys': 2656, 'enormous': 2657, 'enough': 2658, 'ensemble': 2659, 'enter': 2660, 'entering': 2661, 'enters': 2662, 'entertainer': 2663, 'entertaining': 2664, 'entertainment': 2665, 'enthusiast': 2666, 'enthusiastically': 2667, 'enthusiasts': 2668, 'entire': 2669, 'entirely': 2670, 'entrance': 2671, 'entree': 2672, 'entrees': 2673, 'entry': 2674, 'entryway': 2675, 'entwined': 2676, 'envelope': 2677, 'envelopes': 2678, 'environment': 2679, 'equestrian': 2680, 'equestrians': 2681, 'equipment': 2682, 'equipped': 2683, 'era': 2684, 'erase': 2685, 'erect': 2686, 'erected': 2687, 'ergonomic': 2688, 'escalator': 2689, 'escape': 2690, 'escort': 2691, 'escorted': 2692, 'escorting': 2693, 'especially': 2694, 'espresso': 2695, 'essentials': 2696, 'establishment': 2697, 'estate': 2698, 'etc': 2699, 'etched': 2700, 'ethnic': 2701, 'euro': 2702, 'europe': 2703, 'european': 2704, 'eva': 2705, 'even': 2706, 'evening': 2707, 'evenly': 2708, 'event': 2709, 'ever': 2710, 'evergreen': 2711, 'evergreens': 2712, 'every': 2713, 'everyone': 2714, 'everything': 2715, 'everywhere': 2716, 'evil': 2717, 'ewe': 2718, 'ex': 2719, 'exact': 2720, 'exactly': 2721, 'examine': 2722, 'examined': 2723, 'examines': 2724, 'examining': 2725, 'example': 2726, 'excellent': 2727, 'except': 2728, 'exceptionally': 2729, 'exchange': 2730, 'exchanging': 2731, 'excited': 2732, 'excitedly': 2733, 'excitement': 2734, 'exciting': 2735, 'executes': 2736, 'executing': 2737, 'executive': 2738, 'exercise': 2739, 'exercises': 2740, 'exercising': 2741, 'exhaust': 2742, 'exhausted': 2743, 'exhibit': 2744, 'exhibition': 2745, 'exit': 2746, 'exiting': 2747, 'exits': 2748, 'exotic': 2749, 'expanse': 2750, 'expansive': 2751, 'expensive': 2752, 'experience': 2753, 'experiment': 2754, 'expert': 2755, 'expertly': 2756, 'expired': 2757, 'explaining': 2758, 'exploring': 2759, 'expo': 2760, 'exposed': 2761, 'exposure': 2762, 'express': 2763, 'expressing': 2764, 'expression': 2765, 'expressions': 2766, 'extend': 2767, 'extended': 2768, 'extending': 2769, 'extends': 2770, 'extension': 2771, 'extensive': 2772, 'exterior': 2773, 'external': 2774, 'extinguisher': 2775, 'extra': 2776, 'extraordinary': 2777, 'extravagant': 2778, 'extreme': 2779, 'extremely': 2780, 'eye': 2781, 'eyeballs': 2782, 'eyed': 2783, 'eyeglasses': 2784, 'eyeing': 2785, 'eyes': 2786, 'f': 2787, 'fabric': 2788, 'fabrics': 2789, 'fabulous': 2790, 'facade': 2791, 'face': 2792, 'faced': 2793, 'faces': 2794, 'facet': 2795, 'facial': 2796, 'facility': 2797, 'facing': 2798, 'factory': 2799, 'faded': 2800, 'fading': 2801, 'failing': 2802, 'faint': 2803, 'fair': 2804, 'fairly': 2805, 'fairy': 2806, 'fake': 2807, 'falcon': 2808, 'fall': 2809, 'fallen': 2810, 'falling': 2811, 'falls': 2812, 'false': 2813, 'families': 2814, 'family': 2815, 'famous': 2816, 'fan': 2817, 'fancily': 2818, 'fancy': 2819, 'fans': 2820, 'far': 2821, 'farm': 2822, 'farmer': 2823, 'farmers': 2824, 'farmhouse': 2825, 'farming': 2826, 'farmland': 2827, 'farther': 2828, 'fascinated': 2829, 'fascinating': 2830, 'fashion': 2831, 'fashionable': 2832, 'fashioned': 2833, 'fast': 2834, 'fastened': 2835, 'faster': 2836, 'fat': 2837, 'father': 2838, 'fatigues': 2839, 'faucet': 2840, 'faucets': 2841, 'faux': 2842, 'favorite': 2843, 'fe': 2844, 'feast': 2845, 'feasting': 2846, 'feather': 2847, 'feathered': 2848, 'feathers': 2849, 'feathery': 2850, 'feature': 2851, 'featured': 2852, 'features': 2853, 'featuring': 2854, 'fed': 2855, 'fedex': 2856, 'fedora': 2857, 'feed': 2858, 'feeder': 2859, 'feeders': 2860, 'feeding': 2861, 'feeds': 2862, 'feel': 2863, 'feeling': 2864, 'feet': 2865, 'feild': 2866, 'fell': 2867, 'fellow': 2868, 'felt': 2869, 'female': 2870, 'females': 2871, 'feminine': 2872, 'fence': 2873, 'fenced': 2874, 'fences': 2875, 'fencing': 2876, 'fender': 2877, 'fern': 2878, 'ferns': 2879, 'ferret': 2880, 'ferries': 2881, 'ferris': 2882, 'ferry': 2883, 'festival': 2884, 'festive': 2885, 'feta': 2886, 'fetch': 2887, 'fettuccine': 2888, 'few': 2889, 'fez': 2890, 'fiddling': 2891, 'field': 2892, 'fielder': 2893, 'fields': 2894, 'fierce': 2895, 'fifteen': 2896, 'fifth': 2897, 'fifties': 2898, 'fight': 2899, 'fighter': 2900, 'fighters': 2901, 'fighting': 2902, 'figs': 2903, 'figure': 2904, 'figures': 2905, 'figurine': 2906, 'figurines': 2907, 'file': 2908, 'filed': 2909, 'files': 2910, 'filing': 2911, 'fill': 2912, 'filled': 2913, 'filling': 2914, 'fills': 2915, 'film': 2916, 'filmed': 2917, 'filming': 2918, 'films': 2919, 'filter': 2920, 'filtered': 2921, 'filth': 2922, 'filthy': 2923, 'fin': 2924, 'final': 2925, 'find': 2926, 'finding': 2927, 'finds': 2928, 'fine': 2929, 'finely': 2930, 'finger': 2931, 'fingers': 2932, 'fingertips': 2933, 'finish': 2934, 'finished': 2935, 'finishes': 2936, 'finishing': 2937, 'fir': 2938, 'fire': 2939, 'fired': 2940, 'firefighter': 2941, 'firefighters': 2942, 'firehydrant': 2943, 'fireman': 2944, 'firemen': 2945, 'fireplace': 2946, 'fires': 2947, 'firetruck': 2948, 'firetrucks': 2949, 'fireworks': 2950, 'firm': 2951, 'firsbee': 2952, 'first': 2953, 'fish': 2954, 'fisherman': 2955, 'fisheye': 2956, 'fishing': 2957, 'fishnet': 2958, 'fist': 2959, 'fit': 2960, 'fits': 2961, 'fitted': 2962, 'fitting': 2963, 'five': 2964, 'fives': 2965, 'fiving': 2966, 'fix': 2967, 'fixed': 2968, 'fixes': 2969, 'fixing': 2970, 'fixings': 2971, 'fixture': 2972, 'fixtures': 2973, 'flag': 2974, 'flags': 2975, 'flame': 2976, 'flames': 2977, 'flamingo': 2978, 'flamingos': 2979, 'flank': 2980, 'flanked': 2981, 'flannel': 2982, 'flap': 2983, 'flapping': 2984, 'flaps': 2985, 'flash': 2986, 'flashes': 2987, 'flashing': 2988, 'flashlight': 2989, 'flask': 2990, 'flat': 2991, 'flatbed': 2992, 'flatbread': 2993, 'flatscreen': 2994, 'flattened': 2995, 'flatware': 2996, 'flavor': 2997, 'flavored': 2998, 'flavors': 2999, 'flea': 3000, 'fleet': 3001, 'flesh': 3002, 'flickr': 3003, 'fliers': 3004, 'flies': 3005, 'flight': 3006, 'fling': 3007, 'flip': 3008, 'flipped': 3009, 'flippers': 3010, 'flipping': 3011, 'flips': 3012, 'float': 3013, 'floaters': 3014, 'floating': 3015, 'floats': 3016, 'flock': 3017, 'flood': 3018, 'flooded': 3019, 'flooding': 3020, 'floor': 3021, 'floored': 3022, 'flooring': 3023, 'floors': 3024, 'floppy': 3025, 'flops': 3026, 'floral': 3027, 'floret': 3028, 'florets': 3029, 'florida': 3030, 'floss': 3031, 'flotation': 3032, 'flour': 3033, 'flow': 3034, 'flower': 3035, 'flowered': 3036, 'flowering': 3037, 'flowerpot': 3038, 'flowers': 3039, 'flowery': 3040, 'flowing': 3041, 'flown': 3042, 'flows': 3043, 'fluffed': 3044, 'fluffy': 3045, 'fluid': 3046, 'fluorescent': 3047, 'flurry': 3048, 'flush': 3049, 'flushed': 3050, 'flushing': 3051, 'flutes': 3052, 'fly': 3053, 'flyer': 3054, 'flyers': 3055, 'flying': 3056, 'flys': 3057, 'fo': 3058, 'foal': 3059, 'foam': 3060, 'foaming': 3061, 'foamy': 3062, 'focal': 3063, 'focus': 3064, 'focused': 3065, 'focuses': 3066, 'focusing': 3067, 'fog': 3068, 'foggy': 3069, 'foil': 3070, 'foilage': 3071, 'fold': 3072, 'foldable': 3073, 'folded': 3074, 'folder': 3075, 'folders': 3076, 'folding': 3077, 'foliage': 3078, 'folks': 3079, 'follow': 3080, 'followed': 3081, 'following': 3082, 'follows': 3083, 'fondant': 3084, 'font': 3085, 'food': 3086, 'foods': 3087, 'foodstuffs': 3088, 'foot': 3089, 'football': 3090, 'footed': 3091, 'foothills': 3092, 'footlong': 3093, 'footpath': 3094, 'footprints': 3095, 'footstool': 3096, 'for': 3097, 'foraging': 3098, 'force': 3099, 'forces': 3100, 'ford': 3101, 'forefront': 3102, 'foreground': 3103, 'forehand': 3104, 'forehead': 3105, 'foreign': 3106, 'forest': 3107, 'forested': 3108, 'fork': 3109, 'forked': 3110, 'forklift': 3111, 'forks': 3112, 'forlorn': 3113, 'form': 3114, 'formal': 3115, 'formally': 3116, 'formation': 3117, 'formations': 3118, 'former': 3119, 'forming': 3120, 'forrest': 3121, 'fort': 3122, 'forth': 3123, 'forty': 3124, 'forward': 3125, 'found': 3126, 'foundation': 3127, 'fountain': 3128, 'fountains': 3129, 'four': 3130, 'fours': 3131, 'fourth': 3132, 'fowl': 3133, 'fox': 3134, 'foyer': 3135, 'frame': 3136, 'framed': 3137, 'frames': 3138, 'framing': 3139, 'france': 3140, 'francisco': 3141, 'free': 3142, 'freely': 3143, 'freeway': 3144, 'freez': 3145, 'freeze': 3146, 'freezer': 3147, 'freezers': 3148, 'freight': 3149, 'french': 3150, 'fresh': 3151, 'freshly': 3152, 'friday': 3153, 'fridge': 3154, 'fridges': 3155, 'fried': 3156, 'friend': 3157, 'friendly': 3158, 'friends': 3159, 'fries': 3160, 'frilly': 3161, 'frisbe': 3162, 'frisbee': 3163, 'frisbees': 3164, 'frisbie': 3165, 'frisby': 3166, 'fritter': 3167, 'frizbee': 3168, 'fro': 3169, 'frog': 3170, 'frolic': 3171, 'frolicking': 3172, 'from': 3173, 'fron': 3174, 'front': 3175, 'fronted': 3176, 'frontier': 3177, 'fronts': 3178, 'frosted': 3179, 'frosting': 3180, 'frosty': 3181, 'frothy': 3182, 'frown': 3183, 'frowning': 3184, 'frozen': 3185, 'fruit': 3186, 'fruits': 3187, 'fry': 3188, 'fryer': 3189, 'frying': 3190, 'fudge': 3191, 'fuel': 3192, 'fueling': 3193, 'full': 3194, 'fulled': 3195, 'fully': 3196, 'fun': 3197, 'function': 3198, 'functional': 3199, 'funeral': 3200, 'funky': 3201, 'funnel': 3202, 'funny': 3203, 'fur': 3204, 'furnished': 3205, 'furnishing': 3206, 'furnishings': 3207, 'furniture': 3208, 'furred': 3209, 'furry': 3210, 'further': 3211, 'furthest': 3212, 'futon': 3213, 'future': 3214, 'futuristic': 3215, 'fuzzy': 3216, 'g': 3217, 'gadget': 3218, 'gadgets': 3219, 'gain': 3220, 'gaining': 3221, 'gains': 3222, 'gallery': 3223, 'galley': 3224, 'gallon': 3225, 'gallop': 3226, 'galloping': 3227, 'gallops': 3228, 'game': 3229, 'games': 3230, 'gaming': 3231, 'gang': 3232, 'gap': 3233, 'garage': 3234, 'garb': 3235, 'garbage': 3236, 'garden': 3237, 'gardening': 3238, 'garland': 3239, 'garlic': 3240, 'garment': 3241, 'garnish': 3242, 'garnished': 3243, 'garnishes': 3244, 'garnishment': 3245, 'gas': 3246, 'gate': 3247, 'gated': 3248, 'gates': 3249, 'gateway': 3250, 'gather': 3251, 'gathered': 3252, 'gathering': 3253, 'gathers': 3254, 'gatorade': 3255, 'gauges': 3256, 'gauze': 3257, 'gay': 3258, 'gaze': 3259, 'gazebo': 3260, 'gazelle': 3261, 'gazelles': 3262, 'gazes': 3263, 'gazing': 3264, 'gear': 3265, 'geared': 3266, 'gears': 3267, 'geek': 3268, 'geese': 3269, 'geisha': 3270, 'gelato': 3271, 'general': 3272, 'generated': 3273, 'gentle': 3274, 'gentleman': 3275, 'gentlemen': 3276, 'gently': 3277, 'geometric': 3278, 'george': 3279, 'gerbil': 3280, 'german': 3281, 'germany': 3282, 'gesture': 3283, 'gestures': 3284, 'gesturing': 3285, 'get': 3286, 'gets': 3287, 'getting': 3288, 'ghost': 3289, 'giant': 3290, 'giants': 3291, 'gift': 3292, 'gifts': 3293, 'gigantic': 3294, 'gilded': 3295, 'ginger': 3296, 'gingerbread': 3297, 'gingham': 3298, 'girafee': 3299, 'giraff': 3300, 'giraffe': 3301, 'giraffee': 3302, 'giraffes': 3303, 'girl': 3304, 'girlfriend': 3305, 'girls': 3306, 'girraffe': 3307, 'give': 3308, 'given': 3309, 'gives': 3310, 'giving': 3311, 'glare': 3312, 'glares': 3313, 'glaring': 3314, 'glass': 3315, 'glassed': 3316, 'glasses': 3317, 'glassware': 3318, 'glaze': 3319, 'glazed': 3320, 'glazing': 3321, 'gleaming': 3322, 'gleefully': 3323, 'glide': 3324, 'glider': 3325, 'gliders': 3326, 'glides': 3327, 'gliding': 3328, 'glimpse': 3329, 'globe': 3330, 'gloomy': 3331, 'glory': 3332, 'glove': 3333, 'gloved': 3334, 'gloves': 3335, 'glow': 3336, 'glowing': 3337, 'glows': 3338, 'glue': 3339, 'gnar': 3340, 'gnome': 3341, 'go': 3342, 'goal': 3343, 'goalie': 3344, 'goat': 3345, 'goatee': 3346, 'goats': 3347, 'goblet': 3348, 'goblets': 3349, 'god': 3350, 'goers': 3351, 'goes': 3352, 'goggles': 3353, 'going': 3354, 'gold': 3355, 'golden': 3356, 'goldfish': 3357, 'golf': 3358, 'golfer': 3359, 'gondola': 3360, 'gone': 3361, 'goo': 3362, 'good': 3363, 'goodbye': 3364, 'goodies': 3365, 'goods': 3366, 'gooey': 3367, 'goofing': 3368, 'goofy': 3369, 'google': 3370, 'googly': 3371, 'goose': 3372, 'gorgeous': 3373, 'gorilla': 3374, 'got': 3375, 'gothic': 3376, 'gotten': 3377, 'gourmet': 3378, 'government': 3379, 'gown': 3380, 'gowns': 3381, 'gps': 3382, 'grab': 3383, 'grabbing': 3384, 'grabs': 3385, 'grace': 3386, 'gracefully': 3387, 'grade': 3388, 'graduate': 3389, 'graduates': 3390, 'graduation': 3391, 'graffiti': 3392, 'graffitied': 3393, 'graffitti': 3394, 'grafitti': 3395, 'graham': 3396, 'grain': 3397, 'grains': 3398, 'grainy': 3399, 'grand': 3400, 'grandfather': 3401, 'grandma': 3402, 'grandmother': 3403, 'granite': 3404, 'granny': 3405, 'granola': 3406, 'grape': 3407, 'grapefruit': 3408, 'grapefruits': 3409, 'grapes': 3410, 'graphic': 3411, 'graphics': 3412, 'gras': 3413, 'grasping': 3414, 'grasps': 3415, 'grass': 3416, 'grassed': 3417, 'grasses': 3418, 'grassing': 3419, 'grassland': 3420, 'grasslands': 3421, 'grassy': 3422, 'grate': 3423, 'grated': 3424, 'grater': 3425, 'grates': 3426, 'grating': 3427, 'grave': 3428, 'gravel': 3429, 'graveled': 3430, 'graveyard': 3431, 'gravy': 3432, 'gray': 3433, 'grayish': 3434, 'graze': 3435, 'grazes': 3436, 'grazing': 3437, 'grease': 3438, 'greasy': 3439, 'great': 3440, 'greek': 3441, 'green': 3442, 'greenery': 3443, 'greenhouse': 3444, 'greenish': 3445, 'greens': 3446, 'greet': 3447, 'greeting': 3448, 'greets': 3449, 'grey': 3450, 'greyhound': 3451, 'grid': 3452, 'griddle': 3453, 'grill': 3454, 'grille': 3455, 'grilled': 3456, 'grilling': 3457, 'grills': 3458, 'grimaces': 3459, 'grimacing': 3460, 'grime': 3461, 'grin': 3462, 'grind': 3463, 'grinder': 3464, 'grinding': 3465, 'grinds': 3466, 'grinning': 3467, 'grins': 3468, 'grip': 3469, 'gripping': 3470, 'grips': 3471, 'grits': 3472, 'grizzle': 3473, 'grizzly': 3474, 'groceries': 3475, 'grocery': 3476, 'groom': 3477, 'groomed': 3478, 'grooming': 3479, 'gross': 3480, 'ground': 3481, 'grounded': 3482, 'grounds': 3483, 'group': 3484, 'grouped': 3485, 'grouping': 3486, 'groups': 3487, 'grove': 3488, 'grow': 3489, 'growing': 3490, 'growling': 3491, 'grown': 3492, 'grows': 3493, 'growth': 3494, 'grumpy': 3495, 'grungy': 3496, 'guacamole': 3497, 'guard': 3498, 'guarding': 3499, 'guardrail': 3500, 'guards': 3501, 'guest': 3502, 'guests': 3503, 'guide': 3504, 'guided': 3505, 'guides': 3506, 'guiding': 3507, 'guinness': 3508, 'guitar': 3509, 'guitars': 3510, 'gull': 3511, 'gulls': 3512, 'gum': 3513, 'gummy': 3514, 'gun': 3515, 'guns': 3516, 'gushing': 3517, 'gutter': 3518, 'guy': 3519, 'guys': 3520, 'gym': 3521, 'gymnasium': 3522, 'gyro': 3523, 'h': 3524, 'ha': 3525, 'habitat': 3526, 'had': 3527, 'hair': 3528, 'hairbrush': 3529, 'haircut': 3530, 'hairdryer': 3531, 'haired': 3532, 'hairless': 3533, 'hairy': 3534, 'half': 3535, 'halfpipe': 3536, 'halfway': 3537, 'hall': 3538, 'halloween': 3539, 'hallway': 3540, 'halter': 3541, 'halved': 3542, 'halves': 3543, 'ham': 3544, 'hamburger': 3545, 'hamburgers': 3546, 'hammer': 3547, 'hammock': 3548, 'hamper': 3549, 'hamster': 3550, 'hand': 3551, 'handbag': 3552, 'handbags': 3553, 'handed': 3554, 'handful': 3555, 'handheld': 3556, 'handicap': 3557, 'handicapped': 3558, 'handing': 3559, 'handle': 3560, 'handlebar': 3561, 'handlebars': 3562, 'handled': 3563, 'handler': 3564, 'handlers': 3565, 'handles': 3566, 'handling': 3567, 'handmade': 3568, 'handrail': 3569, 'handrails': 3570, 'hands': 3571, 'handsome': 3572, 'handstand': 3573, 'handwritten': 3574, 'handy': 3575, 'hang': 3576, 'hangar': 3577, 'hanged': 3578, 'hanger': 3579, 'hangers': 3580, 'hanging': 3581, 'hangings': 3582, 'hangs': 3583, 'happen': 3584, 'happening': 3585, 'happens': 3586, 'happily': 3587, 'happy': 3588, 'harbor': 3589, 'harbour': 3590, 'hard': 3591, 'hardware': 3592, 'hardwood': 3593, 'harley': 3594, 'harness': 3595, 'harnessed': 3596, 'harnesses': 3597, 'harper': 3598, 'harry': 3599, 'has': 3600, 'hash': 3601, 'hashbrowns': 3602, 'hat': 3603, 'hatch': 3604, 'hatchback': 3605, 'hate': 3606, 'hats': 3607, 'haul': 3608, 'hauled': 3609, 'hauling': 3610, 'hauls': 3611, 'have': 3612, 'having': 3613, 'hawaiian': 3614, 'hawk': 3615, 'hay': 3616, 'hazard': 3617, 'haze': 3618, 'hazy': 3619, 'hd': 3620, 'he': 3621, 'head': 3622, 'headband': 3623, 'headboard': 3624, 'headdress': 3625, 'headed': 3626, 'headgear': 3627, 'heading': 3628, 'headlight': 3629, 'headlights': 3630, 'headphone': 3631, 'headphones': 3632, 'heads': 3633, 'headset': 3634, 'health': 3635, 'healthy': 3636, 'heap': 3637, 'heaped': 3638, 'hear': 3639, 'heard': 3640, 'heart': 3641, 'hearth': 3642, 'hearts': 3643, 'hearty': 3644, 'heat': 3645, 'heated': 3646, 'heater': 3647, 'heating': 3648, 'heavily': 3649, 'heavy': 3650, 'hedge': 3651, 'hedges': 3652, 'heel': 3653, 'heeled': 3654, 'heels': 3655, 'height': 3656, 'heights': 3657, 'held': 3658, 'helicopter': 3659, 'hello': 3660, 'helmet': 3661, 'helmeted': 3662, 'helmets': 3663, 'help': 3664, 'helped': 3665, 'helping': 3666, 'helps': 3667, 'hen': 3668, 'her': 3669, 'herb': 3670, 'herbs': 3671, 'herd': 3672, 'herded': 3673, 'herder': 3674, 'herding': 3675, 'herds': 3676, 'here': 3677, 'heritage': 3678, 'hero': 3679, 'heron': 3680, 'hers': 3681, 'herself': 3682, 'hes': 3683, 'hey': 3684, 'hi': 3685, 'hidden': 3686, 'hide': 3687, 'hides': 3688, 'hiding': 3689, 'high': 3690, 'highchair': 3691, 'higher': 3692, 'highest': 3693, 'highlighted': 3694, 'highlights': 3695, 'highly': 3696, 'highway': 3697, 'hike': 3698, 'hiker': 3699, 'hikers': 3700, 'hikes': 3701, 'hiking': 3702, 'hil': 3703, 'hill': 3704, 'hills': 3705, 'hillside': 3706, 'hilltop': 3707, 'hilly': 3708, 'him': 3709, 'himself': 3710, 'hind': 3711, 'hip': 3712, 'hippo': 3713, 'hippopotamus': 3714, 'hips': 3715, 'hipster': 3716, 'hipsters': 3717, 'his': 3718, 'historic': 3719, 'historical': 3720, 'hit': 3721, 'hitch': 3722, 'hitched': 3723, 'hits': 3724, 'hitter': 3725, 'hitting': 3726, 'hoagie': 3727, 'hobby': 3728, 'hockey': 3729, 'hog': 3730, 'hogs': 3731, 'hoisted': 3732, 'hold': 3733, 'holder': 3734, 'holders': 3735, 'holding': 3736, 'holds': 3737, 'hole': 3738, 'holes': 3739, 'holiday': 3740, 'holidays': 3741, 'holing': 3742, 'hollow': 3743, 'hollywood': 3744, 'home': 3745, 'homeless': 3746, 'homemade': 3747, 'homeplate': 3748, 'homer': 3749, 'homes': 3750, 'homey': 3751, 'honda': 3752, 'honey': 3753, 'hong': 3754, 'honk': 3755, 'hood': 3756, 'hooded': 3757, 'hoodie': 3758, 'hoods': 3759, 'hoody': 3760, 'hoof': 3761, 'hook': 3762, 'hooked': 3763, 'hooks': 3764, 'hoop': 3765, 'hooves': 3766, 'hope': 3767, 'hoping': 3768, 'hops': 3769, 'horizon': 3770, 'horizontal': 3771, 'horizontally': 3772, 'horn': 3773, 'horned': 3774, 'horns': 3775, 'horrible': 3776, 'hors': 3777, 'horse': 3778, 'horseback': 3779, 'horses': 3780, 'hose': 3781, 'hoses': 3782, 'hosing': 3783, 'hospital': 3784, 'host': 3785, 'hot': 3786, 'hotdog': 3787, 'hotdogs': 3788, 'hotel': 3789, 'hotels': 3790, 'hotplate': 3791, 'hound': 3792, 'hour': 3793, 'hours': 3794, 'house': 3795, 'houseboat': 3796, 'household': 3797, 'houseplant': 3798, 'houses': 3799, 'housing': 3800, 'hover': 3801, 'hovering': 3802, 'hovers': 3803, 'how': 3804, 'hp': 3805, 'huddle': 3806, 'huddled': 3807, 'huddling': 3808, 'hued': 3809, 'hug': 3810, 'huge': 3811, 'hugged': 3812, 'hugging': 3813, 'hugs': 3814, 'hula': 3815, 'hull': 3816, 'human': 3817, 'humans': 3818, 'humming': 3819, 'hummingbird': 3820, 'hummus': 3821, 'humongous': 3822, 'humorous': 3823, 'hump': 3824, 'hunched': 3825, 'hunches': 3826, 'hundred': 3827, 'hundreds': 3828, 'hung': 3829, 'hungry': 3830, 'hunting': 3831, 'hurdle': 3832, 'hurdles': 3833, 'hurry': 3834, 'hurt': 3835, 'husband': 3836, 'husky': 3837, 'hut': 3838, 'hutch': 3839, 'huts': 3840, 'hyde': 3841, 'hydrant': 3842, 'hydrants': 3843, 'hydrogen': 3844, 'hyenas': 3845, 'hygiene': 3846, 'hyrdrant': 3847, 'i': 3848, 'ibm': 3849, 'ice': 3850, 'icebox': 3851, 'icecream': 3852, 'iced': 3853, 'icicles': 3854, 'icing': 3855, 'icon': 3856, 'icons': 3857, 'icy': 3858, 'id': 3859, 'idea': 3860, 'identical': 3861, 'identically': 3862, 'identification': 3863, 'idle': 3864, 'idling': 3865, 'idly': 3866, 'idyllic': 3867, 'if': 3868, 'ii': 3869, 'illuminate': 3870, 'illuminated': 3871, 'illuminates': 3872, 'illuminating': 3873, 'illusion': 3874, 'illustration': 3875, 'imac': 3876, 'image': 3877, 'images': 3878, 'imitating': 3879, 'implements': 3880, 'important': 3881, 'imposed': 3882, 'impressed': 3883, 'impressive': 3884, 'in': 3885, 'ina': 3886, 'inches': 3887, 'incline': 3888, 'inclosure': 3889, 'include': 3890, 'included': 3891, 'includes': 3892, 'including': 3893, 'incoming': 3894, 'incredible': 3895, 'incredibly': 3896, 'india': 3897, 'indian': 3898, 'indians': 3899, 'indicate': 3900, 'indicated': 3901, 'indicates': 3902, 'indicating': 3903, 'indicator': 3904, 'indifferent': 3905, 'individual': 3906, 'individually': 3907, 'individuals': 3908, 'indoor': 3909, 'indoors': 3910, 'industrial': 3911, 'infamous': 3912, 'infant': 3913, 'infield': 3914, 'inflatable': 3915, 'inflated': 3916, 'information': 3917, 'informing': 3918, 'infront': 3919, 'ingredients': 3920, 'initials': 3921, 'injured': 3922, 'ink': 3923, 'inn': 3924, 'inner': 3925, 'innocent': 3926, 'inscribed': 3927, 'inscription': 3928, 'insect': 3929, 'inserted': 3930, 'inset': 3931, 'inside': 3932, 'insides': 3933, 'inspect': 3934, 'inspected': 3935, 'inspecting': 3936, 'inspects': 3937, 'inspired': 3938, 'installed': 3939, 'installing': 3940, 'instead': 3941, 'institutional': 3942, 'instructing': 3943, 'instruction': 3944, 'instructional': 3945, 'instructions': 3946, 'instructor': 3947, 'instructs': 3948, 'instrument': 3949, 'instruments': 3950, 'int': 3951, 'intended': 3952, 'intense': 3953, 'intensely': 3954, 'intent': 3955, 'intently': 3956, 'inter': 3957, 'interact': 3958, 'interacting': 3959, 'interactive': 3960, 'interacts': 3961, 'interest': 3962, 'interested': 3963, 'interesting': 3964, 'interior': 3965, 'international': 3966, 'internet': 3967, 'intersecting': 3968, 'intersection': 3969, 'intersections': 3970, 'interstate': 3971, 'intertwined': 3972, 'interviewed': 3973, 'interviewing': 3974, 'inthe': 3975, 'into': 3976, 'intricate': 3977, 'intricately': 3978, 'intriguing': 3979, 'inverted': 3980, 'investigate': 3981, 'investigates': 3982, 'investigating': 3983, 'invisible': 3984, 'inviting': 3985, 'involved': 3986, 'involving': 3987, 'ion': 3988, 'ipad': 3989, 'ipads': 3990, 'iphone': 3991, 'ipod': 3992, 'irises': 3993, 'irish': 3994, 'iron': 3995, 'ironic': 3996, 'ironing': 3997, 'is': 3998, 'island': 3999, 'isle': 4000, 'isn': 4001, 'isolated': 4002, 'it': 4003, 'italian': 4004, 'italy': 4005, 'item': 4006, 'items': 4007, 'ith': 4008, 'its': 4009, 'itself': 4010, 'ivory': 4011, 'ivy': 4012, 'iwth': 4013, 'j': 4014, 'jack': 4015, 'jacket': 4016, 'jackets': 4017, 'jackson': 4018, 'jacuzzi': 4019, 'jail': 4020, 'jalapenos': 4021, 'jam': 4022, 'jammed': 4023, 'jams': 4024, 'japan': 4025, 'japanese': 4026, 'jar': 4027, 'jars': 4028, 'jay': 4029, 'jean': 4030, 'jeans': 4031, 'jeep': 4032, 'jeeps': 4033, 'jeff': 4034, 'jello': 4035, 'jelly': 4036, 'jersey': 4037, 'jerseys': 4038, 'jesus': 4039, 'jet': 4040, 'jetliner': 4041, 'jetliners': 4042, 'jets': 4043, 'jetty': 4044, 'jetway': 4045, 'jewelry': 4046, 'job': 4047, 'jobs': 4048, 'jockey': 4049, 'jockeys': 4050, 'jogging': 4051, 'john': 4052, 'johns': 4053, 'join': 4054, 'joined': 4055, 'joint': 4056, 'jointly': 4057, 'joke': 4058, 'joker': 4059, 'jones': 4060, 'journey': 4061, 'joy': 4062, 'judge': 4063, 'judged': 4064, 'judges': 4065, 'jug': 4066, 'juggling': 4067, 'jugs': 4068, 'juice': 4069, 'juicer': 4070, 'juices': 4071, 'juicy': 4072, 'july': 4073, 'jumble': 4074, 'jumbo': 4075, 'jump': 4076, 'jumped': 4077, 'jumper': 4078, 'jumping': 4079, 'jumps': 4080, 'jumpsuit': 4081, 'junction': 4082, 'jungle': 4083, 'junk': 4084, 'just': 4085, 'juts': 4086, 'juvenile': 4087, 'k': 4088, 'kabob': 4089, 'kale': 4090, 'kangaroo': 4091, 'kart': 4092, 'kawasaki': 4093, 'kayak': 4094, 'kayaking': 4095, 'kayaks': 4096, 'keep': 4097, 'keeper': 4098, 'keepers': 4099, 'keeping': 4100, 'keeps': 4101, 'kennel': 4102, 'kept': 4103, 'kerry': 4104, 'ketchup': 4105, 'kettle': 4106, 'kettles': 4107, 'key': 4108, 'keyboard': 4109, 'keyboards': 4110, 'keychain': 4111, 'keys': 4112, 'khaki': 4113, 'khakis': 4114, 'kick': 4115, 'kickflip': 4116, 'kicking': 4117, 'kicks': 4118, 'kickstand': 4119, 'kid': 4120, 'kiddie': 4121, 'kids': 4122, 'kill': 4123, 'kilt': 4124, 'kilts': 4125, 'kimono': 4126, 'kind': 4127, 'kinds': 4128, 'king': 4129, 'kingdom': 4130, 'kingfisher': 4131, 'kings': 4132, 'kiosk': 4133, 'kiss': 4134, 'kisses': 4135, 'kissing': 4136, 'kit': 4137, 'kitcehn': 4138, 'kitchen': 4139, 'kitchenette': 4140, 'kite': 4141, 'kiteboard': 4142, 'kiteboarding': 4143, 'kites': 4144, 'kitesurfing': 4145, 'kits': 4146, 'kitten': 4147, 'kittens': 4148, 'kitty': 4149, 'kiwi': 4150, 'kiwis': 4151, 'kleenex': 4152, 'klm': 4153, 'knacks': 4154, 'kneading': 4155, 'knee': 4156, 'kneel': 4157, 'kneeled': 4158, 'kneeling': 4159, 'kneels': 4160, 'kneepads': 4161, 'knees': 4162, 'knelt': 4163, 'knick': 4164, 'knife': 4165, 'knifes': 4166, 'knight': 4167, 'knights': 4168, 'knit': 4169, 'knitted': 4170, 'knitting': 4171, 'knives': 4172, 'knob': 4173, 'knobs': 4174, 'knocked': 4175, 'knocking': 4176, 'knoll': 4177, 'knot': 4178, 'knotted': 4179, 'know': 4180, 'known': 4181, 'knows': 4182, 'koala': 4183, 'kong': 4184, 'korean': 4185, 'kraut': 4186, 'kreme': 4187, 'krispy': 4188, 'l': 4189, 'la': 4190, 'lab': 4191, 'label': 4192, 'labeled': 4193, 'labelled': 4194, 'labels': 4195, 'labrador': 4196, 'lace': 4197, 'laces': 4198, 'lack': 4199, 'lacrosse': 4200, 'lacy': 4201, 'ladder': 4202, 'ladders': 4203, 'laden': 4204, 'ladies': 4205, 'ladle': 4206, 'lady': 4207, 'ladybug': 4208, 'lagoon': 4209, 'laid': 4210, 'lake': 4211, 'lakeside': 4212, 'lamb': 4213, 'lambs': 4214, 'laminate': 4215, 'lamp': 4216, 'lamppost': 4217, 'lampposts': 4218, 'lamps': 4219, 'lampshade': 4220, 'land': 4221, 'landed': 4222, 'landing': 4223, 'landmark': 4224, 'lands': 4225, 'landscape': 4226, 'landscaped': 4227, 'landscaping': 4228, 'lane': 4229, 'lanes': 4230, 'language': 4231, 'languages': 4232, 'lantern': 4233, 'lanterns': 4234, 'lanyard': 4235, 'lap': 4236, 'lapel': 4237, 'laps': 4238, 'lapse': 4239, 'lapsed': 4240, 'lapt': 4241, 'laptop': 4242, 'laptops': 4243, 'large': 4244, 'largely': 4245, 'larger': 4246, 'largest': 4247, 'lasagna': 4248, 'laser': 4249, 'lasso': 4250, 'last': 4251, 'late': 4252, 'later': 4253, 'latest': 4254, 'latin': 4255, 'latte': 4256, 'lattice': 4257, 'laugh': 4258, 'laughing': 4259, 'laughs': 4260, 'launch': 4261, 'launched': 4262, 'launches': 4263, 'launching': 4264, 'laundry': 4265, 'lava': 4266, 'lavatory': 4267, 'lavender': 4268, 'lavish': 4269, 'lavishly': 4270, 'law': 4271, 'lawn': 4272, 'lay': 4273, 'layed': 4274, 'layer': 4275, 'layered': 4276, 'layers': 4277, 'laying': 4278, 'layout': 4279, 'lays': 4280, 'lazily': 4281, 'lazing': 4282, 'lazy': 4283, 'lcd': 4284, 'lead': 4285, 'leading': 4286, 'leads': 4287, 'leaf': 4288, 'leafless': 4289, 'leafs': 4290, 'leafy': 4291, 'league': 4292, 'leaguer': 4293, 'leak': 4294, 'leaking': 4295, 'lean': 4296, 'leaned': 4297, 'leaning': 4298, 'leans': 4299, 'leap': 4300, 'leaping': 4301, 'leaps': 4302, 'learn': 4303, 'learning': 4304, 'learns': 4305, 'leash': 4306, 'leashed': 4307, 'leashes': 4308, 'least': 4309, 'leather': 4310, 'leave': 4311, 'leaves': 4312, 'leaving': 4313, 'lecture': 4314, 'led': 4315, 'ledge': 4316, 'ledges': 4317, 'leeks': 4318, 'left': 4319, 'leftover': 4320, 'leftovers': 4321, 'leg': 4322, 'legged': 4323, 'leggings': 4324, 'lego': 4325, 'legos': 4326, 'legs': 4327, 'lei': 4328, 'leisurely': 4329, 'lemon': 4330, 'lemonade': 4331, 'lemons': 4332, 'length': 4333, 'lens': 4334, 'leopard': 4335, 'leroy': 4336, 'less': 4337, 'lesson': 4338, 'lessons': 4339, 'let': 4340, 'lets': 4341, 'letter': 4342, 'lettering': 4343, 'letters': 4344, 'letting': 4345, 'lettuce': 4346, 'level': 4347, 'levels': 4348, 'liberty': 4349, 'library': 4350, 'license': 4351, 'lick': 4352, 'licked': 4353, 'licking': 4354, 'licks': 4355, 'lid': 4356, 'lids': 4357, 'lie': 4358, 'lieing': 4359, 'lies': 4360, 'life': 4361, 'lifeguard': 4362, 'lift': 4363, 'lifted': 4364, 'lifting': 4365, 'lifts': 4366, 'light': 4367, 'lighted': 4368, 'lightening': 4369, 'lighter': 4370, 'lighthouse': 4371, 'lighting': 4372, 'lightly': 4373, 'lights': 4374, 'like': 4375, 'likely': 4376, 'likes': 4377, 'lilac': 4378, 'lilies': 4379, 'lily': 4380, 'limb': 4381, 'limbs': 4382, 'lime': 4383, 'limes': 4384, 'limit': 4385, 'limo': 4386, 'limousine': 4387, 'lincoln': 4388, 'line': 4389, 'lined': 4390, 'linen': 4391, 'linens': 4392, 'liner': 4393, 'lines': 4394, 'linger': 4395, 'lingerie': 4396, 'lining': 4397, 'link': 4398, 'linked': 4399, 'links': 4400, 'linoleum': 4401, 'lion': 4402, 'lions': 4403, 'lip': 4404, 'lips': 4405, 'lipstick': 4406, 'liquid': 4407, 'liquids': 4408, 'liquor': 4409, 'listed': 4410, 'listen': 4411, 'listening': 4412, 'listens': 4413, 'lit': 4414, 'lite': 4415, 'litter': 4416, 'littered': 4417, 'little': 4418, 'live': 4419, 'lived': 4420, 'livestock': 4421, 'living': 4422, 'livingroom': 4423, 'lizard': 4424, 'llama': 4425, 'llamas': 4426, 'lo': 4427, 'load': 4428, 'loaded': 4429, 'loader': 4430, 'loading': 4431, 'loads': 4432, 'loaf': 4433, 'loaves': 4434, 'lobby': 4435, 'lobster': 4436, 'local': 4437, 'located': 4438, 'location': 4439, 'locations': 4440, 'lock': 4441, 'locked': 4442, 'locker': 4443, 'lockers': 4444, 'locking': 4445, 'locks': 4446, 'locomotive': 4447, 'locomotives': 4448, 'lodge': 4449, 'lodged': 4450, 'loft': 4451, 'log': 4452, 'logging': 4453, 'logo': 4454, 'logos': 4455, 'logs': 4456, 'lollipop': 4457, 'lollipops': 4458, 'london': 4459, 'lone': 4460, 'lonely': 4461, 'long': 4462, 'longboard': 4463, 'longer': 4464, 'longhorn': 4465, 'longingly': 4466, 'look': 4467, 'looked': 4468, 'lookers': 4469, 'looking': 4470, 'lookout': 4471, 'looks': 4472, 'loom': 4473, 'looming': 4474, 'looms': 4475, 'loop': 4476, 'loose': 4477, 'lorry': 4478, 'los': 4479, 'loses': 4480, 'losing': 4481, 'lost': 4482, 'lot': 4483, 'lotion': 4484, 'lots': 4485, 'louis': 4486, 'lounge': 4487, 'lounges': 4488, 'lounging': 4489, 'love': 4490, 'loved': 4491, 'lovely': 4492, 'loves': 4493, 'loveseat': 4494, 'loving': 4495, 'low': 4496, 'lower': 4497, 'lowered': 4498, 'lowering': 4499, 'lowers': 4500, 'lucky': 4501, 'lufthansa': 4502, 'luggage': 4503, 'luggages': 4504, 'lumber': 4505, 'lunch': 4506, 'lunchbox': 4507, 'luncheon': 4508, 'lunches': 4509, 'lunges': 4510, 'lunging': 4511, 'lush': 4512, 'luxurious': 4513, 'luxury': 4514, 'lying': 4515, 'm': 4516, 'ma': 4517, 'mac': 4518, 'macaroni': 4519, 'macbook': 4520, 'mache': 4521, 'machine': 4522, 'machinery': 4523, 'machines': 4524, 'mad': 4525, 'made': 4526, 'madison': 4527, 'magazine': 4528, 'magazines': 4529, 'magnet': 4530, 'magnetic': 4531, 'magnets': 4532, 'magnificent': 4533, 'magnifying': 4534, 'maid': 4535, 'mail': 4536, 'mailbox': 4537, 'main': 4538, 'mainly': 4539, 'maintained': 4540, 'maintenance': 4541, 'majestic': 4542, 'majestically': 4543, 'major': 4544, 'make': 4545, 'maker': 4546, 'makes': 4547, 'makeshift': 4548, 'makeup': 4549, 'making': 4550, 'malaysia': 4551, 'male': 4552, 'males': 4553, 'mall': 4554, 'mallard': 4555, 'mama': 4556, 'mamma': 4557, 'man': 4558, 'managing': 4559, 'mandarin': 4560, 'mane': 4561, 'maneuver': 4562, 'maneuvering': 4563, 'maneuvers': 4564, 'manger': 4565, 'mango': 4566, 'mangoes': 4567, 'mangos': 4568, 'manhattan': 4569, 'manicure': 4570, 'manicured': 4571, 'manipulated': 4572, 'manipulating': 4573, 'manmade': 4574, 'mannequin': 4575, 'mannequins': 4576, 'manner': 4577, 'manning': 4578, 'mans': 4579, 'mansion': 4580, 'mantel': 4581, 'mantle': 4582, 'manual': 4583, 'manufacturing': 4584, 'many': 4585, 'map': 4586, 'maple': 4587, 'marathon': 4588, 'marble': 4589, 'marbled': 4590, 'march': 4591, 'marching': 4592, 'mare': 4593, 'margarita': 4594, 'margherita': 4595, 'marijuana': 4596, 'marina': 4597, 'marinara': 4598, 'marine': 4599, 'mariners': 4600, 'mario': 4601, 'mark': 4602, 'marked': 4603, 'marker': 4604, 'markers': 4605, 'market': 4606, 'marketplace': 4607, 'markets': 4608, 'marking': 4609, 'markings': 4610, 'marks': 4611, 'marmalade': 4612, 'maroon': 4613, 'marquee': 4614, 'marriage': 4615, 'married': 4616, 'marsh': 4617, 'marshmallows': 4618, 'marshy': 4619, 'martini': 4620, 'mary': 4621, 'mascot': 4622, 'mash': 4623, 'mashed': 4624, 'mask': 4625, 'masked': 4626, 'masks': 4627, 'mason': 4628, 'mass': 4629, 'massive': 4630, 'master': 4631, 'masts': 4632, 'mat': 4633, 'match': 4634, 'matches': 4635, 'matching': 4636, 'mate': 4637, 'material': 4638, 'materials': 4639, 'mates': 4640, 'mating': 4641, 'matress': 4642, 'mats': 4643, 'matt': 4644, 'matter': 4645, 'mattress': 4646, 'mattresses': 4647, 'mature': 4648, 'mauve': 4649, 'may': 4650, 'maybe': 4651, 'mayo': 4652, 'mayonnaise': 4653, 'maze': 4654, 'mcdonald': 4655, 'mcdonalds': 4656, 'me': 4657, 'meadow': 4658, 'meal': 4659, 'meals': 4660, 'mean': 4661, 'means': 4662, 'meant': 4663, 'measure': 4664, 'measuring': 4665, 'meat': 4666, 'meatball': 4667, 'meatballs': 4668, 'meatloaf': 4669, 'meats': 4670, 'meaty': 4671, 'mechanic': 4672, 'mechanical': 4673, 'medal': 4674, 'medals': 4675, 'media': 4676, 'median': 4677, 'medical': 4678, 'medicine': 4679, 'medieval': 4680, 'medium': 4681, 'medley': 4682, 'meet': 4683, 'meeting': 4684, 'meets': 4685, 'mein': 4686, 'melon': 4687, 'melons': 4688, 'melted': 4689, 'melting': 4690, 'member': 4691, 'members': 4692, 'mementos': 4693, 'memorabilia': 4694, 'memorial': 4695, 'memory': 4696, 'men': 4697, 'menacingly': 4698, 'mens': 4699, 'menu': 4700, 'menus': 4701, 'mercedes': 4702, 'merchandise': 4703, 'merchant': 4704, 'merge': 4705, 'merry': 4706, 'mesh': 4707, 'mess': 4708, 'message': 4709, 'messages': 4710, 'messed': 4711, 'messenger': 4712, 'messily': 4713, 'messing': 4714, 'messy': 4715, 'met': 4716, 'metal': 4717, 'metallic': 4718, 'meter': 4719, 'meters': 4720, 'metro': 4721, 'metropolitan': 4722, 'mets': 4723, 'mexican': 4724, 'mexico': 4725, 'mic': 4726, 'mice': 4727, 'michigan': 4728, 'mickey': 4729, 'micro': 4730, 'microphone': 4731, 'microphones': 4732, 'microsoft': 4733, 'microwave': 4734, 'microwaves': 4735, 'mid': 4736, 'midair': 4737, 'midday': 4738, 'middle': 4739, 'midst': 4740, 'might': 4741, 'mike': 4742, 'mild': 4743, 'mile': 4744, 'miles': 4745, 'military': 4746, 'milk': 4747, 'milking': 4748, 'milks': 4749, 'milkshake': 4750, 'mill': 4751, 'milling': 4752, 'mills': 4753, 'mime': 4754, 'mingle': 4755, 'mingling': 4756, 'mini': 4757, 'miniature': 4758, 'minimal': 4759, 'minimalist': 4760, 'minivan': 4761, 'minnesota': 4762, 'minnie': 4763, 'minor': 4764, 'mint': 4765, 'mints': 4766, 'minute': 4767, 'minutes': 4768, 'mirror': 4769, 'mirrored': 4770, 'mirrors': 4771, 'miscellaneous': 4772, 'mismatched': 4773, 'miss': 4774, 'missed': 4775, 'misses': 4776, 'misshapen': 4777, 'missing': 4778, 'mist': 4779, 'misty': 4780, 'mit': 4781, 'mitt': 4782, 'mitten': 4783, 'mittens': 4784, 'mitts': 4785, 'mix': 4786, 'mixed': 4787, 'mixer': 4788, 'mixers': 4789, 'mixes': 4790, 'mixing': 4791, 'mixture': 4792, 'mlb': 4793, 'mm': 4794, 'mmm': 4795, 'mobile': 4796, 'mock': 4797, 'mode': 4798, 'model': 4799, 'modeled': 4800, 'modeling': 4801, 'models': 4802, 'modem': 4803, 'moderate': 4804, 'modern': 4805, 'modest': 4806, 'modified': 4807, 'modular': 4808, 'mohawk': 4809, 'mold': 4810, 'moldy': 4811, 'mom': 4812, 'moment': 4813, 'momma': 4814, 'mommy': 4815, 'money': 4816, 'monitor': 4817, 'monitors': 4818, 'monk': 4819, 'monkey': 4820, 'monkeys': 4821, 'monks': 4822, 'monochrome': 4823, 'monogrammed': 4824, 'monopoly': 4825, 'monorail': 4826, 'monster': 4827, 'monstrosity': 4828, 'montage': 4829, 'monument': 4830, 'moon': 4831, 'moored': 4832, 'mooring': 4833, 'moose': 4834, 'mop': 4835, 'moped': 4836, 'mopeds': 4837, 'more': 4838, 'morning': 4839, 'mortar': 4840, 'mosaic': 4841, 'mosquito': 4842, 'moss': 4843, 'mossy': 4844, 'most': 4845, 'mostly': 4846, 'mote': 4847, 'motel': 4848, 'motes': 4849, 'mother': 4850, 'mothers': 4851, 'motif': 4852, 'motion': 4853, 'motionless': 4854, 'motocross': 4855, 'motor': 4856, 'motorbike': 4857, 'motorbikes': 4858, 'motorboat': 4859, 'motorcross': 4860, 'motorcycle': 4861, 'motorcycles': 4862, 'motorcyclist': 4863, 'motorcyclists': 4864, 'motorcylce': 4865, 'motorcyle': 4866, 'motorcyles': 4867, 'motorhome': 4868, 'motoring': 4869, 'motorists': 4870, 'motorized': 4871, 'motorola': 4872, 'motors': 4873, 'mound': 4874, 'mounds': 4875, 'mount': 4876, 'mountain': 4877, 'mountainous': 4878, 'mountains': 4879, 'mountainside': 4880, 'mountaintop': 4881, 'mounted': 4882, 'mounting': 4883, 'mouse': 4884, 'mousepad': 4885, 'mouses': 4886, 'mouth': 4887, 'mouthed': 4888, 'mouths': 4889, 'mouthwash': 4890, 'movable': 4891, 'move': 4892, 'moved': 4893, 'movement': 4894, 'moves': 4895, 'movie': 4896, 'movies': 4897, 'moving': 4898, 'mowed': 4899, 'mower': 4900, 'mozzarella': 4901, 'mp3': 4902, 'much': 4903, 'mud': 4904, 'muddy': 4905, 'muffin': 4906, 'muffins': 4907, 'mug': 4908, 'mugs': 4909, 'mulch': 4910, 'mule': 4911, 'mules': 4912, 'multi': 4913, 'multicolor': 4914, 'multicolored': 4915, 'multiple': 4916, 'multistory': 4917, 'multitude': 4918, 'munch': 4919, 'munches': 4920, 'munching': 4921, 'mural': 4922, 'murals': 4923, 'murdered': 4924, 'murky': 4925, 'muscle': 4926, 'muscles': 4927, 'muscular': 4928, 'museum': 4929, 'mushroom': 4930, 'mushrooms': 4931, 'music': 4932, 'musical': 4933, 'musician': 4934, 'musicians': 4935, 'muslim': 4936, 'must': 4937, 'mustache': 4938, 'mustard': 4939, 'muzzle': 4940, 'muzzled': 4941, 'my': 4942, 'myspace': 4943, 'mysterious': 4944, 'n': 4945, 'nachos': 4946, 'nad': 4947, 'nail': 4948, 'nailed': 4949, 'nails': 4950, 'naked': 4951, 'name': 4952, 'named': 4953, 'names': 4954, 'nap': 4955, 'napkin': 4956, 'napkins': 4957, 'napping': 4958, 'naps': 4959, 'narrow': 4960, 'nasa': 4961, 'nasty': 4962, 'national': 4963, 'native': 4964, 'nativity': 4965, 'natural': 4966, 'nature': 4967, 'naval': 4968, 'navel': 4969, 'navigate': 4970, 'navigates': 4971, 'navigating': 4972, 'navy': 4973, 'nd': 4974, 'near': 4975, 'nearby': 4976, 'nearest': 4977, 'nearing': 4978, 'nearly': 4979, 'nears': 4980, 'neat': 4981, 'neath': 4982, 'neatly': 4983, 'necessary': 4984, 'necessities': 4985, 'neck': 4986, 'necked': 4987, 'necklace': 4988, 'necklaces': 4989, 'necks': 4990, 'necktie': 4991, 'neckties': 4992, 'nectar': 4993, 'need': 4994, 'needed': 4995, 'needing': 4996, 'needle': 4997, 'needles': 4998, 'needs': 4999, 'negative': 5000, 'neglected': 5001, 'neighborhood': 5002, 'neon': 5003, 'nerd': 5004, 'nerf': 5005, 'nest': 5006, 'nesting': 5007, 'nestled': 5008, 'net': 5009, 'netbook': 5010, 'nets': 5011, 'netting': 5012, 'network': 5013, 'neutral': 5014, 'never': 5015, 'new': 5016, 'newborn': 5017, 'newer': 5018, 'newest': 5019, 'newly': 5020, 'newlywed': 5021, 'news': 5022, 'newspaper': 5023, 'newspapers': 5024, 'next': 5025, 'nibble': 5026, 'nibbles': 5027, 'nibbling': 5028, 'nice': 5029, 'nicely': 5030, 'niche': 5031, 'nick': 5032, 'nigh': 5033, 'night': 5034, 'nights': 5035, 'nightstand': 5036, 'nightstands': 5037, 'nighttime': 5038, 'nike': 5039, 'nine': 5040, 'nintendo': 5041, 'no': 5042, 'nobody': 5043, 'nokia': 5044, 'non': 5045, 'noodle': 5046, 'noodles': 5047, 'nook': 5048, 'noon': 5049, 'nordic': 5050, 'normal': 5051, 'north': 5052, 'nose': 5053, 'noses': 5054, 'nosing': 5055, 'not': 5056, 'note': 5057, 'notebook': 5058, 'notebooks': 5059, 'notepad': 5060, 'notes': 5061, 'nothing': 5062, 'notice': 5063, 'nourishment': 5064, 'novel': 5065, 'novelty': 5066, 'now': 5067, 'nowhere': 5068, 'nozzle': 5069, 'nude': 5070, 'nudging': 5071, 'number': 5072, 'numbered': 5073, 'numbers': 5074, 'numeral': 5075, 'numerals': 5076, 'numerous': 5077, 'nun': 5078, 'nunchuck': 5079, 'nurse': 5080, 'nursery': 5081, 'nurses': 5082, 'nursing': 5083, 'nut': 5084, 'nutella': 5085, 'nutritious': 5086, 'nuts': 5087, 'nuzzle': 5088, 'nuzzles': 5089, 'nuzzling': 5090, 'nw': 5091, 'o': 5092, 'oak': 5093, 'oakland': 5094, 'oar': 5095, 'oars': 5096, 'oatmeal': 5097, 'oats': 5098, 'obama': 5099, 'obelisk': 5100, 'obese': 5101, 'object': 5102, 'objects': 5103, 'oblong': 5104, 'obscene': 5105, 'obscured': 5106, 'obscures': 5107, 'observation': 5108, 'observe': 5109, 'observed': 5110, 'observes': 5111, 'observing': 5112, 'obstacle': 5113, 'obstacles': 5114, 'obstructed': 5115, 'occasion': 5116, 'occupied': 5117, 'occupies': 5118, 'occupy': 5119, 'ocean': 5120, 'oceans': 5121, 'octagonal': 5122, 'octopus': 5123, 'od': 5124, 'odd': 5125, 'oddly': 5126, 'of': 5127, 'ofa': 5128, 'off': 5129, 'offer': 5130, 'offered': 5131, 'offering': 5132, 'offers': 5133, 'office': 5134, 'officer': 5135, 'officers': 5136, 'official': 5137, 'officials': 5138, 'offspring': 5139, 'often': 5140, 'oil': 5141, 'oils': 5142, 'oin': 5143, 'oj': 5144, 'ok': 5145, 'old': 5146, 'older': 5147, 'olive': 5148, 'olives': 5149, 'ollie': 5150, 'olympic': 5151, 'olympics': 5152, 'omelet': 5153, 'omelette': 5154, 'on': 5155, 'ona': 5156, 'once': 5157, 'oncoming': 5158, 'one': 5159, 'ones': 5160, 'onesie': 5161, 'onion': 5162, 'onions': 5163, 'onlooker': 5164, 'onlookers': 5165, 'onlooking': 5166, 'only': 5167, 'ont': 5168, 'onto': 5169, 'ontop': 5170, 'onward': 5171, 'oozing': 5172, 'op': 5173, 'open': 5174, 'opened': 5175, 'opener': 5176, 'opening': 5177, 'opens': 5178, 'operate': 5179, 'operated': 5180, 'operates': 5181, 'operating': 5182, 'operator': 5183, 'opponent': 5184, 'opponents': 5185, 'opportunity': 5186, 'opposing': 5187, 'opposite': 5188, 'options': 5189, 'or': 5190, 'orange': 5191, 'oranges': 5192, 'orchard': 5193, 'orchid': 5194, 'orchids': 5195, 'order': 5196, 'ordered': 5197, 'ordering': 5198, 'orderly': 5199, 'orders': 5200, 'ordinary': 5201, 'oreo': 5202, 'organ': 5203, 'organic': 5204, 'organization': 5205, 'organized': 5206, 'organizing': 5207, 'oriental': 5208, 'origami': 5209, 'original': 5210, 'orioles': 5211, 'ornament': 5212, 'ornamental': 5213, 'ornaments': 5214, 'ornate': 5215, 'ornately': 5216, 'orphanage': 5217, 'os': 5218, 'ostrich': 5219, 'ostriches': 5220, 'ot': 5221, 'other': 5222, 'others': 5223, 'otherwise': 5224, 'ottoman': 5225, 'ottomans': 5226, 'our': 5227, 'out': 5228, 'outcrop': 5229, 'outcropping': 5230, 'outdated': 5231, 'outdoor': 5232, 'outdoors': 5233, 'outer': 5234, 'outfield': 5235, 'outfielder': 5236, 'outfit': 5237, 'outfits': 5238, 'outfitted': 5239, 'outhouse': 5240, 'outlet': 5241, 'outlets': 5242, 'outline': 5243, 'outlined': 5244, 'outs': 5245, 'outside': 5246, 'outskirts': 5247, 'outstretched': 5248, 'outward': 5249, 'outwards': 5250, 'oval': 5251, 'oven': 5252, 'ovens': 5253, 'over': 5254, 'overalls': 5255, 'overcast': 5256, 'overcoat': 5257, 'overexposed': 5258, 'overflowing': 5259, 'overgrown': 5260, 'overhand': 5261, 'overhang': 5262, 'overhead': 5263, 'overheard': 5264, 'overloaded': 5265, 'overlook': 5266, 'overlooked': 5267, 'overlooking': 5268, 'overlooks': 5269, 'overly': 5270, 'overnight': 5271, 'overpass': 5272, 'overripe': 5273, 'oversize': 5274, 'oversized': 5275, 'overstuffed': 5276, 'overtop': 5277, 'overturned': 5278, 'overview': 5279, 'overweight': 5280, 'owl': 5281, 'owls': 5282, 'own': 5283, 'owner': 5284, 'owners': 5285, 'ox': 5286, 'oxen': 5287, 'p': 5288, 'pace': 5289, 'pacific': 5290, 'pacifier': 5291, 'pack': 5292, 'package': 5293, 'packaged': 5294, 'packages': 5295, 'packaging': 5296, 'packed': 5297, 'packet': 5298, 'packets': 5299, 'packing': 5300, 'packs': 5301, 'pad': 5302, 'padded': 5303, 'padding': 5304, 'paddle': 5305, 'paddleboarding': 5306, 'paddles': 5307, 'paddling': 5308, 'paddock': 5309, 'pads': 5310, 'page': 5311, 'pages': 5312, 'pagoda': 5313, 'paid': 5314, 'pail': 5315, 'pain': 5316, 'paint': 5317, 'paintbrush': 5318, 'painted': 5319, 'painting': 5320, 'paintings': 5321, 'paints': 5322, 'pair': 5323, 'paired': 5324, 'pairs': 5325, 'paisley': 5326, 'pajamas': 5327, 'pakistan': 5328, 'palace': 5329, 'pale': 5330, 'pallet': 5331, 'pallets': 5332, 'palm': 5333, 'palms': 5334, 'pamphlets': 5335, 'pan': 5336, 'pancake': 5337, 'pancakes': 5338, 'panda': 5339, 'pandas': 5340, 'pane': 5341, 'panel': 5342, 'paneled': 5343, 'paneling': 5344, 'panels': 5345, 'panes': 5346, 'panini': 5347, 'panorama': 5348, 'panoramic': 5349, 'pans': 5350, 'pant': 5351, 'panties': 5352, 'panting': 5353, 'pantry': 5354, 'pants': 5355, 'paper': 5356, 'paperback': 5357, 'papered': 5358, 'papers': 5359, 'paperwork': 5360, 'para': 5361, 'parachute': 5362, 'parachutes': 5363, 'parachuting': 5364, 'parade': 5365, 'parading': 5366, 'paragliding': 5367, 'parakeet': 5368, 'parakeets': 5369, 'parallel': 5370, 'paraphernalia': 5371, 'parasail': 5372, 'parasailer': 5373, 'parasailers': 5374, 'parasailing': 5375, 'parasails': 5376, 'parasol': 5377, 'parasols': 5378, 'parcel': 5379, 'parchment': 5380, 'pared': 5381, 'parent': 5382, 'parents': 5383, 'paris': 5384, 'park': 5385, 'parka': 5386, 'parked': 5387, 'parking': 5388, 'parks': 5389, 'parliament': 5390, 'parlor': 5391, 'parmesan': 5392, 'parrot': 5393, 'parrots': 5394, 'parsley': 5395, 'part': 5396, 'partaking': 5397, 'partial': 5398, 'partially': 5399, 'participate': 5400, 'participating': 5401, 'particular': 5402, 'partition': 5403, 'partly': 5404, 'partner': 5405, 'partners': 5406, 'parts': 5407, 'party': 5408, 'pass': 5409, 'passage': 5410, 'passageway': 5411, 'passanger': 5412, 'passed': 5413, 'passenger': 5414, 'passengers': 5415, 'passes': 5416, 'passing': 5417, 'passport': 5418, 'past': 5419, 'pasta': 5420, 'paste': 5421, 'pasted': 5422, 'pastel': 5423, 'pastor': 5424, 'pastrami': 5425, 'pastries': 5426, 'pastry': 5427, 'pasture': 5428, 'pastures': 5429, 'pasty': 5430, 'pat': 5431, 'patch': 5432, 'patches': 5433, 'patchwork': 5434, 'patchy': 5435, 'pate': 5436, 'path': 5437, 'paths': 5438, 'pathway': 5439, 'patient': 5440, 'patiently': 5441, 'patio': 5442, 'patrick': 5443, 'patriotic': 5444, 'patrol': 5445, 'patrolling': 5446, 'patrols': 5447, 'patrons': 5448, 'pattered': 5449, 'pattern': 5450, 'patterned': 5451, 'patterns': 5452, 'patties': 5453, 'patty': 5454, 'pause': 5455, 'paused': 5456, 'pauses': 5457, 'pausing': 5458, 'paved': 5459, 'pavement': 5460, 'pavers': 5461, 'pavilion': 5462, 'paw': 5463, 'pawing': 5464, 'pawn': 5465, 'paws': 5466, 'pay': 5467, 'payer': 5468, 'paying': 5469, 'payphone': 5470, 'pc': 5471, 'pda': 5472, 'pea': 5473, 'peace': 5474, 'peaceful': 5475, 'peacefully': 5476, 'peach': 5477, 'peaches': 5478, 'peacock': 5479, 'peacocks': 5480, 'peak': 5481, 'peaked': 5482, 'peaking': 5483, 'peaks': 5484, 'peal': 5485, 'pealed': 5486, 'peanut': 5487, 'peanuts': 5488, 'pear': 5489, 'pearl': 5490, 'pearls': 5491, 'pears': 5492, 'peas': 5493, 'pebbles': 5494, 'pecans': 5495, 'pecking': 5496, 'pecks': 5497, 'pedal': 5498, 'pedals': 5499, 'peddling': 5500, 'pedestal': 5501, 'pedestals': 5502, 'pedestrian': 5503, 'pedestrians': 5504, 'peeing': 5505, 'peek': 5506, 'peeking': 5507, 'peeks': 5508, 'peel': 5509, 'peeled': 5510, 'peeling': 5511, 'peels': 5512, 'peep': 5513, 'peeping': 5514, 'peer': 5515, 'peering': 5516, 'peers': 5517, 'pelican': 5518, 'pelicans': 5519, 'pen': 5520, 'penalty': 5521, 'pencil': 5522, 'pencils': 5523, 'pendant': 5524, 'pendulum': 5525, 'penguin': 5526, 'penguins': 5527, 'penn': 5528, 'penned': 5529, 'pennsylvania': 5530, 'penny': 5531, 'pens': 5532, 'pensive': 5533, 'peope': 5534, 'peopel': 5535, 'people': 5536, 'peoples': 5537, 'peperoni': 5538, 'pepper': 5539, 'pepperoni': 5540, 'pepperonis': 5541, 'peppers': 5542, 'pepsi': 5543, 'per': 5544, 'perch': 5545, 'perched': 5546, 'perches': 5547, 'perching': 5548, 'perfect': 5549, 'perfectly': 5550, 'perform': 5551, 'performance': 5552, 'performed': 5553, 'performer': 5554, 'performers': 5555, 'performing': 5556, 'performs': 5557, 'perhaps': 5558, 'perimeter': 5559, 'period': 5560, 'peripheral': 5561, 'peripherals': 5562, 'perked': 5563, 'perpendicular': 5564, 'persian': 5565, 'person': 5566, 'personal': 5567, 'personalized': 5568, 'personnel': 5569, 'persons': 5570, 'perspective': 5571, 'peson': 5572, 'pesto': 5573, 'pet': 5574, 'petals': 5575, 'peter': 5576, 'pets': 5577, 'petted': 5578, 'petting': 5579, 'pews': 5580, 'pf': 5581, 'philadelphia': 5582, 'phone': 5583, 'phones': 5584, 'photo': 5585, 'photograph': 5586, 'photographed': 5587, 'photographer': 5588, 'photographers': 5589, 'photographic': 5590, 'photographing': 5591, 'photographs': 5592, 'photography': 5593, 'photos': 5594, 'photoshop': 5595, 'photoshopped': 5596, 'phrase': 5597, 'piano': 5598, 'pic': 5599, 'pick': 5600, 'picked': 5601, 'picker': 5602, 'picket': 5603, 'picking': 5604, 'pickle': 5605, 'pickled': 5606, 'pickles': 5607, 'picks': 5608, 'pickup': 5609, 'picnic': 5610, 'pics': 5611, 'picture': 5612, 'pictured': 5613, 'pictures': 5614, 'picturesque': 5615, 'pie': 5616, 'piece': 5617, 'pieces': 5618, 'pier': 5619, 'piercing': 5620, 'piers': 5621, 'pies': 5622, 'pig': 5623, 'pigeon': 5624, 'pigeons': 5625, 'piggy': 5626, 'pigs': 5627, 'pigtails': 5628, 'pike': 5629, 'pile': 5630, 'piled': 5631, 'piles': 5632, 'pill': 5633, 'pillar': 5634, 'pillars': 5635, 'pilled': 5636, 'pillow': 5637, 'pillowcases': 5638, 'pillows': 5639, 'pills': 5640, 'pilot': 5641, 'pilots': 5642, 'pin': 5643, 'pine': 5644, 'pineapple': 5645, 'pineapples': 5646, 'pines': 5647, 'ping': 5648, 'pink': 5649, 'pinking': 5650, 'pinkish': 5651, 'pinned': 5652, 'pinning': 5653, 'pins': 5654, 'pinstripe': 5655, 'pinstriped': 5656, 'pint': 5657, 'pipe': 5658, 'pipeline': 5659, 'pipes': 5660, 'piping': 5661, 'pirate': 5662, 'pirates': 5663, 'pit': 5664, 'pita': 5665, 'pitch': 5666, 'pitched': 5667, 'pitcher': 5668, 'pitchers': 5669, 'pitches': 5670, 'pitching': 5671, 'pizza': 5672, 'pizzas': 5673, 'pizzeria': 5674, 'place': 5675, 'placed': 5676, 'placemat': 5677, 'placemats': 5678, 'places': 5679, 'placid': 5680, 'placing': 5681, 'plaid': 5682, 'plain': 5683, 'plains': 5684, 'plan': 5685, 'plane': 5686, 'planes': 5687, 'plank': 5688, 'planks': 5689, 'plans': 5690, 'plant': 5691, 'plantain': 5692, 'plantains': 5693, 'planted': 5694, 'planter': 5695, 'planters': 5696, 'plants': 5697, 'plaque': 5698, 'plaques': 5699, 'plaster': 5700, 'plastered': 5701, 'plastic': 5702, 'plat': 5703, 'plate': 5704, 'plated': 5705, 'plater': 5706, 'plates': 5707, 'platform': 5708, 'platforms': 5709, 'plating': 5710, 'plats': 5711, 'platter': 5712, 'platters': 5713, 'play': 5714, 'played': 5715, 'player': 5716, 'players': 5717, 'playful': 5718, 'playfully': 5719, 'playground': 5720, 'playing': 5721, 'playroom': 5722, 'plays': 5723, 'playstation': 5724, 'plaza': 5725, 'pleasant': 5726, 'please': 5727, 'pleased': 5728, 'pleasure': 5729, 'plentiful': 5730, 'plenty': 5731, 'plethora': 5732, 'pliers': 5733, 'plot': 5734, 'plow': 5735, 'plowed': 5736, 'plowing': 5737, 'plug': 5738, 'plugged': 5739, 'plugging': 5740, 'plugs': 5741, 'plumbing': 5742, 'plume': 5743, 'plump': 5744, 'plums': 5745, 'plunger': 5746, 'plus': 5747, 'plush': 5748, 'plying': 5749, 'plywood': 5750, 'pm': 5751, 'pocket': 5752, 'pockets': 5753, 'pod': 5754, 'podium': 5755, 'pods': 5756, 'poem': 5757, 'point': 5758, 'pointed': 5759, 'pointing': 5760, 'points': 5761, 'pointy': 5762, 'poised': 5763, 'poked': 5764, 'pokes': 5765, 'poking': 5766, 'polar': 5767, 'polaroid': 5768, 'pole': 5769, 'poles': 5770, 'police': 5771, 'policeman': 5772, 'policemen': 5773, 'polish': 5774, 'polished': 5775, 'political': 5776, 'politician': 5777, 'politicians': 5778, 'polka': 5779, 'poll': 5780, 'polo': 5781, 'pom': 5782, 'pomegranate': 5783, 'pomegranates': 5784, 'pomeranian': 5785, 'pond': 5786, 'pondering': 5787, 'pong': 5788, 'ponies': 5789, 'pontoon': 5790, 'pony': 5791, 'ponytail': 5792, 'poodle': 5793, 'pooh': 5794, 'pool': 5795, 'pools': 5796, 'poop': 5797, 'poor': 5798, 'poorly': 5799, 'pop': 5800, 'popcorn': 5801, 'popping': 5802, 'poppy': 5803, 'pops': 5804, 'popsicle': 5805, 'popular': 5806, 'populated': 5807, 'porcelain': 5808, 'porch': 5809, 'porcupine': 5810, 'pork': 5811, 'port': 5812, 'portable': 5813, 'portion': 5814, 'portions': 5815, 'portrait': 5816, 'portraits': 5817, 'pose': 5818, 'posed': 5819, 'poses': 5820, 'posh': 5821, 'posing': 5822, 'position': 5823, 'positioned': 5824, 'positions': 5825, 'possible': 5826, 'possibly': 5827, 'post': 5828, 'postage': 5829, 'postal': 5830, 'postcard': 5831, 'posted': 5832, 'poster': 5833, 'posters': 5834, 'posting': 5835, 'posts': 5836, 'pot': 5837, 'potato': 5838, 'potatoes': 5839, 'potential': 5840, 'pots': 5841, 'potted': 5842, 'potter': 5843, 'pottery': 5844, 'potty': 5845, 'pouch': 5846, 'pounce': 5847, 'pound': 5848, 'pour': 5849, 'poured': 5850, 'pouring': 5851, 'pours': 5852, 'powder': 5853, 'powdered': 5854, 'powdery': 5855, 'power': 5856, 'powered': 5857, 'powerful': 5858, 'practical': 5859, 'practice': 5860, 'practices': 5861, 'practicing': 5862, 'prairie': 5863, 'praying': 5864, 'pre': 5865, 'predators': 5866, 'preforming': 5867, 'preforms': 5868, 'pregnant': 5869, 'prep': 5870, 'preparation': 5871, 'preparations': 5872, 'prepare': 5873, 'prepared': 5874, 'prepares': 5875, 'preparing': 5876, 'prepped': 5877, 'prepping': 5878, 'present': 5879, 'presentation': 5880, 'presented': 5881, 'presenting': 5882, 'presents': 5883, 'preserve': 5884, 'president': 5885, 'presidential': 5886, 'presidents': 5887, 'press': 5888, 'pressed': 5889, 'presses': 5890, 'pressing': 5891, 'pressure': 5892, 'pretend': 5893, 'pretending': 5894, 'pretends': 5895, 'pretty': 5896, 'pretzel': 5897, 'pretzels': 5898, 'prey': 5899, 'price': 5900, 'prices': 5901, 'pride': 5902, 'priest': 5903, 'primitive': 5904, 'prince': 5905, 'princess': 5906, 'print': 5907, 'printed': 5908, 'printer': 5909, 'printing': 5910, 'prints': 5911, 'prior': 5912, 'prison': 5913, 'pristine': 5914, 'privacy': 5915, 'private': 5916, 'prize': 5917, 'prizes': 5918, 'pro': 5919, 'probably': 5920, 'problem': 5921, 'procedure': 5922, 'proceed': 5923, 'proceeding': 5924, 'proceeds': 5925, 'process': 5926, 'processing': 5927, 'procession': 5928, 'processor': 5929, 'produce': 5930, 'producing': 5931, 'product': 5932, 'production': 5933, 'products': 5934, 'professional': 5935, 'professionally': 5936, 'professionals': 5937, 'profile': 5938, 'program': 5939, 'programming': 5940, 'progress': 5941, 'project': 5942, 'projected': 5943, 'projection': 5944, 'projector': 5945, 'projects': 5946, 'prom': 5947, 'prominent': 5948, 'prominently': 5949, 'promotional': 5950, 'prone': 5951, 'prop': 5952, 'propane': 5953, 'propeller': 5954, 'propellers': 5955, 'propellor': 5956, 'propellors': 5957, 'proper': 5958, 'properly': 5959, 'property': 5960, 'propped': 5961, 'propping': 5962, 'props': 5963, 'prosciutto': 5964, 'protect': 5965, 'protected': 5966, 'protecting': 5967, 'protection': 5968, 'protective': 5969, 'protector': 5970, 'protects': 5971, 'protein': 5972, 'protest': 5973, 'protester': 5974, 'protesters': 5975, 'protesting': 5976, 'protestors': 5977, 'protrudes': 5978, 'protruding': 5979, 'proud': 5980, 'proudly': 5981, 'provide': 5982, 'provided': 5983, 'provides': 5984, 'providing': 5985, 'proximity': 5986, 'pub': 5987, 'public': 5988, 'pudding': 5989, 'puddle': 5990, 'puddles': 5991, 'puff': 5992, 'puffs': 5993, 'puffy': 5994, 'pug': 5995, 'pugs': 5996, 'pull': 5997, 'pulled': 5998, 'pulling': 5999, 'pulls': 6000, 'pump': 6001, 'pumping': 6002, 'pumpkin': 6003, 'pumpkins': 6004, 'pumps': 6005, 'punch': 6006, 'puncher': 6007, 'punching': 6008, 'punk': 6009, 'pup': 6010, 'puppet': 6011, 'puppets': 6012, 'puppies': 6013, 'puppy': 6014, 'purchase': 6015, 'purchased': 6016, 'purchasing': 6017, 'purple': 6018, 'purpose': 6019, 'purse': 6020, 'purses': 6021, 'pursuit': 6022, 'push': 6023, 'pushed': 6024, 'pushes': 6025, 'pushing': 6026, 'put': 6027, 'puts': 6028, 'putting': 6029, 'puzzle': 6030, 'puzzled': 6031, 'pylons': 6032, 'pyramid': 6033, 'pyramids': 6034, 'q': 6035, 'qantas': 6036, 'quad': 6037, 'quaint': 6038, 'quality': 6039, 'quantity': 6040, 'quarter': 6041, 'quarters': 6042, 'queen': 6043, 'quesadilla': 6044, 'question': 6045, 'queue': 6046, 'quiche': 6047, 'quick': 6048, 'quickly': 6049, 'quiet': 6050, 'quietly': 6051, 'quilt': 6052, 'quilted': 6053, 'quite': 6054, 'quote': 6055, 'r': 6056, 'rabbit': 6057, 'rabbits': 6058, 'race': 6059, 'racer': 6060, 'racers': 6061, 'races': 6062, 'racetrack': 6063, 'racing': 6064, 'rack': 6065, 'racket': 6066, 'rackets': 6067, 'rackett': 6068, 'racks': 6069, 'racquet': 6070, 'racquets': 6071, 'radiator': 6072, 'radio': 6073, 'radishes': 6074, 'raft': 6075, 'rafters': 6076, 'rafts': 6077, 'rag': 6078, 'raggedy': 6079, 'rags': 6080, 'rail': 6081, 'railed': 6082, 'railing': 6083, 'railings': 6084, 'railroad': 6085, 'rails': 6086, 'railway': 6087, 'railways': 6088, 'rain': 6089, 'rainbow': 6090, 'raincoat': 6091, 'raincoats': 6092, 'rained': 6093, 'raining': 6094, 'rains': 6095, 'rainy': 6096, 'raised': 6097, 'raises': 6098, 'raising': 6099, 'raisins': 6100, 'rally': 6101, 'ram': 6102, 'ramen': 6103, 'ramp': 6104, 'ramps': 6105, 'rams': 6106, 'ran': 6107, 'ranch': 6108, 'rancher': 6109, 'random': 6110, 'range': 6111, 'ranger': 6112, 'ranges': 6113, 'rapid': 6114, 'rapidly': 6115, 'rapids': 6116, 'raquet': 6117, 'rare': 6118, 'rared': 6119, 'raring': 6120, 'raspberries': 6121, 'raspberry': 6122, 'rat': 6123, 'ratchet': 6124, 'rather': 6125, 'ravioli': 6126, 'raw': 6127, 'ray': 6128, 'rays': 6129, 'razor': 6130, 'rd': 6131, 're': 6132, 'reach': 6133, 'reached': 6134, 'reaches': 6135, 'reaching': 6136, 'react': 6137, 'reacting': 6138, 'reacts': 6139, 'read': 6140, 'reader': 6141, 'readied': 6142, 'readies': 6143, 'reading': 6144, 'reads': 6145, 'ready': 6146, 'readying': 6147, 'real': 6148, 'realistic': 6149, 'really': 6150, 'rear': 6151, 'rearing': 6152, 'rears': 6153, 'rearview': 6154, 'reason': 6155, 'receipt': 6156, 'receive': 6157, 'receiver': 6158, 'receives': 6159, 'receiving': 6160, 'recently': 6161, 'reception': 6162, 'recess': 6163, 'recessed': 6164, 'recipe': 6165, 'recliner': 6166, 'reclines': 6167, 'reclining': 6168, 'recognizable': 6169, 'record': 6170, 'recorder': 6171, 'recording': 6172, 'records': 6173, 'recreation': 6174, 'recreational': 6175, 'rectangle': 6176, 'rectangular': 6177, 'recycling': 6178, 'red': 6179, 'reddish': 6180, 'redheaded': 6181, 'redone': 6182, 'reeds': 6183, 'reef': 6184, 'ref': 6185, 'referee': 6186, 'reflect': 6187, 'reflected': 6188, 'reflecting': 6189, 'reflection': 6190, 'reflections': 6191, 'reflective': 6192, 'reflects': 6193, 'refreshments': 6194, 'refridgerator': 6195, 'refrigerated': 6196, 'refrigeration': 6197, 'refrigerator': 6198, 'refrigerators': 6199, 'refueling': 6200, 'regal': 6201, 'region': 6202, 'register': 6203, 'regular': 6204, 'reigns': 6205, 'reindeer': 6206, 'reins': 6207, 'related': 6208, 'relatively': 6209, 'relax': 6210, 'relaxed': 6211, 'relaxes': 6212, 'relaxing': 6213, 'release': 6214, 'released': 6215, 'releases': 6216, 'releasing': 6217, 'relief': 6218, 'religious': 6219, 'relish': 6220, 'remain': 6221, 'remaining': 6222, 'remains': 6223, 'remarkable': 6224, 'remnants': 6225, 'remodel': 6226, 'remodeled': 6227, 'remodeling': 6228, 'remote': 6229, 'remotes': 6230, 'remove': 6231, 'removed': 6232, 'removes': 6233, 'removing': 6234, 'renaissance': 6235, 'rendering': 6236, 'renovated': 6237, 'renovation': 6238, 'renovations': 6239, 'rent': 6240, 'rental': 6241, 'repair': 6242, 'repaired': 6243, 'repairing': 6244, 'repairs': 6245, 'replaced': 6246, 'replica': 6247, 'reporter': 6248, 'reporters': 6249, 'representation': 6250, 'representing': 6251, 'rescue': 6252, 'resemble': 6253, 'resembles': 6254, 'resembling': 6255, 'residence': 6256, 'residential': 6257, 'resort': 6258, 'respected': 6259, 'respective': 6260, 'response': 6261, 'rest': 6262, 'restaraunt': 6263, 'restaurant': 6264, 'restaurants': 6265, 'rested': 6266, 'resting': 6267, 'restored': 6268, 'restroom': 6269, 'restrooms': 6270, 'rests': 6271, 'resturant': 6272, 'retail': 6273, 'retaining': 6274, 'retrieve': 6275, 'retriever': 6276, 'retrieves': 6277, 'retrieving': 6278, 'retro': 6279, 'return': 6280, 'returned': 6281, 'returning': 6282, 'returns': 6283, 'reveal': 6284, 'revealing': 6285, 'reveals': 6286, 'review': 6287, 'rhino': 6288, 'rhinoceros': 6289, 'rhinos': 6290, 'ribbon': 6291, 'ribbons': 6292, 'ribs': 6293, 'rice': 6294, 'rich': 6295, 'rickshaw': 6296, 'ridden': 6297, 'ridding': 6298, 'ride': 6299, 'rider': 6300, 'riderless': 6301, 'riders': 6302, 'rides': 6303, 'ridge': 6304, 'riding': 6305, 'rifle': 6306, 'rig': 6307, 'right': 6308, 'rim': 6309, 'rimmed': 6310, 'rims': 6311, 'ring': 6312, 'rings': 6313, 'rink': 6314, 'ripe': 6315, 'ripened': 6316, 'ripeness': 6317, 'ripening': 6318, 'ripped': 6319, 'rise': 6320, 'rises': 6321, 'rising': 6322, 'river': 6323, 'riverbank': 6324, 'riverboat': 6325, 'rivers': 6326, 'riverside': 6327, 'road': 6328, 'roads': 6329, 'roadside': 6330, 'roadway': 6331, 'roam': 6332, 'roaming': 6333, 'roams': 6334, 'roaring': 6335, 'roast': 6336, 'roasted': 6337, 'roasting': 6338, 'robe': 6339, 'robes': 6340, 'robin': 6341, 'robot': 6342, 'robotic': 6343, 'rock': 6344, 'rockefeller': 6345, 'rocket': 6346, 'rocking': 6347, 'rocks': 6348, 'rocky': 6349, 'rod': 6350, 'rode': 6351, 'rodent': 6352, 'rodeo': 6353, 'rods': 6354, 'role': 6355, 'roles': 6356, 'rolex': 6357, 'roll': 6358, 'rolled': 6359, 'roller': 6360, 'rollerblading': 6361, 'rolling': 6362, 'rolls': 6363, 'rom': 6364, 'roman': 6365, 'ronald': 6366, 'roof': 6367, 'roofed': 6368, 'roofs': 6369, 'rooftop': 6370, 'rooftops': 6371, 'room': 6372, 'roomful': 6373, 'rooms': 6374, 'rooster': 6375, 'roosters': 6376, 'root': 6377, 'roots': 6378, 'rope': 6379, 'roped': 6380, 'ropes': 6381, 'roping': 6382, 'rose': 6383, 'roses': 6384, 'rotating': 6385, 'rotten': 6386, 'rotting': 6387, 'rotunda': 6388, 'rough': 6389, 'round': 6390, 'roundabout': 6391, 'rounded': 6392, 'rounding': 6393, 'rounds': 6394, 'route': 6395, 'routes': 6396, 'rover': 6397, 'row': 6398, 'rowboat': 6399, 'rowboats': 6400, 'rowers': 6401, 'rowing': 6402, 'rows': 6403, 'royal': 6404, 'rub': 6405, 'rubber': 6406, 'rubbing': 6407, 'rubbish': 6408, 'rubble': 6409, 'rubs': 6410, 'ruby': 6411, 'ruck': 6412, 'rue': 6413, 'ruffled': 6414, 'rug': 6415, 'rugby': 6416, 'rugged': 6417, 'rugs': 6418, 'ruined': 6419, 'ruins': 6420, 'ruler': 6421, 'rulers': 6422, 'rules': 6423, 'rummaging': 6424, 'rumpled': 6425, 'run': 6426, 'runaway': 6427, 'rundown': 6428, 'runner': 6429, 'runners': 6430, 'running': 6431, 'runs': 6432, 'runway': 6433, 'runways': 6434, 'rural': 6435, 'rush': 6436, 'rushes': 6437, 'rushing': 6438, 'russian': 6439, 'rust': 6440, 'rusted': 6441, 'rustic': 6442, 'rusting': 6443, 'rusty': 6444, 'rv': 6445, 'rye': 6446, 's': 6447, 'saab': 6448, 'sac': 6449, 'sack': 6450, 'sad': 6451, 'saddle': 6452, 'saddled': 6453, 'saddles': 6454, 'sadly': 6455, 'safari': 6456, 'safe': 6457, 'safely': 6458, 'safety': 6459, 'safeway': 6460, 'said': 6461, 'sail': 6462, 'sailboard': 6463, 'sailboat': 6464, 'sailboats': 6465, 'sailing': 6466, 'sailor': 6467, 'sailors': 6468, 'sails': 6469, 'saint': 6470, 'salad': 6471, 'salads': 6472, 'salami': 6473, 'sale': 6474, 'sales': 6475, 'salesman': 6476, 'salmon': 6477, 'salon': 6478, 'saloon': 6479, 'salsa': 6480, 'salt': 6481, 'saluting': 6482, 'salvation': 6483, 'same': 6484, 'sample': 6485, 'samples': 6486, 'sampling': 6487, 'samsung': 6488, 'san': 6489, 'sanctioned': 6490, 'sanctuary': 6491, 'sand': 6492, 'sandal': 6493, 'sandals': 6494, 'sanding': 6495, 'sands': 6496, 'sandwhich': 6497, 'sandwhiches': 6498, 'sandwich': 6499, 'sandwiched': 6500, 'sandwiches': 6501, 'sandy': 6502, 'sanitizer': 6503, 'santa': 6504, 'sas': 6505, 'sat': 6506, 'satchel': 6507, 'satellite': 6508, 'satin': 6509, 'sauce': 6510, 'saucer': 6511, 'saucers': 6512, 'sauces': 6513, 'sauerkraut': 6514, 'sausage': 6515, 'sausages': 6516, 'sauteed': 6517, 'savanna': 6518, 'savannah': 6519, 'save': 6520, 'saw': 6521, 'say': 6522, 'saying': 6523, 'says': 6524, 'scaffolding': 6525, 'scale': 6526, 'scallions': 6527, 'scallops': 6528, 'scanner': 6529, 'scantily': 6530, 'scape': 6531, 'scarecrow': 6532, 'scared': 6533, 'scarf': 6534, 'scarfs': 6535, 'scarves': 6536, 'scary': 6537, 'scatter': 6538, 'scattered': 6539, 'scene': 6540, 'scenery': 6541, 'scenes': 6542, 'scenic': 6543, 'scheme': 6544, 'school': 6545, 'schoolbus': 6546, 'science': 6547, 'scissor': 6548, 'scissors': 6549, 'scones': 6550, 'scoop': 6551, 'scooping': 6552, 'scoops': 6553, 'scooter': 6554, 'scooters': 6555, 'score': 6556, 'scoreboard': 6557, 'scott': 6558, 'scottish': 6559, 'scout': 6560, 'scrambled': 6561, 'scrap': 6562, 'scraps': 6563, 'scratch': 6564, 'scratched': 6565, 'scratches': 6566, 'scratching': 6567, 'scream': 6568, 'screaming': 6569, 'screen': 6570, 'screened': 6571, 'screens': 6572, 'screwdriver': 6573, 'screwed': 6574, 'scrolling': 6575, 'scrub': 6576, 'scrubber': 6577, 'scrubby': 6578, 'scrubs': 6579, 'scruffy': 6580, 'scuba': 6581, 'sculpted': 6582, 'sculpture': 6583, 'sculptures': 6584, 'sea': 6585, 'seafood': 6586, 'seagull': 6587, 'seagulls': 6588, 'seal': 6589, 'sealed': 6590, 'seaplane': 6591, 'search': 6592, 'searching': 6593, 'seashells': 6594, 'seashore': 6595, 'seaside': 6596, 'season': 6597, 'seasoned': 6598, 'seasoning': 6599, 'seasonings': 6600, 'seat': 6601, 'seated': 6602, 'seating': 6603, 'seats': 6604, 'seattle': 6605, 'seaweed': 6606, 'secluded': 6607, 'second': 6608, 'section': 6609, 'sectional': 6610, 'sectioned': 6611, 'sections': 6612, 'secured': 6613, 'security': 6614, 'sedan': 6615, 'see': 6616, 'seed': 6617, 'seeds': 6618, 'seeing': 6619, 'seeking': 6620, 'seem': 6621, 'seemingly': 6622, 'seems': 6623, 'seen': 6624, 'sees': 6625, 'segments': 6626, 'selecting': 6627, 'selection': 6628, 'selections': 6629, 'self': 6630, 'selfie': 6631, 'selfies': 6632, 'sell': 6633, 'selling': 6634, 'sells': 6635, 'semi': 6636, 'seminar': 6637, 'send': 6638, 'sending': 6639, 'senior': 6640, 'seniors': 6641, 'separate': 6642, 'separated': 6643, 'separates': 6644, 'separating': 6645, 'seperate': 6646, 'seperated': 6647, 'sepia': 6648, 'sequence': 6649, 'serene': 6650, 'series': 6651, 'serious': 6652, 'seriously': 6653, 'serve': 6654, 'served': 6655, 'server': 6656, 'servers': 6657, 'serves': 6658, 'service': 6659, 'serviced': 6660, 'services': 6661, 'servicing': 6662, 'serving': 6663, 'servings': 6664, 'sesame': 6665, 'session': 6666, 'set': 6667, 'sets': 6668, 'settee': 6669, 'setting': 6670, 'settings': 6671, 'setup': 6672, 'seuss': 6673, 'seven': 6674, 'several': 6675, 'sewing': 6676, 'sewn': 6677, 'sex': 6678, 'sexy': 6679, 'shabby': 6680, 'shack': 6681, 'shacks': 6682, 'shade': 6683, 'shaded': 6684, 'shades': 6685, 'shading': 6686, 'shadow': 6687, 'shadowed': 6688, 'shadows': 6689, 'shadowy': 6690, 'shady': 6691, 'shaggy': 6692, 'shake': 6693, 'shaker': 6694, 'shakers': 6695, 'shakes': 6696, 'shakespeare': 6697, 'shaking': 6698, 'shallow': 6699, 'shallows': 6700, 'shampoo': 6701, 'shape': 6702, 'shaped': 6703, 'shapes': 6704, 'shapped': 6705, 'share': 6706, 'shared': 6707, 'shares': 6708, 'sharing': 6709, 'shark': 6710, 'sharp': 6711, 'sharpener': 6712, 'sharpening': 6713, 'sharpie': 6714, 'shattered': 6715, 'shave': 6716, 'shaved': 6717, 'shaven': 6718, 'shaves': 6719, 'shaving': 6720, 'shavings': 6721, 'shawl': 6722, 'she': 6723, 'shear': 6724, 'sheared': 6725, 'shearing': 6726, 'shears': 6727, 'shed': 6728, 'sheep': 6729, 'sheepdog': 6730, 'sheeps': 6731, 'sheer': 6732, 'sheered': 6733, 'sheering': 6734, 'sheers': 6735, 'sheet': 6736, 'sheeted': 6737, 'sheets': 6738, 'shelf': 6739, 'shelfs': 6740, 'shell': 6741, 'shells': 6742, 'shelter': 6743, 'shelve': 6744, 'shelves': 6745, 'shelving': 6746, 'shepard': 6747, 'shepherd': 6748, 'shetland': 6749, 'shield': 6750, 'shift': 6751, 'shine': 6752, 'shines': 6753, 'shining': 6754, 'shinning': 6755, 'shiny': 6756, 'ship': 6757, 'shipping': 6758, 'ships': 6759, 'shirt': 6760, 'shirted': 6761, 'shirtless': 6762, 'shirts': 6763, 'shit': 6764, 'shocked': 6765, 'shoe': 6766, 'shoelace': 6767, 'shoeless': 6768, 'shoes': 6769, 'shoot': 6770, 'shooting': 6771, 'shoots': 6772, 'shop': 6773, 'shopped': 6774, 'shopper': 6775, 'shoppers': 6776, 'shopping': 6777, 'shops': 6778, 'shore': 6779, 'shoreline': 6780, 'shores': 6781, 'shorn': 6782, 'short': 6783, 'shortcake': 6784, 'shorter': 6785, 'shortly': 6786, 'shorts': 6787, 'shot': 6788, 'shots': 6789, 'should': 6790, 'shoulder': 6791, 'shoulders': 6792, 'shoved': 6793, 'shovel': 6794, 'shoveling': 6795, 'shoving': 6796, 'show': 6797, 'showcase': 6798, 'showcasing': 6799, 'showed': 6800, 'shower': 6801, 'showerhead': 6802, 'showing': 6803, 'shown': 6804, 'showroom': 6805, 'shows': 6806, 'shred': 6807, 'shredded': 6808, 'shredding': 6809, 'shrimp': 6810, 'shrine': 6811, 'shrub': 6812, 'shrubbery': 6813, 'shrubs': 6814, 'shut': 6815, 'shutter': 6816, 'shutters': 6817, 'shuttle': 6818, 'siamese': 6819, 'sibling': 6820, 'siblings': 6821, 'sick': 6822, 'side': 6823, 'sideboard': 6824, 'sidecar': 6825, 'sidecars': 6826, 'sided': 6827, 'sideline': 6828, 'sidelines': 6829, 'sides': 6830, 'sidewalk': 6831, 'sidewalks': 6832, 'sideways': 6833, 'siding': 6834, 'sidwalk': 6835, 'sigh': 6836, 'sight': 6837, 'sightseeing': 6838, 'sign': 6839, 'signage': 6840, 'signal': 6841, 'signaling': 6842, 'signals': 6843, 'signed': 6844, 'signing': 6845, 'signpost': 6846, 'signs': 6847, 'sil': 6848, 'silhouette': 6849, 'silhouetted': 6850, 'silhouettes': 6851, 'silk': 6852, 'sill': 6853, 'silly': 6854, 'silo': 6855, 'silos': 6856, 'silver': 6857, 'silverware': 6858, 'similar': 6859, 'similarly': 6860, 'simple': 6861, 'simply': 6862, 'simulator': 6863, 'simultaneously': 6864, 'sin': 6865, 'since': 6866, 'sing': 6867, 'singer': 6868, 'singing': 6869, 'single': 6870, 'sings': 6871, 'singular': 6872, 'sink': 6873, 'sinking': 6874, 'sinks': 6875, 'sip': 6876, 'sipping': 6877, 'sips': 6878, 'sister': 6879, 'sisters': 6880, 'sit': 6881, 'site': 6882, 'sites': 6883, 'siting': 6884, 'sits': 6885, 'sittign': 6886, 'sittin': 6887, 'sitting': 6888, 'situated': 6889, 'situation': 6890, 'six': 6891, 'sixteen': 6892, 'size': 6893, 'sized': 6894, 'sizes': 6895, 'skate': 6896, 'skatebaord': 6897, 'skateboard': 6898, 'skateboarded': 6899, 'skateboarder': 6900, 'skateboarders': 6901, 'skateboarding': 6902, 'skateboards': 6903, 'skatepark': 6904, 'skater': 6905, 'skaters': 6906, 'skates': 6907, 'skating': 6908, 'skeleton': 6909, 'skewered': 6910, 'skewers': 6911, 'ski': 6912, 'skidding': 6913, 'skier': 6914, 'skiers': 6915, 'skies': 6916, 'skiff': 6917, 'skii': 6918, 'skiier': 6919, 'skiiers': 6920, 'skiies': 6921, 'skiiing': 6922, 'skiing': 6923, 'skiis': 6924, 'skill': 6925, 'skilled': 6926, 'skillet': 6927, 'skillets': 6928, 'skillfully': 6929, 'skills': 6930, 'skim': 6931, 'skimpy': 6932, 'skin': 6933, 'sking': 6934, 'skinned': 6935, 'skinny': 6936, 'skirt': 6937, 'skirts': 6938, 'skis': 6939, 'skull': 6940, 'skulls': 6941, 'sky': 6942, 'skying': 6943, 'skylight': 6944, 'skyline': 6945, 'skyscraper': 6946, 'skyscrapers': 6947, 'skyteam': 6948, 'slab': 6949, 'slabs': 6950, 'slacks': 6951, 'slalom': 6952, 'slam': 6953, 'slanted': 6954, 'slap': 6955, 'slat': 6956, 'slate': 6957, 'slathered': 6958, 'slats': 6959, 'slatted': 6960, 'slaw': 6961, 'sled': 6962, 'sledding': 6963, 'sleds': 6964, 'sleek': 6965, 'sleep': 6966, 'sleeping': 6967, 'sleeps': 6968, 'sleepy': 6969, 'sleeve': 6970, 'sleeved': 6971, 'sleeveless': 6972, 'sleeves': 6973, 'sleigh': 6974, 'slender': 6975, 'slice': 6976, 'sliced': 6977, 'slicer': 6978, 'slices': 6979, 'slicing': 6980, 'slid': 6981, 'slide': 6982, 'slider': 6983, 'slides': 6984, 'sliding': 6985, 'slight': 6986, 'slightly': 6987, 'slim': 6988, 'sling': 6989, 'slip': 6990, 'slippers': 6991, 'slippery': 6992, 'slips': 6993, 'slit': 6994, 'sliver': 6995, 'slop': 6996, 'slope': 6997, 'sloped': 6998, 'slopes': 6999, 'sloping': 7000, 'sloppy': 7001, 'slot': 7002, 'slow': 7003, 'slowing': 7004, 'slowly': 7005, 'slug': 7006, 'slushy': 7007, 'smal': 7008, 'small': 7009, 'smaller': 7010, 'smart': 7011, 'smartphone': 7012, 'smartphones': 7013, 'smashed': 7014, 'smeared': 7015, 'smell': 7016, 'smelling': 7017, 'smile': 7018, 'smiles': 7019, 'smiley': 7020, 'smiling': 7021, 'smirk': 7022, 'smith': 7023, 'smoggy': 7024, 'smoke': 7025, 'smoked': 7026, 'smokes': 7027, 'smokey': 7028, 'smoking': 7029, 'smooth': 7030, 'smoothie': 7031, 'smoothies': 7032, 'smothered': 7033, 'snack': 7034, 'snacking': 7035, 'snacks': 7036, 'snail': 7037, 'snake': 7038, 'snap': 7039, 'snapshot': 7040, 'sneaker': 7041, 'sneakers': 7042, 'sneaks': 7043, 'sniff': 7044, 'sniffing': 7045, 'sniffs': 7046, 'snoozing': 7047, 'snout': 7048, 'snow': 7049, 'snowboard': 7050, 'snowboarder': 7051, 'snowboarders': 7052, 'snowboarding': 7053, 'snowboards': 7054, 'snowfall': 7055, 'snowing': 7056, 'snowman': 7057, 'snowmen': 7058, 'snowmobile': 7059, 'snows': 7060, 'snowshoes': 7061, 'snowstorm': 7062, 'snowsuit': 7063, 'snowsuits': 7064, 'snowy': 7065, 'snuggle': 7066, 'snuggled': 7067, 'snuggles': 7068, 'snuggling': 7069, 'so': 7070, 'soaked': 7071, 'soaking': 7072, 'soap': 7073, 'soaps': 7074, 'soapy': 7075, 'soar': 7076, 'soaring': 7077, 'soars': 7078, 'soccer': 7079, 'soccerball': 7080, 'soccor': 7081, 'social': 7082, 'socialize': 7083, 'socializing': 7084, 'sock': 7085, 'socks': 7086, 'soda': 7087, 'sodas': 7088, 'sofa': 7089, 'sofas': 7090, 'soft': 7091, 'softball': 7092, 'soil': 7093, 'soiled': 7094, 'solar': 7095, 'sold': 7096, 'soldier': 7097, 'soldiers': 7098, 'sole': 7099, 'solid': 7100, 'solitary': 7101, 'solo': 7102, 'somber': 7103, 'sombrero': 7104, 'some': 7105, 'somebody': 7106, 'someone': 7107, 'someones': 7108, 'something': 7109, 'somewhat': 7110, 'somewhere': 7111, 'son': 7112, 'song': 7113, 'sons': 7114, 'sony': 7115, 'soon': 7116, 'sophisticated': 7117, 'sort': 7118, 'sorting': 7119, 'sorts': 7120, 'souffle': 7121, 'soul': 7122, 'sound': 7123, 'soup': 7124, 'soups': 7125, 'sour': 7126, 'source': 7127, 'south': 7128, 'southern': 7129, 'southwest': 7130, 'southwestern': 7131, 'sown': 7132, 'sox': 7133, 'spa': 7134, 'space': 7135, 'spaceous': 7136, 'spaces': 7137, 'spacious': 7138, 'spaghetti': 7139, 'spandex': 7140, 'spaniel': 7141, 'spanish': 7142, 'spanning': 7143, 'spans': 7144, 'spare': 7145, 'sparkler': 7146, 'sparklers': 7147, 'sparkling': 7148, 'sparrow': 7149, 'sparse': 7150, 'sparsely': 7151, 'spatula': 7152, 'spatulas': 7153, 'speak': 7154, 'speaker': 7155, 'speakers': 7156, 'speaking': 7157, 'speaks': 7158, 'spear': 7159, 'speared': 7160, 'spears': 7161, 'special': 7162, 'specially': 7163, 'specialty': 7164, 'species': 7165, 'specific': 7166, 'speckled': 7167, 'spectator': 7168, 'spectators': 7169, 'speech': 7170, 'speed': 7171, 'speedboat': 7172, 'speeding': 7173, 'speeds': 7174, 'spell': 7175, 'spelled': 7176, 'spend': 7177, 'spending': 7178, 'spewing': 7179, 'spice': 7180, 'spices': 7181, 'spicy': 7182, 'spider': 7183, 'spigot': 7184, 'spiked': 7185, 'spikes': 7186, 'spiky': 7187, 'spill': 7188, 'spilled': 7189, 'spilling': 7190, 'spin': 7191, 'spinach': 7192, 'spinning': 7193, 'spins': 7194, 'spiral': 7195, 'spire': 7196, 'spires': 7197, 'spirit': 7198, 'spitting': 7199, 'splash': 7200, 'splashes': 7201, 'splashing': 7202, 'splayed': 7203, 'split': 7204, 'splits': 7205, 'sponge': 7206, 'spool': 7207, 'spools': 7208, 'spoon': 7209, 'spoonful': 7210, 'spooning': 7211, 'spoons': 7212, 'sport': 7213, 'sporting': 7214, 'sports': 7215, 'sporty': 7216, 'spot': 7217, 'spotless': 7218, 'spotlight': 7219, 'spots': 7220, 'spotted': 7221, 'spout': 7222, 'spouting': 7223, 'sprawled': 7224, 'spray': 7225, 'sprayed': 7226, 'sprayer': 7227, 'spraying': 7228, 'sprays': 7229, 'spread': 7230, 'spreading': 7231, 'spreads': 7232, 'sprig': 7233, 'spring': 7234, 'springs': 7235, 'sprinkle': 7236, 'sprinkled': 7237, 'sprinkles': 7238, 'sprinkling': 7239, 'sprints': 7240, 'sprout': 7241, 'sprouting': 7242, 'sprouts': 7243, 'squad': 7244, 'squadron': 7245, 'square': 7246, 'squared': 7247, 'squares': 7248, 'squash': 7249, 'squat': 7250, 'squats': 7251, 'squatted': 7252, 'squatting': 7253, 'squeezed': 7254, 'squeezing': 7255, 'squid': 7256, 'squinting': 7257, 'squints': 7258, 'squirrel': 7259, 'squirting': 7260, 'squished': 7261, 'st': 7262, 'stabbed': 7263, 'stabbing': 7264, 'stable': 7265, 'stables': 7266, 'stack': 7267, 'stacked': 7268, 'stacking': 7269, 'stacks': 7270, 'stadium': 7271, 'staff': 7272, 'stage': 7273, 'stagecoach': 7274, 'staged': 7275, 'stages': 7276, 'stain': 7277, 'stained': 7278, 'stainless': 7279, 'stains': 7280, 'stair': 7281, 'staircase': 7282, 'stairs': 7283, 'stairway': 7284, 'stairwell': 7285, 'stake': 7286, 'staked': 7287, 'stalk': 7288, 'stalks': 7289, 'stall': 7290, 'stalls': 7291, 'stamp': 7292, 'stance': 7293, 'stand': 7294, 'standard': 7295, 'standing': 7296, 'standng': 7297, 'stands': 7298, 'standstill': 7299, 'standup': 7300, 'staning': 7301, 'staples': 7302, 'star': 7303, 'starbucks': 7304, 'stare': 7305, 'stares': 7306, 'staring': 7307, 'stark': 7308, 'starring': 7309, 'stars': 7310, 'start': 7311, 'starting': 7312, 'startled': 7313, 'starts': 7314, 'state': 7315, 'stately': 7316, 'statement': 7317, 'states': 7318, 'stating': 7319, 'station': 7320, 'stationary': 7321, 'stationed': 7322, 'stations': 7323, 'statue': 7324, 'statues': 7325, 'stature': 7326, 'statute': 7327, 'stay': 7328, 'staying': 7329, 'steady': 7330, 'steak': 7331, 'steal': 7332, 'stealing': 7333, 'steam': 7334, 'steamboat': 7335, 'steamed': 7336, 'steaming': 7337, 'steams': 7338, 'steel': 7339, 'steep': 7340, 'steeple': 7341, 'steeples': 7342, 'steer': 7343, 'steering': 7344, 'steers': 7345, 'steet': 7346, 'stem': 7347, 'stemmed': 7348, 'stems': 7349, 'step': 7350, 'stepped': 7351, 'stepping': 7352, 'steps': 7353, 'stereo': 7354, 'sterile': 7355, 'stern': 7356, 'stethoscope': 7357, 'steve': 7358, 'stevens': 7359, 'stew': 7360, 'stick': 7361, 'sticker': 7362, 'stickers': 7363, 'sticking': 7364, 'sticks': 7365, 'sticky': 7366, 'still': 7367, 'stillness': 7368, 'stilts': 7369, 'stir': 7370, 'stirred': 7371, 'stirring': 7372, 'stirs': 7373, 'stitch': 7374, 'stitched': 7375, 'stnading': 7376, 'stock': 7377, 'stocked': 7378, 'stocking': 7379, 'stockings': 7380, 'stomach': 7381, 'stomachs': 7382, 'stone': 7383, 'stoned': 7384, 'stones': 7385, 'stony': 7386, 'stood': 7387, 'stooges': 7388, 'stool': 7389, 'stools': 7390, 'stoop': 7391, 'stooping': 7392, 'stoops': 7393, 'stop': 7394, 'stoplight': 7395, 'stoplights': 7396, 'stopped': 7397, 'stopping': 7398, 'stops': 7399, 'storage': 7400, 'store': 7401, 'stored': 7402, 'storefront': 7403, 'storefronts': 7404, 'stores': 7405, 'stories': 7406, 'storing': 7407, 'stork': 7408, 'storm': 7409, 'stormy': 7410, 'story': 7411, 'stove': 7412, 'stoves': 7413, 'stovetop': 7414, 'straddling': 7415, 'straight': 7416, 'straightening': 7417, 'strain': 7418, 'strainer': 7419, 'straining': 7420, 'strand': 7421, 'stranded': 7422, 'strands': 7423, 'strange': 7424, 'strangely': 7425, 'strap': 7426, 'strapped': 7427, 'strapping': 7428, 'straps': 7429, 'strategically': 7430, 'straw': 7431, 'strawberries': 7432, 'strawberry': 7433, 'straws': 7434, 'stray': 7435, 'streak': 7436, 'streaked': 7437, 'streaking': 7438, 'streaks': 7439, 'stream': 7440, 'streamers': 7441, 'streaming': 7442, 'streamlined': 7443, 'streams': 7444, 'stree': 7445, 'street': 7446, 'streetcar': 7447, 'streetlight': 7448, 'streetlights': 7449, 'streets': 7450, 'stret': 7451, 'stretch': 7452, 'stretched': 7453, 'stretches': 7454, 'stretching': 7455, 'strewn': 7456, 'stride': 7457, 'strike': 7458, 'strikes': 7459, 'striking': 7460, 'string': 7461, 'strings': 7462, 'strip': 7463, 'stripe': 7464, 'striped': 7465, 'stripes': 7466, 'stripped': 7467, 'strips': 7468, 'stroke': 7469, 'strokes': 7470, 'stroll': 7471, 'stroller': 7472, 'strolling': 7473, 'strolls': 7474, 'strong': 7475, 'structure': 7476, 'structures': 7477, 'struggles': 7478, 'struggling': 7479, 'strung': 7480, 'struts': 7481, 'stucco': 7482, 'stuck': 7483, 'student': 7484, 'students': 7485, 'studies': 7486, 'studio': 7487, 'study': 7488, 'studying': 7489, 'stuff': 7490, 'stuffed': 7491, 'stuffing': 7492, 'stuffs': 7493, 'stump': 7494, 'stumps': 7495, 'stunning': 7496, 'stunt': 7497, 'stunts': 7498, 'style': 7499, 'styled': 7500, 'styles': 7501, 'styling': 7502, 'stylish': 7503, 'stylized': 7504, 'stylus': 7505, 'styrofoam': 7506, 'sub': 7507, 'subject': 7508, 'submarine': 7509, 'submerged': 7510, 'subs': 7511, 'substance': 7512, 'suburban': 7513, 'subway': 7514, 'successful': 7515, 'successfully': 7516, 'such': 7517, 'sucking': 7518, 'suckles': 7519, 'suckling': 7520, 'sugar': 7521, 'sugared': 7522, 'sugary': 7523, 'suit': 7524, 'suitcase': 7525, 'suitcases': 7526, 'suite': 7527, 'suited': 7528, 'suites': 7529, 'suits': 7530, 'sum': 7531, 'summer': 7532, 'summit': 7533, 'sumo': 7534, 'sun': 7535, 'sunbathers': 7536, 'sunbathing': 7537, 'sundae': 7538, 'sunday': 7539, 'sundown': 7540, 'sunflower': 7541, 'sunflowers': 7542, 'sunglasses': 7543, 'sunk': 7544, 'sunken': 7545, 'sunlight': 7546, 'sunlit': 7547, 'sunning': 7548, 'sunny': 7549, 'sunrise': 7550, 'sunset': 7551, 'sunshine': 7552, 'super': 7553, 'supermarket': 7554, 'supplies': 7555, 'supply': 7556, 'support': 7557, 'supported': 7558, 'supporting': 7559, 'supports': 7560, 'supreme': 7561, 'surboard': 7562, 'sure': 7563, 'surf': 7564, 'surface': 7565, 'surfaces': 7566, 'surfboard': 7567, 'surfboarder': 7568, 'surfboarders': 7569, 'surfboarding': 7570, 'surfboards': 7571, 'surfer': 7572, 'surfers': 7573, 'surfing': 7574, 'surfs': 7575, 'surgery': 7576, 'surgical': 7577, 'surprise': 7578, 'surprised': 7579, 'surround': 7580, 'surrounded': 7581, 'surrounding': 7582, 'surroundings': 7583, 'surrounds': 7584, 'surveying': 7585, 'susan': 7586, 'sushi': 7587, 'suspended': 7588, 'suspenders': 7589, 'suspension': 7590, 'sustenance': 7591, 'suv': 7592, 'swaddled': 7593, 'swamp': 7594, 'swampy': 7595, 'swan': 7596, 'swans': 7597, 'sweat': 7598, 'sweater': 7599, 'sweaters': 7600, 'sweating': 7601, 'sweatpants': 7602, 'sweatshirt': 7603, 'sweaty': 7604, 'sweeper': 7605, 'sweeping': 7606, 'sweet': 7607, 'sweets': 7608, 'swerving': 7609, 'swift': 7610, 'swiftly': 7611, 'swim': 7612, 'swimmer': 7613, 'swimmers': 7614, 'swimming': 7615, 'swims': 7616, 'swimsuit': 7617, 'swimsuits': 7618, 'swimwear': 7619, 'swing': 7620, 'swinging': 7621, 'swings': 7622, 'swirl': 7623, 'swirled': 7624, 'swirling': 7625, 'swirls': 7626, 'swirly': 7627, 'swiss': 7628, 'switch': 7629, 'switching': 7630, 'sword': 7631, 'swords': 7632, 'swung': 7633, 'sydney': 7634, 'symbol': 7635, 'symbols': 7636, 'sync': 7637, 'syrup': 7638, 'system': 7639, 'systems': 7640, 't': 7641, 'tab': 7642, 'tabby': 7643, 'tabe': 7644, 'table': 7645, 'tablecloth': 7646, 'tables': 7647, 'tablet': 7648, 'tabletop': 7649, 'tablets': 7650, 'tack': 7651, 'tacks': 7652, 'taco': 7653, 'tacos': 7654, 'tag': 7655, 'tagged': 7656, 'tagging': 7657, 'tags': 7658, 'taht': 7659, 'tail': 7660, 'tailed': 7661, 'tailgate': 7662, 'tails': 7663, 'take': 7664, 'taken': 7665, 'takeoff': 7666, 'takeout': 7667, 'takes': 7668, 'taking': 7669, 'talbe': 7670, 'talbot': 7671, 'tale': 7672, 'talk': 7673, 'talkie': 7674, 'talking': 7675, 'talks': 7676, 'tall': 7677, 'taller': 7678, 'tan': 7679, 'tandem': 7680, 'tangerine': 7681, 'tangerines': 7682, 'tangle': 7683, 'tangled': 7684, 'tank': 7685, 'tanker': 7686, 'tankless': 7687, 'tanks': 7688, 'tanning': 7689, 'tape': 7690, 'taped': 7691, 'tapes': 7692, 'tapestry': 7693, 'tapping': 7694, 'taps': 7695, 'tar': 7696, 'target': 7697, 'tarmac': 7698, 'tarp': 7699, 'tarps': 7700, 'tart': 7701, 'tartar': 7702, 'tarts': 7703, 'task': 7704, 'tasks': 7705, 'taste': 7706, 'tastefully': 7707, 'tastes': 7708, 'tasting': 7709, 'tasty': 7710, 'tater': 7711, 'tattered': 7712, 'tattoo': 7713, 'tattooed': 7714, 'tattoos': 7715, 'taught': 7716, 'tavern': 7717, 'taxi': 7718, 'taxidermy': 7719, 'taxiing': 7720, 'taxing': 7721, 'taxis': 7722, 'te': 7723, 'tea': 7724, 'teach': 7725, 'teacher': 7726, 'teachers': 7727, 'teaches': 7728, 'teaching': 7729, 'teacup': 7730, 'teal': 7731, 'team': 7732, 'teammate': 7733, 'teammates': 7734, 'teams': 7735, 'teapot': 7736, 'tear': 7737, 'tearing': 7738, 'tech': 7739, 'technological': 7740, 'technology': 7741, 'ted': 7742, 'teddy': 7743, 'teddybear': 7744, 'tee': 7745, 'teen': 7746, 'teenage': 7747, 'teenaged': 7748, 'teenager': 7749, 'teenagers': 7750, 'teens': 7751, 'teeshirt': 7752, 'teeth': 7753, 'teh': 7754, 'telephone': 7755, 'telephones': 7756, 'telescope': 7757, 'television': 7758, 'televisions': 7759, 'tell': 7760, 'telling': 7761, 'tells': 7762, 'temperature': 7763, 'temple': 7764, 'temporary': 7765, 'tempting': 7766, 'ten': 7767, 'tend': 7768, 'tended': 7769, 'tending': 7770, 'tends': 7771, 'tennis': 7772, 'tent': 7773, 'tents': 7774, 'teresa': 7775, 'terminal': 7776, 'terminals': 7777, 'terrace': 7778, 'terrain': 7779, 'terrible': 7780, 'terrier': 7781, 'territory': 7782, 'test': 7783, 'tested': 7784, 'testing': 7785, 'tether': 7786, 'tethered': 7787, 'texas': 7788, 'text': 7789, 'textbook': 7790, 'texting': 7791, 'texts': 7792, 'textured': 7793, 'th': 7794, 'thai': 7795, 'thames': 7796, 'than': 7797, 'thank': 7798, 'thanksgiving': 7799, 'that': 7800, 'thatch': 7801, 'thatched': 7802, 'thats': 7803, 'the': 7804, 'theater': 7805, 'theatre': 7806, 'thee': 7807, 'their': 7808, 'them': 7809, 'theme': 7810, 'themed': 7811, 'themes': 7812, 'themself': 7813, 'themselves': 7814, 'then': 7815, 'ther': 7816, 'there': 7817, 'theres': 7818, 'thermometer': 7819, 'thermos': 7820, 'these': 7821, 'they': 7822, 'thick': 7823, 'thicket': 7824, 'thigh': 7825, 'thin': 7826, 'thing': 7827, 'things': 7828, 'think': 7829, 'thinking': 7830, 'thinks': 7831, 'thinly': 7832, 'third': 7833, 'thirteen': 7834, 'this': 7835, 'thomas': 7836, 'thorny': 7837, 'thorough': 7838, 'those': 7839, 'though': 7840, 'thought': 7841, 'thoughtful': 7842, 'thousands': 7843, 'thre': 7844, 'thread': 7845, 'three': 7846, 'threw': 7847, 'through': 7848, 'throughout': 7849, 'throw': 7850, 'throwing': 7851, 'thrown': 7852, 'throws': 7853, 'thru': 7854, 'thumb': 7855, 'thumbs': 7856, 'tiara': 7857, 'ticket': 7858, 'tickets': 7859, 'tide': 7860, 'tidy': 7861, 'tie': 7862, 'tied': 7863, 'tier': 7864, 'tiered': 7865, 'tiers': 7866, 'ties': 7867, 'tiger': 7868, 'tigers': 7869, 'tight': 7870, 'tightly': 7871, 'tights': 7872, 'tiki': 7873, 'tile': 7874, 'tiled': 7875, 'tiles': 7876, 'tiling': 7877, 'tilted': 7878, 'tilting': 7879, 'tilts': 7880, 'tim': 7881, 'time': 7882, 'timer': 7883, 'times': 7884, 'timey': 7885, 'tin': 7886, 'tinfoil': 7887, 'ting': 7888, 'tins': 7889, 'tinsel': 7890, 'tint': 7891, 'tinted': 7892, 'tiny': 7893, 'tip': 7894, 'tipped': 7895, 'tipping': 7896, 'tips': 7897, 'tire': 7898, 'tired': 7899, 'tires': 7900, 'tissue': 7901, 'tissues': 7902, 'title': 7903, 'titled': 7904, 'to': 7905, 'toa': 7906, 'toast': 7907, 'toasted': 7908, 'toaster': 7909, 'toasters': 7910, 'toasting': 7911, 'today': 7912, 'toddler': 7913, 'toddlers': 7914, 'toe': 7915, 'toes': 7916, 'tofu': 7917, 'toga': 7918, 'together': 7919, 'toiled': 7920, 'toiler': 7921, 'toilet': 7922, 'toiletries': 7923, 'toiletry': 7924, 'toilets': 7925, 'toilette': 7926, 'tokyo': 7927, 'toliet': 7928, 'toll': 7929, 'tomato': 7930, 'tomatoe': 7931, 'tomatoes': 7932, 'tomatos': 7933, 'ton': 7934, 'tone': 7935, 'toned': 7936, 'tones': 7937, 'tongs': 7938, 'tongue': 7939, 'tonight': 7940, 'tons': 7941, 'too': 7942, 'took': 7943, 'tool': 7944, 'toolbox': 7945, 'tools': 7946, 'tooth': 7947, 'toothbrush': 7948, 'toothbrushes': 7949, 'toothpaste': 7950, 'toothpick': 7951, 'toothpicks': 7952, 'top': 7953, 'toped': 7954, 'topless': 7955, 'topped': 7956, 'topper': 7957, 'topping': 7958, 'toppings': 7959, 'tops': 7960, 'torches': 7961, 'torn': 7962, 'toronto': 7963, 'torso': 7964, 'tortilla': 7965, 'tortillas': 7966, 'tortoiseshell': 7967, 'toss': 7968, 'tossed': 7969, 'tosses': 7970, 'tossing': 7971, 'tot': 7972, 'totally': 7973, 'tote': 7974, 'toting': 7975, 'tots': 7976, 'touch': 7977, 'touched': 7978, 'touches': 7979, 'touching': 7980, 'tour': 7981, 'touring': 7982, 'tourist': 7983, 'tourists': 7984, 'tournament': 7985, 'tours': 7986, 'tow': 7987, 'toward': 7988, 'towards': 7989, 'towed': 7990, 'towel': 7991, 'towels': 7992, 'tower': 7993, 'towering': 7994, 'towers': 7995, 'towing': 7996, 'town': 7997, 'towns': 7998, 'tows': 7999, 'toy': 8000, 'toyota': 8001, 'toys': 8002, 'tp': 8003, 'track': 8004, 'tracks': 8005, 'tractor': 8006, 'tractors': 8007, 'trade': 8008, 'traditional': 8009, 'traffic': 8010, 'trail': 8011, 'trailer': 8012, 'trailers': 8013, 'trailing': 8014, 'trails': 8015, 'train': 8016, 'trained': 8017, 'trainer': 8018, 'trainers': 8019, 'training': 8020, 'trains': 8021, 'tram': 8022, 'trams': 8023, 'tranquil': 8024, 'transformed': 8025, 'transit': 8026, 'transparent': 8027, 'transport': 8028, 'transportation': 8029, 'transported': 8030, 'transporting': 8031, 'transports': 8032, 'trapped': 8033, 'trash': 8034, 'trashcan': 8035, 'trashcans': 8036, 'travel': 8037, 'traveled': 8038, 'traveler': 8039, 'travelers': 8040, 'traveling': 8041, 'travelling': 8042, 'travels': 8043, 'traversing': 8044, 'tray': 8045, 'trays': 8046, 'treading': 8047, 'treat': 8048, 'treats': 8049, 'tree': 8050, 'treed': 8051, 'trees': 8052, 'treetops': 8053, 'trek': 8054, 'trekking': 8055, 'treks': 8056, 'trellis': 8057, 'trench': 8058, 'tress': 8059, 'trestle': 8060, 'trey': 8061, 'tri': 8062, 'trial': 8063, 'triangle': 8064, 'triangles': 8065, 'triangular': 8066, 'trick': 8067, 'tricks': 8068, 'tricky': 8069, 'tricycle': 8070, 'tried': 8071, 'tries': 8072, 'trike': 8073, 'trim': 8074, 'trimmed': 8075, 'trimming': 8076, 'trimmings': 8077, 'trinkets': 8078, 'trio': 8079, 'trip': 8080, 'triple': 8081, 'tripod': 8082, 'triumph': 8083, 'triumphantly': 8084, 'troll': 8085, 'trolley': 8086, 'trolleys': 8087, 'trolly': 8088, 'trombone': 8089, 'troop': 8090, 'trooper': 8091, 'trophies': 8092, 'trophy': 8093, 'tropical': 8094, 'trot': 8095, 'trots': 8096, 'trotting': 8097, 'trouble': 8098, 'trough': 8099, 'truck': 8100, 'trucked': 8101, 'trucking': 8102, 'trucks': 8103, 'true': 8104, 'truly': 8105, 'trumpet': 8106, 'trunk': 8107, 'trunks': 8108, 'try': 8109, 'trying': 8110, 'tshirt': 8111, 'tub': 8112, 'tube': 8113, 'tubes': 8114, 'tubs': 8115, 'tuck': 8116, 'tucked': 8117, 'tucks': 8118, 'tug': 8119, 'tugboat': 8120, 'tugging': 8121, 'tulips': 8122, 'tummy': 8123, 'tun': 8124, 'tuna': 8125, 'tundra': 8126, 'tunnel': 8127, 'tupperware': 8128, 'turban': 8129, 'turbine': 8130, 'turbines': 8131, 'turbulent': 8132, 'turf': 8133, 'turkey': 8134, 'turkeys': 8135, 'turn': 8136, 'turned': 8137, 'turning': 8138, 'turnips': 8139, 'turns': 8140, 'turquoise': 8141, 'turtle': 8142, 'tusk': 8143, 'tusked': 8144, 'tusks': 8145, 'tux': 8146, 'tuxedo': 8147, 'tuxedos': 8148, 'tv': 8149, 'tvs': 8150, 'tweezers': 8151, 'twelve': 8152, 'twenty': 8153, 'twig': 8154, 'twigs': 8155, 'twilight': 8156, 'twin': 8157, 'twine': 8158, 'twins': 8159, 'twirling': 8160, 'twist': 8161, 'twisted': 8162, 'twisting': 8163, 'twists': 8164, 'two': 8165, 'twp': 8166, 'tye': 8167, 'tying': 8168, 'type': 8169, 'types': 8170, 'typewriter': 8171, 'typical': 8172, 'typing': 8173, 'u': 8174, 'ugly': 8175, 'uhaul': 8176, 'uk': 8177, 'ultimate': 8178, 'ultra': 8179, 'umbrealla': 8180, 'umbrella': 8181, 'umbrellas': 8182, 'ump': 8183, 'umpire': 8184, 'un': 8185, 'unable': 8186, 'unattended': 8187, 'unaware': 8188, 'unbaked': 8189, 'unclear': 8190, 'uncomfortable': 8191, 'uncooked': 8192, 'uncovered': 8193, 'uncut': 8194, 'under': 8195, 'underbrush': 8196, 'undergoing': 8197, 'underground': 8198, 'underneath': 8199, 'underpass': 8200, 'underside': 8201, 'understand': 8202, 'underwater': 8203, 'underway': 8204, 'underwear': 8205, 'undone': 8206, 'uneaten': 8207, 'unfinished': 8208, 'unfolded': 8209, 'unfurnished': 8210, 'unhappy': 8211, 'unicorn': 8212, 'unidentifiable': 8213, 'unidentified': 8214, 'uniform': 8215, 'uniformed': 8216, 'uniforms': 8217, 'union': 8218, 'unique': 8219, 'uniquely': 8220, 'unison': 8221, 'unit': 8222, 'united': 8223, 'units': 8224, 'university': 8225, 'unkempt': 8226, 'unknown': 8227, 'unlit': 8228, 'unload': 8229, 'unloaded': 8230, 'unloading': 8231, 'unmade': 8232, 'unoccupied': 8233, 'unopened': 8234, 'unpacked': 8235, 'unpainted': 8236, 'unpaved': 8237, 'unpeeled': 8238, 'unplugged': 8239, 'unripe': 8240, 'unripened': 8241, 'unseen': 8242, 'untidy': 8243, 'untied': 8244, 'until': 8245, 'untouched': 8246, 'unused': 8247, 'unusual': 8248, 'unusually': 8249, 'unwrapped': 8250, 'unzipped': 8251, 'up': 8252, 'upcoming': 8253, 'updated': 8254, 'uphill': 8255, 'upholstered': 8256, 'upon': 8257, 'upper': 8258, 'upright': 8259, 'ups': 8260, 'upscale': 8261, 'upset': 8262, 'upside': 8263, 'upstairs': 8264, 'upturned': 8265, 'upward': 8266, 'upwards': 8267, 'urban': 8268, 'urinal': 8269, 'urinals': 8270, 'urinating': 8271, 'urine': 8272, 'urn': 8273, 'urns': 8274, 'us': 8275, 'usa': 8276, 'usage': 8277, 'usb': 8278, 'use': 8279, 'used': 8280, 'user': 8281, 'users': 8282, 'uses': 8283, 'using': 8284, 'usual': 8285, 'usually': 8286, 'utensil': 8287, 'utensils': 8288, 'utilitarian': 8289, 'utility': 8290, 'utilizing': 8291, 'v': 8292, 'vacant': 8293, 'vacation': 8294, 'vacuum': 8295, 'vader': 8296, 'valentine': 8297, 'valentines': 8298, 'valley': 8299, 'valleys': 8300, 'valves': 8301, 'van': 8302, 'vancouver': 8303, 'vandalized': 8304, 'vane': 8305, 'vanilla': 8306, 'vanity': 8307, 'vans': 8308, 'variations': 8309, 'varied': 8310, 'varieties': 8311, 'variety': 8312, 'various': 8313, 'varying': 8314, 'vase': 8315, 'vases': 8316, 'vast': 8317, 'vaulted': 8318, 'vcr': 8319, 'vegan': 8320, 'vegetable': 8321, 'vegetables': 8322, 'vegetarian': 8323, 'vegetated': 8324, 'vegetation': 8325, 'veggie': 8326, 'veggies': 8327, 'vegitables': 8328, 'vegtables': 8329, 'vehicle': 8330, 'vehicles': 8331, 'vehicular': 8332, 'veil': 8333, 'vein': 8334, 'velvet': 8335, 'vending': 8336, 'vendor': 8337, 'vendors': 8338, 'venice': 8339, 'vent': 8340, 'ventilation': 8341, 'vents': 8342, 'venturing': 8343, 'venue': 8344, 'verdant': 8345, 'version': 8346, 'vertical': 8347, 'vertically': 8348, 'very': 8349, 'vespa': 8350, 'vespas': 8351, 'vessel': 8352, 'vessels': 8353, 'vest': 8354, 'vests': 8355, 'via': 8356, 'vibrant': 8357, 'vice': 8358, 'vicinity': 8359, 'victoria': 8360, 'victorian': 8361, 'victory': 8362, 'video': 8363, 'videogame': 8364, 'videos': 8365, 'vie': 8366, 'view': 8367, 'viewed': 8368, 'viewer': 8369, 'viewing': 8370, 'viewpoint': 8371, 'views': 8372, 'vigorously': 8373, 'villa': 8374, 'village': 8375, 'vine': 8376, 'vines': 8377, 'vineyard': 8378, 'vintage': 8379, 'vinyl': 8380, 'violet': 8381, 'violin': 8382, 'virgin': 8383, 'virtual': 8384, 'visible': 8385, 'vision': 8386, 'visit': 8387, 'visiting': 8388, 'visitor': 8389, 'visitors': 8390, 'visor': 8391, 'vista': 8392, 'vitamin': 8393, 'vitamins': 8394, 'vivid': 8395, 'vodka': 8396, 'volkswagen': 8397, 'volkswagon': 8398, 'volley': 8399, 'volleyball': 8400, 'volunteer': 8401, 'volunteers': 8402, 'vote': 8403, 'vultures': 8404, 'vw': 8405, 'vying': 8406, 'w': 8407, 'wade': 8408, 'wades': 8409, 'wading': 8410, 'wafer': 8411, 'waffle': 8412, 'waffles': 8413, 'wagging': 8414, 'wagon': 8415, 'wagons': 8416, 'waist': 8417, 'wait': 8418, 'waiter': 8419, 'waiters': 8420, 'waiting': 8421, 'waitress': 8422, 'waits': 8423, 'wake': 8424, 'wakeboard': 8425, 'wakeboarder': 8426, 'wakeboarding': 8427, 'waking': 8428, 'waling': 8429, 'walk': 8430, 'walked': 8431, 'walker': 8432, 'walkers': 8433, 'walkie': 8434, 'walking': 8435, 'walks': 8436, 'walkway': 8437, 'walkways': 8438, 'wall': 8439, 'walled': 8440, 'wallet': 8441, 'wallets': 8442, 'wallpaper': 8443, 'wallpapered': 8444, 'walls': 8445, 'walnut': 8446, 'walnuts': 8447, 'wand': 8448, 'wander': 8449, 'wandering': 8450, 'wanders': 8451, 'want': 8452, 'wanting': 8453, 'wants': 8454, 'war': 8455, 'ward': 8456, 'wardrobe': 8457, 'ware': 8458, 'warehouse': 8459, 'wares': 8460, 'waring': 8461, 'warm': 8462, 'warmer': 8463, 'warming': 8464, 'warmly': 8465, 'warms': 8466, 'warning': 8467, 'warns': 8468, 'warped': 8469, 'wars': 8470, 'was': 8471, 'wash': 8472, 'washbasin': 8473, 'washed': 8474, 'washer': 8475, 'washes': 8476, 'washing': 8477, 'washington': 8478, 'washroom': 8479, 'waste': 8480, 'wastebasket': 8481, 'watch': 8482, 'watched': 8483, 'watches': 8484, 'watching': 8485, 'water': 8486, 'watercraft': 8487, 'watered': 8488, 'waterfall': 8489, 'waterfront': 8490, 'waterhole': 8491, 'watering': 8492, 'watermelon': 8493, 'watermelons': 8494, 'waters': 8495, 'waterside': 8496, 'waterskiing': 8497, 'waterway': 8498, 'watery': 8499, 'wave': 8500, 'waves': 8501, 'waving': 8502, 'wavy': 8503, 'wax': 8504, 'waxed': 8505, 'waxing': 8506, 'way': 8507, 'wayland': 8508, 'ways': 8509, 'we': 8510, 'weapon': 8511, 'wear': 8512, 'wearing': 8513, 'wears': 8514, 'weather': 8515, 'weathered': 8516, 'weathervane': 8517, 'weaving': 8518, 'web': 8519, 'webpage': 8520, 'website': 8521, 'wed': 8522, 'wedding': 8523, 'wedge': 8524, 'wedged': 8525, 'wedges': 8526, 'weed': 8527, 'weeds': 8528, 'weight': 8529, 'weird': 8530, 'welcome': 8531, 'well': 8532, 'went': 8533, 'were': 8534, 'west': 8535, 'western': 8536, 'wet': 8537, 'wetsuit': 8538, 'wetsuits': 8539, 'whale': 8540, 'wharf': 8541, 'what': 8542, 'whats': 8543, 'wheat': 8544, 'wheel': 8545, 'wheelchair': 8546, 'wheelchairs': 8547, 'wheeled': 8548, 'wheeler': 8549, 'wheelers': 8550, 'wheelie': 8551, 'wheeling': 8552, 'wheels': 8553, 'when': 8554, 'where': 8555, 'whether': 8556, 'which': 8557, 'while': 8558, 'whimsical': 8559, 'whine': 8560, 'whip': 8561, 'whipped': 8562, 'whirlpool': 8563, 'whisk': 8564, 'whiskers': 8565, 'whiskey': 8566, 'whit': 8567, 'white': 8568, 'whiteboard': 8569, 'whites': 8570, 'whizzes': 8571, 'who': 8572, 'whole': 8573, 'wholly': 8574, 'whom': 8575, 'whose': 8576, 'why': 8577, 'wi': 8578, 'wicker': 8579, 'wide': 8580, 'widescreen': 8581, 'widow': 8582, 'width': 8583, 'wielding': 8584, 'wiener': 8585, 'wife': 8586, 'wig': 8587, 'wih': 8588, 'wiht': 8589, 'wii': 8590, 'wiimote': 8591, 'wild': 8592, 'wildebeest': 8593, 'wildebeests': 8594, 'wilderness': 8595, 'wildflowers': 8596, 'wildlife': 8597, 'wildly': 8598, 'wile': 8599, 'will': 8600, 'wilted': 8601, 'wilting': 8602, 'win': 8603, 'wind': 8604, 'winding': 8605, 'windmill': 8606, 'windmills': 8607, 'window': 8608, 'windowed': 8609, 'windows': 8610, 'windowsill': 8611, 'winds': 8612, 'windshield': 8613, 'windsurfer': 8614, 'windsurfers': 8615, 'windsurfing': 8616, 'windsurfs': 8617, 'windup': 8618, 'windy': 8619, 'wine': 8620, 'wineglass': 8621, 'wineglasses': 8622, 'winery': 8623, 'wines': 8624, 'wing': 8625, 'winged': 8626, 'wings': 8627, 'winking': 8628, 'winner': 8629, 'winners': 8630, 'winnie': 8631, 'winning': 8632, 'winter': 8633, 'wintery': 8634, 'wintry': 8635, 'wipe': 8636, 'wiped': 8637, 'wipes': 8638, 'wiping': 8639, 'wire': 8640, 'wired': 8641, 'wireless': 8642, 'wires': 8643, 'wiring': 8644, 'wispy': 8645, 'wit': 8646, 'with': 8647, 'witha': 8648, 'withe': 8649, 'within': 8650, 'without': 8651, 'witting': 8652, 'wizard': 8653, 'wok': 8654, 'wolf': 8655, 'woman': 8656, 'womans': 8657, 'women': 8658, 'won': 8659, 'wonder': 8660, 'wonderful': 8661, 'wonderland': 8662, 'wood': 8663, 'wooded': 8664, 'wooden': 8665, 'woodland': 8666, 'woods': 8667, 'woodsy': 8668, 'woody': 8669, 'wool': 8670, 'woolly': 8671, 'wooly': 8672, 'word': 8673, 'wording': 8674, 'words': 8675, 'work': 8676, 'workbench': 8677, 'worked': 8678, 'worker': 8679, 'workers': 8680, 'working': 8681, 'workings': 8682, 'works': 8683, 'workshop': 8684, 'workspace': 8685, 'workstation': 8686, 'world': 8687, 'worn': 8688, 'worshiping': 8689, 'would': 8690, 'woven': 8691, 'wrap': 8692, 'wrapped': 8693, 'wrapper': 8694, 'wrappers': 8695, 'wrapping': 8696, 'wraps': 8697, 'wreath': 8698, 'wreaths': 8699, 'wreck': 8700, 'wrecked': 8701, 'wrench': 8702, 'wrenches': 8703, 'wrestle': 8704, 'wrestler': 8705, 'wrestling': 8706, 'wrinkled': 8707, 'wrist': 8708, 'write': 8709, 'writes': 8710, 'writing': 8711, 'writings': 8712, 'written': 8713, 'wrong': 8714, 'wrote': 8715, 'wrought': 8716, 'wth': 8717, 'wtih': 8718, 'x': 8719, 'xbox': 8720, 'y': 8721, 'yacht': 8722, 'yachts': 8723, 'yak': 8724, 'yaks': 8725, 'yamaha': 8726, 'yankee': 8727, 'yankees': 8728, 'yard': 8729, 'yarn': 8730, 'yawning': 8731, 'yawns': 8732, 'year': 8733, 'years': 8734, 'yelling': 8735, 'yellow': 8736, 'yellowish': 8737, 'yells': 8738, 'yes': 8739, 'yet': 8740, 'yield': 8741, 'yoga': 8742, 'yogurt': 8743, 'york': 8744, 'you': 8745, 'young': 8746, 'younger': 8747, 'youngster': 8748, 'youngsters': 8749, 'your': 8750, 'yourself': 8751, 'youth': 8752, 'youths': 8753, 'yummy': 8754, 'zebra': 8755, 'zebras': 8756, 'zip': 8757, 'zippered': 8758, 'zipping': 8759, 'zombie': 8760, 'zombies': 8761, 'zone': 8762, 'zones': 8763, 'zoo': 8764, 'zookeeper': 8765, 'zoomed': 8766, 'zooms': 8767, 'zucchini': 8768}\n"
          ]
        }
      ]
    },
    {
      "cell_type": "code",
      "execution_count": 18,
      "metadata": {
        "ExecuteTime": {
          "end_time": "2017-09-17T14:43:53.206639Z",
          "start_time": "2017-09-17T14:43:44.826028Z"
        },
        "id": "e73cQ-QrZ4nj",
        "colab": {
          "base_uri": "https://localhost:8080/"
        },
        "outputId": "c0ef66c2-ac73-48bb-b40e-9a3533609f91"
      },
      "outputs": [
        {
          "output_type": "stream",
          "name": "stdout",
          "text": [
            "[[2, 54, 4462, 2305, 6328, 3354, 7848, 54, 3107, 0], [2, 54, 6540, 5127, 8486, 249, 54, 5437, 8507, 0], [2, 54, 6502, 5437, 7581, 1124, 8052, 4287, 7905, 54, 639, 0], [2, 5120, 8367, 7848, 54, 2305, 6328, 7581, 1124, 54, 3108, 331, 0], [2, 2305, 5437, 4286, 710, 587, 8052, 7905, 5174, 5684, 0]]\n",
            "[[2, 54, 6587, 6888, 5155, 7804, 5619, 8647, 7804, 4367, 3795, 691, 3709, 0], [2, 54, 761, 3998, 6888, 5155, 7804, 6081, 5025, 7905, 7804, 4211, 249, 54, 4367, 3795, 0], [2, 8568, 761, 6888, 3885, 3175, 5127, 54, 4371, 8647, 54, 6179, 6367, 0], [2, 54, 6587, 6271, 5155, 54, 1724, 8439, 8647, 7804, 5120, 249, 54, 4371, 3885, 7804, 485, 0], [2, 54, 6587, 6888, 5155, 54, 1326, 4316, 80, 3173, 54, 4371, 5812, 0]]\n"
          ]
        }
      ],
      "source": [
        "# replace tokens with indices\n",
        "train_captions_indexed = caption_tokens_to_indices(train_captions, vocab)\n",
        "val_captions_indexed = caption_tokens_to_indices(val_captions, vocab)"
      ]
    },
    {
      "cell_type": "markdown",
      "metadata": {
        "id": "rYsHEcQ3Z4nk"
      },
      "source": [
        "Captions have different length, but we need to batch them, that's why we will add PAD tokens so that all sentences have an equal length. \n",
        "\n",
        "We will crunch LSTM through all the tokens, but we will ignore padding tokens during loss calculation."
      ]
    },
    {
      "cell_type": "code",
      "execution_count": 21,
      "metadata": {
        "ExecuteTime": {
          "end_time": "2017-09-17T16:11:52.425546Z",
          "start_time": "2017-09-17T16:11:52.414004Z"
        },
        "id": "QgkK7a6PZ4nk"
      },
      "outputs": [],
      "source": [
        "# we will use this during training\n",
        "def batch_captions_to_matrix(batch_captions, pad_idx, max_len=None):\n",
        "    \"\"\"\n",
        "    `batch_captions` is an array of arrays:\n",
        "    [\n",
        "        [vocab[START], ..., vocab[END]],\n",
        "        [vocab[START], ..., vocab[END]],\n",
        "        ...\n",
        "    ]\n",
        "    Put vocabulary indexed captions into np.array of shape (len(batch_captions), columns),\n",
        "        where \"columns\" is max(map(len, batch_captions)) when max_len is None\n",
        "        and \"columns\" = min(max_len, max(map(len, batch_captions))) otherwise.\n",
        "    Add padding with pad_idx where necessary.\n",
        "    Input example: [[1, 2, 3], [4, 5]]\n",
        "    Output example: np.array([[1, 2, 3], [4, 5, pad_idx]]) if max_len=None\n",
        "    Output example: np.array([[1, 2], [4, 5]]) if max_len=2\n",
        "    Output example: np.array([[1, 2, 3], [4, 5, pad_idx]]) if max_len=100\n",
        "    Try to use numpy, we need this function to be fast!\n",
        "    \"\"\"\n",
        "    ###YOUR CODE HERE###\n",
        "    max_possible_len = max(map(len, batch_captions))\n",
        "    if max_len is None or max_len > max_possible_len:\n",
        "      max_len = max_possible_len\n",
        "\n",
        "    matrix = np.empty((len(batch_captions), max_len))\n",
        "    matrix.fill(pad_idx)\n",
        "    for row in range(matrix.shape[0]):\n",
        "      temp_max_len = min(max_len, len(batch_captions[row]))\n",
        "      matrix[row, :temp_max_len] = batch_captions[row][:temp_max_len]\n",
        "    return matrix"
      ]
    },
    {
      "cell_type": "code",
      "source": [
        "batch_captions = [[1, 2, 3], [4, 5]]\n",
        "pad_idx = 0\n",
        "max_len = 100\n",
        "print(batch_captions_to_matrix(batch_captions, pad_idx, max_len=max_len))"
      ],
      "metadata": {
        "colab": {
          "base_uri": "https://localhost:8080/"
        },
        "id": "kyJZ_8L000Nx",
        "outputId": "656f1ea6-e2d5-41e9-bf38-22d128fbfeb8"
      },
      "execution_count": null,
      "outputs": [
        {
          "output_type": "stream",
          "name": "stdout",
          "text": [
            "[[1. 2. 3.]\n",
            " [4. 5. 0.]]\n"
          ]
        }
      ]
    },
    {
      "cell_type": "code",
      "execution_count": 22,
      "metadata": {
        "ExecuteTime": {
          "end_time": "2017-09-17T16:12:02.051692Z",
          "start_time": "2017-09-17T16:12:02.045821Z"
        },
        "id": "7SP8AjrjZ4nk"
      },
      "outputs": [],
      "source": [
        "## GRADED PART, DO NOT CHANGE!\n",
        "# Vocabulary creation\n",
        "grader.set_answer(\"19Wpv\", grading_utils.test_vocab(vocab, PAD, UNK, START, END))\n",
        "# Captions indexing\n",
        "grader.set_answer(\"uJh73\", grading_utils.test_captions_indexing(train_captions_indexed, vocab, UNK))\n",
        "# Captions batching\n",
        "grader.set_answer(\"yiJkt\", grading_utils.test_captions_batching(batch_captions_to_matrix))"
      ]
    },
    {
      "cell_type": "code",
      "execution_count": null,
      "metadata": {
        "id": "3nvSLmSqZ4nk",
        "colab": {
          "base_uri": "https://localhost:8080/"
        },
        "outputId": "29db5bc1-6214-4b20-c5d5-930dbc515318"
      },
      "outputs": [
        {
          "output_type": "stream",
          "name": "stdout",
          "text": [
            "Submitted to Coursera platform. See results on assignment page!\n"
          ]
        }
      ],
      "source": [
        "# you can make submission with answers so far to check yourself at this stage\n",
        "grader.submit(COURSERA_EMAIL, COURSERA_TOKEN)"
      ]
    },
    {
      "cell_type": "code",
      "execution_count": 23,
      "metadata": {
        "id": "6StnyKhTZ4nk",
        "colab": {
          "base_uri": "https://localhost:8080/"
        },
        "outputId": "ae216a87-8d4b-446c-897f-2a76ae3154ac"
      },
      "outputs": [
        {
          "output_type": "stream",
          "name": "stdout",
          "text": [
            "[[2, 54, 4462, 2305, 6328, 3354, 7848, 54, 3107, 0], [2, 54, 6540, 5127, 8486, 249, 54, 5437, 8507, 0], [2, 54, 6502, 5437, 7581, 1124, 8052, 4287, 7905, 54, 639, 0], [2, 5120, 8367, 7848, 54, 2305, 6328, 7581, 1124, 54, 3108, 331, 0], [2, 2305, 5437, 4286, 710, 587, 8052, 7905, 5174, 5684, 0]]\n",
            "[[2, 54, 4462, 2305, 6328, 3354, 7848, 54, 3107, 0], [2, 54, 6540, 5127, 8486, 249, 54, 5437, 8507, 0], [2, 54, 6502, 5437, 7581, 1124, 8052, 4287, 7905, 54, 639, 0], [2, 5120, 8367, 7848, 54, 2305, 6328, 7581, 1124, 54, 3108, 331, 0], [2, 2305, 5437, 4286, 710, 587, 8052, 7905, 5174, 5684, 0]]\n"
          ]
        }
      ],
      "source": [
        "# make sure you use correct argument in caption_tokens_to_indices\n",
        "assert len(caption_tokens_to_indices(train_captions[:10], vocab)) == 10\n",
        "assert len(caption_tokens_to_indices(train_captions[:5], vocab)) == 5"
      ]
    },
    {
      "cell_type": "markdown",
      "metadata": {
        "ExecuteTime": {
          "end_time": "2017-08-27T13:34:09.664927Z",
          "start_time": "2017-08-27T13:34:09.662597Z"
        },
        "id": "YNLePJWxZ4nl"
      },
      "source": [
        "# Training"
      ]
    },
    {
      "cell_type": "markdown",
      "metadata": {
        "id": "WbXCkAKSZ4nl"
      },
      "source": [
        "## Define architecture"
      ]
    },
    {
      "cell_type": "markdown",
      "metadata": {
        "id": "JemYRdOnZ4nl"
      },
      "source": [
        "Since our problem is to generate image captions, RNN text generator should be conditioned on image. The idea is to use image features as an initial state for RNN instead of zeros. \n",
        "\n",
        "Remember that you should transform image feature vector to RNN hidden state size by fully-connected layer and then pass it to RNN.\n",
        "\n",
        "During training we will feed ground truth tokens into the lstm to get predictions of next tokens. \n",
        "\n",
        "Notice that we don't need to feed last token (END) as input (http://cs.stanford.edu/people/karpathy/):\n",
        "\n",
        "<img src=\"https://github.com/wpooimun/Coursera_IntroductionToDeepLearning/blob/main/intro-to-dl-master/week6/images/encoder_decoder_explained.png?raw=1\" style=\"width:50%\">"
      ]
    },
    {
      "cell_type": "code",
      "execution_count": 25,
      "metadata": {
        "ExecuteTime": {
          "end_time": "2017-09-17T16:33:04.453351Z",
          "start_time": "2017-09-17T16:33:04.449675Z"
        },
        "id": "dsXnFjJ0Z4nl"
      },
      "outputs": [],
      "source": [
        "IMG_EMBED_SIZE = train_img_embeds.shape[1]\n",
        "IMG_EMBED_BOTTLENECK = 120\n",
        "WORD_EMBED_SIZE = 100\n",
        "LSTM_UNITS = 300\n",
        "LOGIT_BOTTLENECK = 120\n",
        "pad_idx = vocab[PAD]"
      ]
    },
    {
      "cell_type": "code",
      "execution_count": 34,
      "metadata": {
        "ExecuteTime": {
          "end_time": "2017-09-17T16:38:46.296544Z",
          "start_time": "2017-09-17T16:38:46.290670Z"
        },
        "id": "hyy5QITcZ4nl"
      },
      "outputs": [],
      "source": [
        "# remember to reset your graph if you want to start building it from scratch!\n",
        "s = reset_tf_session()\n",
        "tf.set_random_seed(42)"
      ]
    },
    {
      "cell_type": "markdown",
      "metadata": {
        "id": "SeJr-W1hZ4nm"
      },
      "source": [
        "Here we define decoder graph.\n",
        "\n",
        "We use Keras layers where possible because we can use them in functional style with weights reuse like this:\n",
        "```python\n",
        "dense_layer = L.Dense(42, input_shape=(None, 100) activation='relu')\n",
        "a = tf.placeholder('float32', [None, 100])\n",
        "b = tf.placeholder('float32', [None, 100])\n",
        "dense_layer(a)  # that's how we applied dense layer!\n",
        "dense_layer(b)  # and again\n",
        "```"
      ]
    },
    {
      "cell_type": "markdown",
      "metadata": {
        "id": "ZOFFDGs5Z4nm"
      },
      "source": [
        "Here's a figure to help you with flattening in decoder:\n",
        "<img src=\"https://github.com/wpooimun/Coursera_IntroductionToDeepLearning/blob/main/intro-to-dl-master/week6/images/flatten_help.jpg?raw=1\" style=\"width:80%\">"
      ]
    },
    {
      "cell_type": "code",
      "execution_count": 35,
      "metadata": {
        "ExecuteTime": {
          "end_time": "2017-09-17T16:38:48.300312Z",
          "start_time": "2017-09-17T16:38:48.128590Z"
        },
        "id": "acIUhBY5Z4nm",
        "colab": {
          "base_uri": "https://localhost:8080/"
        },
        "outputId": "80a30164-d46f-4731-88db-8aa3fd7ed5c3"
      },
      "outputs": [
        {
          "output_type": "stream",
          "name": "stdout",
          "text": [
            "WARNING:tensorflow:From /tensorflow-1.15.2/python3.7/tensorflow_core/python/ops/array_ops.py:1475: where (from tensorflow.python.ops.array_ops) is deprecated and will be removed in a future version.\n",
            "Instructions for updating:\n",
            "Use tf.where in 2.0, which has the same broadcast rule as np.where\n"
          ]
        }
      ],
      "source": [
        "class decoder:\n",
        "    # [batch_size, IMG_EMBED_SIZE] of CNN image features\n",
        "    img_embeds = tf.placeholder('float32', [None, IMG_EMBED_SIZE])\n",
        "    # [batch_size, time steps] of word ids\n",
        "    sentences = tf.placeholder('int32', [None, None])\n",
        "    \n",
        "    # we use bottleneck here to reduce the number of parameters\n",
        "    # image embedding -> bottleneck\n",
        "    img_embed_to_bottleneck = L.Dense(IMG_EMBED_BOTTLENECK, \n",
        "                                      input_shape=(None, IMG_EMBED_SIZE), \n",
        "                                      activation='elu')\n",
        "    # image embedding bottleneck -> lstm initial state\n",
        "    img_embed_bottleneck_to_h0 = L.Dense(LSTM_UNITS,\n",
        "                                         input_shape=(None, IMG_EMBED_BOTTLENECK),\n",
        "                                         activation='elu')\n",
        "    # word -> embedding\n",
        "    word_embed = L.Embedding(len(vocab), WORD_EMBED_SIZE)\n",
        "    # lstm cell (from tensorflow)\n",
        "    lstm = tf.nn.rnn_cell.LSTMCell(LSTM_UNITS)\n",
        "    \n",
        "    # we use bottleneck here to reduce model complexity\n",
        "    # lstm output -> logits bottleneck\n",
        "    token_logits_bottleneck = L.Dense(LOGIT_BOTTLENECK, \n",
        "                                      input_shape=(None, LSTM_UNITS),\n",
        "                                      activation=\"elu\")\n",
        "    # logits bottleneck -> logits for next token prediction\n",
        "    token_logits = L.Dense(len(vocab),\n",
        "                           input_shape=(None, LOGIT_BOTTLENECK))\n",
        "    \n",
        "    # initial lstm cell state of shape (None, LSTM_UNITS),\n",
        "    # we need to condition it on `img_embeds` placeholder.\n",
        "    c0 = h0 = img_embed_bottleneck_to_h0(img_embed_to_bottleneck(img_embeds)) ### YOUR CODE HERE ###\n",
        "\n",
        "    # embed all tokens but the last for lstm input,\n",
        "    # remember that L.Embedding is callable,\n",
        "    # use `sentences` placeholder as input.\n",
        "    word_embeds = word_embed(sentences[:, :-1]) ### YOUR CODE HERE ###\n",
        "    \n",
        "    # during training we use ground truth tokens `word_embeds` as context for next token prediction.\n",
        "    # that means that we know all the inputs for our lstm and can get \n",
        "    # all the hidden states with one tensorflow operation (tf.nn.dynamic_rnn).\n",
        "    # `hidden_states` has a shape of [batch_size, time steps, LSTM_UNITS].\n",
        "    hidden_states, _ = tf.nn.dynamic_rnn(lstm, word_embeds,\n",
        "                                         initial_state=tf.nn.rnn_cell.LSTMStateTuple(c0, h0))\n",
        "\n",
        "    # now we need to calculate token logits for all the hidden states\n",
        "    \n",
        "    # first, we reshape `hidden_states` to [-1, LSTM_UNITS]\n",
        "    flat_hidden_states = tf.reshape(hidden_states, [-1, LSTM_UNITS]) ### YOUR CODE HERE ###\n",
        "\n",
        "    # then, we calculate logits for next tokens using `token_logits_bottleneck` and `token_logits` layers\n",
        "    flat_token_logits = token_logits(token_logits_bottleneck(flat_hidden_states)) ### YOUR CODE HERE ###\n",
        "    \n",
        "    # then, we flatten the ground truth token ids.\n",
        "    # remember, that we predict next tokens for each time step,\n",
        "    # use `sentences` placeholder.\n",
        "    flat_ground_truth = tf.reshape(sentences[:, 1:], [-1]) ### YOUR CODE HERE ###\n",
        "\n",
        "    # we need to know where we have real tokens (not padding) in `flat_ground_truth`,\n",
        "    # we don't want to propagate the loss for padded output tokens,\n",
        "    # fill `flat_loss_mask` with 1.0 for real tokens (not pad_idx) and 0.0 otherwise.\n",
        "    flat_loss_mask = tf.not_equal(flat_ground_truth, tf.constant(pad_idx))\n",
        "    # one_for_token = tf.ones_like(flat_ground_truth)\n",
        "    # zero_for_pad = tf.zeros_like(flat_ground_truth)\n",
        "    # flat_loss_mask =  tf.where(token_bool, zero_for_pad, one_for_token) ### YOUR CODE HERE ###\n",
        "    \n",
        "    # compute cross-entropy between `flat_ground_truth` and `flat_token_logits` predicted by lstm\n",
        "    xent = tf.nn.sparse_softmax_cross_entropy_with_logits(\n",
        "        labels=flat_ground_truth, \n",
        "        logits=flat_token_logits\n",
        "    )\n",
        "\n",
        "    # compute average `xent` over tokens with nonzero `flat_loss_mask`.\n",
        "    # we don't want to account misclassification of PAD tokens, because that doesn't make sense,\n",
        "    # we have PAD tokens for batching purposes only!\n",
        "    # loss = tf.reduce_mean(tf.multiply(xent,  tf.cast(flat_loss_mask, tf.float32))) ### YOUR CODE HERE ###\n",
        "    loss = tf.reduce_mean(tf.boolean_mask(xent,  tf.cast(flat_loss_mask, tf.float32))) ### YOUR CODE HERE ###"
      ]
    },
    {
      "cell_type": "code",
      "source": [
        "lst = np.array([[1,2,3,4,5],[1,2,3,4,5],[1,2,3,4,5]])\n",
        "print(lst[:,:-1])\n",
        "print(lst[:,1:])"
      ],
      "metadata": {
        "colab": {
          "base_uri": "https://localhost:8080/"
        },
        "id": "Cp23ISLD8R9m",
        "outputId": "05bffe54-bde3-4e13-96f4-1fb410f85d6b"
      },
      "execution_count": null,
      "outputs": [
        {
          "output_type": "stream",
          "name": "stdout",
          "text": [
            "[[1 2 3 4]\n",
            " [1 2 3 4]\n",
            " [1 2 3 4]]\n",
            "[[2 3 4 5]\n",
            " [2 3 4 5]\n",
            " [2 3 4 5]]\n"
          ]
        }
      ]
    },
    {
      "cell_type": "code",
      "execution_count": 37,
      "metadata": {
        "id": "vlDgVsxUZ4nn"
      },
      "outputs": [],
      "source": [
        "# define optimizer operation to minimize the loss\n",
        "optimizer = tf.train.AdamOptimizer(learning_rate=0.001)\n",
        "train_step = optimizer.minimize(decoder.loss)\n",
        "\n",
        "# will be used to save/load network weights.\n",
        "# you need to reset your default graph and define it in the same way to be able to load the saved weights!\n",
        "saver = tf.train.Saver()\n",
        "\n",
        "# intialize all variables\n",
        "s.run(tf.global_variables_initializer())"
      ]
    },
    {
      "cell_type": "code",
      "execution_count": 38,
      "metadata": {
        "id": "_lG622lNZ4nn"
      },
      "outputs": [],
      "source": [
        "## GRADED PART, DO NOT CHANGE!\n",
        "# Decoder shapes test\n",
        "grader.set_answer(\"rbpnH\", grading_utils.test_decoder_shapes(decoder, IMG_EMBED_SIZE, vocab, s))\n",
        "# Decoder random loss test\n",
        "grader.set_answer(\"E2OIL\", grading_utils.test_random_decoder_loss(decoder, IMG_EMBED_SIZE, vocab, s))"
      ]
    },
    {
      "cell_type": "code",
      "execution_count": null,
      "metadata": {
        "id": "_hhjap5XZ4nn",
        "colab": {
          "base_uri": "https://localhost:8080/"
        },
        "outputId": "7bfd54a1-45f8-4ae0-dfa0-017840c2f86b"
      },
      "outputs": [
        {
          "output_type": "stream",
          "name": "stdout",
          "text": [
            "Submitted to Coursera platform. See results on assignment page!\n"
          ]
        }
      ],
      "source": [
        "# you can make submission with answers so far to check yourself at this stage\n",
        "grader.submit(COURSERA_EMAIL, COURSERA_TOKEN)"
      ]
    },
    {
      "cell_type": "markdown",
      "metadata": {
        "id": "IGqL14FJZ4nn"
      },
      "source": [
        "## Training loop\n",
        "Evaluate train and validation metrics through training and log them. Ensure that loss decreases."
      ]
    },
    {
      "cell_type": "code",
      "execution_count": null,
      "metadata": {
        "ExecuteTime": {
          "end_time": "2017-09-17T14:43:59.397913Z",
          "start_time": "2017-09-17T14:43:58.913391Z"
        },
        "id": "TpNpb8E8Z4nn"
      },
      "outputs": [],
      "source": [
        "train_captions_indexed = np.array(train_captions_indexed)\n",
        "val_captions_indexed = np.array(val_captions_indexed)"
      ]
    },
    {
      "cell_type": "code",
      "execution_count": 40,
      "metadata": {
        "ExecuteTime": {
          "end_time": "2017-09-17T14:43:59.529548Z",
          "start_time": "2017-09-17T14:43:59.399567Z"
        },
        "id": "xCyQqNs1Z4nn"
      },
      "outputs": [],
      "source": [
        "# generate batch via random sampling of images and captions for them,\n",
        "# we use `max_len` parameter to control the length of the captions (truncating long captions)\n",
        "def generate_batch(images_embeddings, indexed_captions, batch_size, max_len=None):\n",
        "    \"\"\"\n",
        "    `images_embeddings` is a np.array of shape [number of images, IMG_EMBED_SIZE].\n",
        "    `indexed_captions` holds 5 vocabulary indexed captions for each image:\n",
        "    [\n",
        "        [\n",
        "            [vocab[START], vocab[\"image1\"], vocab[\"caption1\"], vocab[END]],\n",
        "            [vocab[START], vocab[\"image1\"], vocab[\"caption2\"], vocab[END]],\n",
        "            ...\n",
        "        ],\n",
        "        ...\n",
        "    ]\n",
        "    Generate a random batch of size `batch_size`.\n",
        "    Take random images and choose one random caption for each image.\n",
        "    Remember to use `batch_captions_to_matrix` for padding and respect `max_len` parameter.\n",
        "    Return feed dict {decoder.img_embeds: ..., decoder.sentences: ...}.\n",
        "    \"\"\"\n",
        "    ### YOUR CODE HERE ###\n",
        "\n",
        "    # image_idx = list(range(images_embeddings.shape[0]))\n",
        "    # np.random.shuffle(image_idx)\n",
        "    # selected_image_idx = image_idx[:batch_size]\n",
        "\n",
        "    selected_image_idx = np.random.choice(range(images_embeddings.shape[0]), size=batch_size, replace=False)\n",
        "    batch_image_embeddings = images_embeddings[selected_image_idx]\n",
        "    # batch_image_embeddings = np.take(images_embeddings, selected_image_idx, axis=0)\n",
        "    \n",
        "    ### YOUR CODE HERE ###\n",
        "    selected_caption_idx = np.random.choice(range(5), size=batch_size)\n",
        "    batch_captions = [indexed_captions[img_idx][caption_idx] for img_idx,caption_idx in zip(selected_image_idx, selected_caption_idx)]\n",
        "    batch_captions_matrix = batch_captions_to_matrix(batch_captions, pad_idx, max_len=max_len)\n",
        "    \n",
        "    return {decoder.img_embeds: batch_image_embeddings, \n",
        "            decoder.sentences: batch_captions_matrix}"
      ]
    },
    {
      "cell_type": "code",
      "source": [
        "lst = np.array([[1,2,3,4,5],[1,2,3,4,5],[1,2,3,4,5],[1,2,3,4,5],[1,2,3,4,5]])\n",
        "batch_start_idx = 0\n",
        "batch_size = 4\n",
        "\n",
        "a = np.random.permutation(range(len(lst)))[batch_start_idx : batch_start_idx+batch_size] \n",
        "print(a)\n",
        "b = np.random.choice(range(lst.shape[0]), size=batch_size)\n",
        "print(b)\n",
        "\n",
        "batch_start_idx =  np.random.randint(0, high=len(lst)-batch_size)\n",
        "c = np.random.permutation(range(len(lst)))[batch_start_idx : batch_start_idx+batch_size]\n",
        "print(c)\n",
        "\n",
        "shuffled_idx = list(range(lst.shape[0]))\n",
        "np.random.shuffle(shuffled_idx)\n",
        "d = shuffled_idx[:batch_size]\n",
        "print(d)"
      ],
      "metadata": {
        "colab": {
          "base_uri": "https://localhost:8080/"
        },
        "id": "oPusGDgxQHKL",
        "outputId": "d29bfd09-acd6-46ea-e517-b8dc6a7caafe"
      },
      "execution_count": null,
      "outputs": [
        {
          "output_type": "stream",
          "name": "stdout",
          "text": [
            "[4 3 0 1]\n",
            "[0 4 0 1]\n",
            "[3 4 2 0]\n",
            "[3, 4, 0, 2]\n"
          ]
        }
      ]
    },
    {
      "cell_type": "code",
      "execution_count": 32,
      "metadata": {
        "ExecuteTime": {
          "end_time": "2017-09-17T14:44:00.437338Z",
          "start_time": "2017-09-17T14:44:00.434472Z"
        },
        "id": "Q3AeOTNcZ4no"
      },
      "outputs": [],
      "source": [
        "batch_size = 64\n",
        "n_epochs = 12\n",
        "n_batches_per_epoch = 1000\n",
        "n_validation_batches = 100  # how many batches are used for validation after each epoch"
      ]
    },
    {
      "cell_type": "code",
      "execution_count": null,
      "metadata": {
        "ExecuteTime": {
          "end_time": "2017-09-17T14:44:01.497022Z",
          "start_time": "2017-09-17T14:44:00.962013Z"
        },
        "id": "58wohVabZ4no"
      },
      "outputs": [],
      "source": [
        "# you can load trained weights here\n",
        "# uncomment the next line if you need to load weights\n",
        "# saver.restore(s, get_checkpoint_path(epoch=4))"
      ]
    },
    {
      "cell_type": "markdown",
      "metadata": {
        "id": "SK_wryIQZ4no"
      },
      "source": [
        "Look at the training and validation loss, they should be decreasing!"
      ]
    },
    {
      "cell_type": "code",
      "execution_count": 41,
      "metadata": {
        "ExecuteTime": {
          "end_time": "2017-09-17T12:42:16.120494Z",
          "start_time": "2017-09-17T12:31:03.779162Z"
        },
        "scrolled": true,
        "id": "150a8p1eZ4no",
        "colab": {
          "base_uri": "https://localhost:8080/"
        },
        "outputId": "3d94e2eb-4b40-4cac-8f7c-6669355f97f2"
      },
      "outputs": [
        {
          "output_type": "stream",
          "name": "stdout",
          "text": [
            "**************************************************\n",
            "Training loss: 4.262320\n",
            "Epoch: 0, train loss: 4.262319675445557, val loss: 3.687377142906189\n",
            "**************************************************\n",
            "Training loss: 3.340065\n",
            "Epoch: 1, train loss: 3.3400652086734772, val loss: 3.119109318256378\n",
            "**************************************************\n",
            "Training loss: 3.009136\n",
            "Epoch: 2, train loss: 3.0091362648010254, val loss: 2.953173749446869\n",
            "**************************************************\n",
            "Training loss: 2.851563\n",
            "Epoch: 3, train loss: 2.8515629992485048, val loss: 2.8544632720947267\n",
            "**************************************************\n",
            "Training loss: 2.766263\n",
            "Epoch: 4, train loss: 2.766262507200241, val loss: 2.7916775274276735\n",
            "**************************************************\n",
            "Training loss: 2.703058\n",
            "Epoch: 5, train loss: 2.703057829141617, val loss: 2.7367372870445252\n",
            "WARNING:tensorflow:From /tensorflow-1.15.2/python3.7/tensorflow_core/python/training/saver.py:963: remove_checkpoint (from tensorflow.python.training.checkpoint_management) is deprecated and will be removed in a future version.\n",
            "Instructions for updating:\n",
            "Use standard file APIs to delete files with this prefix.\n",
            "**************************************************\n",
            "Training loss: 2.646381\n",
            "Epoch: 6, train loss: 2.646380523443222, val loss: 2.7004584741592406\n",
            "**************************************************\n",
            "Training loss: 2.603536\n",
            "Epoch: 7, train loss: 2.6035356414318085, val loss: 2.6791851472854615\n",
            "**************************************************\n",
            "Training loss: 2.571929\n",
            "Epoch: 8, train loss: 2.5719286859035493, val loss: 2.6291025948524473\n",
            "**************************************************\n",
            "Training loss: 2.537268\n",
            "Epoch: 9, train loss: 2.5372683646678924, val loss: 2.624199860095978\n",
            "**************************************************\n",
            "Training loss: 2.510053\n",
            "Epoch: 10, train loss: 2.510053076505661, val loss: 2.607537176609039\n",
            "**************************************************\n",
            "Training loss: 2.489778\n",
            "Epoch: 11, train loss: 2.489777545452118, val loss: 2.5959510517120363\n",
            "Finished!\n"
          ]
        }
      ],
      "source": [
        "# actual training loop\n",
        "MAX_LEN = 20  # truncate long captions to speed up training\n",
        "\n",
        "# to make training reproducible\n",
        "np.random.seed(42)\n",
        "random.seed(42)\n",
        "\n",
        "for epoch in range(n_epochs):\n",
        "    \n",
        "    train_loss = 0\n",
        "    pbar = tqdm_utils.tqdm_notebook_failsafe(range(n_batches_per_epoch))\n",
        "    counter = 0\n",
        "    for _ in pbar:\n",
        "        train_loss += s.run([decoder.loss, train_step], \n",
        "                            generate_batch(train_img_embeds, \n",
        "                                           train_captions_indexed, \n",
        "                                           batch_size, \n",
        "                                           MAX_LEN))[0]\n",
        "        counter += 1\n",
        "        pbar.set_description(\"Training loss: %f\" % (train_loss / counter))\n",
        "        \n",
        "    train_loss /= n_batches_per_epoch\n",
        "    \n",
        "    val_loss = 0\n",
        "    for _ in range(n_validation_batches):\n",
        "        val_loss += s.run(decoder.loss, generate_batch(val_img_embeds,\n",
        "                                                       val_captions_indexed, \n",
        "                                                       batch_size, \n",
        "                                                       MAX_LEN))\n",
        "    val_loss /= n_validation_batches\n",
        "    \n",
        "    print('Epoch: {}, train loss: {}, val loss: {}'.format(epoch, train_loss, val_loss))\n",
        "\n",
        "    # save weights after finishing epoch\n",
        "    saver.save(s, get_checkpoint_path(epoch))\n",
        "    \n",
        "print(\"Finished!\")"
      ]
    },
    {
      "cell_type": "code",
      "execution_count": 42,
      "metadata": {
        "id": "r1ab27vtZ4np",
        "colab": {
          "base_uri": "https://localhost:8080/"
        },
        "outputId": "04bc12c9-fc8e-4744-f158-c4f65ba94b42"
      },
      "outputs": [
        {
          "output_type": "stream",
          "name": "stdout",
          "text": [
            "**************************************************\n",
            "\n"
          ]
        }
      ],
      "source": [
        "## GRADED PART, DO NOT CHANGE!\n",
        "# Validation loss\n",
        "grader.set_answer(\"YJR7z\", grading_utils.test_validation_loss(\n",
        "    decoder, s, generate_batch, val_img_embeds, val_captions_indexed))"
      ]
    },
    {
      "cell_type": "code",
      "execution_count": 44,
      "metadata": {
        "id": "8_AcnOSyZ4np",
        "colab": {
          "base_uri": "https://localhost:8080/"
        },
        "outputId": "17e532e0-a63d-4ded-a5f6-de8e3defd3b6"
      },
      "outputs": [
        {
          "output_type": "stream",
          "name": "stdout",
          "text": [
            "Submitted to Coursera platform. See results on assignment page!\n"
          ]
        }
      ],
      "source": [
        "# you can make submission with answers so far to check yourself at this stage\n",
        "grader.submit(COURSERA_EMAIL, COURSERA_TOKEN)"
      ]
    },
    {
      "cell_type": "code",
      "execution_count": null,
      "metadata": {
        "ExecuteTime": {
          "end_time": "2017-09-17T12:42:16.399349Z",
          "start_time": "2017-09-17T12:42:16.122158Z"
        },
        "id": "6CdBfUfaZ4np",
        "colab": {
          "base_uri": "https://localhost:8080/"
        },
        "outputId": "8f3f6261-d102-40cd-8251-8529a74071bc"
      },
      "outputs": [
        {
          "output_type": "stream",
          "name": "stdout",
          "text": [
            "Loss: 0.78388584\n",
            "Accuracy: 0.48031496062992124\n",
            "Example 0\n",
            "Predicted: a man standing a out a in a #END# #END# #END# #END# #END# #END# #END# #END# #END# #END# #END# #END# #END# #END# #END# #END# #END# #END# #END# #END# #END# #END# #END# #END# #END# #END# #END# #END# #END# #END# #END#\n",
            "Truth: a man pouring wine from #UNK# for patrons #END# #PAD# #PAD# #PAD# #PAD# #PAD# #PAD# #PAD# #PAD# #PAD# #PAD# #PAD# #PAD# #PAD# #PAD# #PAD# #PAD# #PAD# #PAD# #PAD# #PAD# #PAD# #PAD# #PAD# #PAD# #PAD# #PAD# #PAD# #PAD# #PAD# #PAD#\n",
            "\n",
            "Example 1\n",
            "Predicted: a man in to to street while on #END# #END# #END# #END# #END# #END# #END# #END# #END# #END# #END# #END# #END# #END# #END# #END# #END# #END# #END# #END# #END# #END# #END# #END# #END# #END# #END# #END# #END# #END# #END#\n",
            "Truth: a man tries out a bicycle powered blender #END# #PAD# #PAD# #PAD# #PAD# #PAD# #PAD# #PAD# #PAD# #PAD# #PAD# #PAD# #PAD# #PAD# #PAD# #PAD# #PAD# #PAD# #PAD# #PAD# #PAD# #PAD# #PAD# #PAD# #PAD# #PAD# #PAD# #PAD# #PAD# #PAD# #PAD#\n",
            "\n",
            "Example 2\n",
            "Predicted: a white up of a toilet toilet toilet #END# #END# #END# #END# #END# #END# #END# #END# #END# #END# #END# #END# #END# #END# #END# #END# #END# #END# #END# #END# #END# #END# #END# #END# #END# #END# #END# #END# #END# #END# #END#\n",
            "Truth: a close up of a clean white toilet #END# #PAD# #PAD# #PAD# #PAD# #PAD# #PAD# #PAD# #PAD# #PAD# #PAD# #PAD# #PAD# #PAD# #PAD# #PAD# #PAD# #PAD# #PAD# #PAD# #PAD# #PAD# #PAD# #PAD# #PAD# #PAD# #PAD# #PAD# #PAD# #PAD# #PAD#\n",
            "\n"
          ]
        }
      ],
      "source": [
        "# check that it's learnt something, outputs accuracy of next word prediction (should be around 0.5)\n",
        "from sklearn.metrics import accuracy_score, log_loss\n",
        "\n",
        "def decode_sentence(sentence_indices):\n",
        "    return \" \".join(list(map(vocab_inverse.get, sentence_indices)))\n",
        "\n",
        "def check_after_training(n_examples):\n",
        "    fd = generate_batch(train_img_embeds, train_captions_indexed, batch_size)\n",
        "    logits = decoder.flat_token_logits.eval(fd)\n",
        "    truth = decoder.flat_ground_truth.eval(fd)\n",
        "    mask = decoder.flat_loss_mask.eval(fd).astype(bool)\n",
        "    print(\"Loss:\", decoder.loss.eval(fd))\n",
        "    print(\"Accuracy:\", accuracy_score(logits.argmax(axis=1)[mask], truth[mask]))\n",
        "    for example_idx in range(n_examples):\n",
        "        print(\"Example\", example_idx)\n",
        "        print(\"Predicted:\", decode_sentence(logits.argmax(axis=1).reshape((batch_size, -1))[example_idx]))\n",
        "        print(\"Truth:\", decode_sentence(truth.reshape((batch_size, -1))[example_idx]))\n",
        "        print(\"\")\n",
        "\n",
        "check_after_training(3)"
      ]
    },
    {
      "cell_type": "code",
      "execution_count": null,
      "metadata": {
        "ExecuteTime": {
          "end_time": "2017-09-17T12:42:16.535481Z",
          "start_time": "2017-09-17T12:42:16.400830Z"
        },
        "id": "4XE5RW9yZ4np"
      },
      "outputs": [],
      "source": [
        "# save last graph weights to file!\n",
        "saver.save(s, get_checkpoint_path())"
      ]
    },
    {
      "cell_type": "markdown",
      "metadata": {
        "id": "bftROihuZ4nq"
      },
      "source": [
        "# Applying model\n",
        "\n",
        "Here we construct a graph for our final model.\n",
        "\n",
        "It will work as follows:\n",
        "- take an image as an input and embed it\n",
        "- condition lstm on that embedding\n",
        "- predict the next token given a START input token\n",
        "- use predicted token as an input at next time step\n",
        "- iterate until you predict an END token"
      ]
    },
    {
      "cell_type": "code",
      "execution_count": null,
      "metadata": {
        "ExecuteTime": {
          "end_time": "2017-09-17T14:44:22.546086Z",
          "start_time": "2017-09-17T14:44:16.029331Z"
        },
        "id": "qcy8JwidZ4nq"
      },
      "outputs": [],
      "source": [
        "class final_model:\n",
        "    # CNN encoder\n",
        "    encoder, preprocess_for_model = get_cnn_encoder()\n",
        "    saver.restore(s, get_checkpoint_path())  # keras applications corrupt our graph, so we restore trained weights\n",
        "    \n",
        "    # containers for current lstm state\n",
        "    lstm_c = tf.Variable(tf.zeros([1, LSTM_UNITS]), name=\"cell\")\n",
        "    lstm_h = tf.Variable(tf.zeros([1, LSTM_UNITS]), name=\"hidden\")\n",
        "\n",
        "    # input images\n",
        "    input_images = tf.placeholder('float32', [1, IMG_SIZE, IMG_SIZE, 3], name='images')\n",
        "\n",
        "    # get image embeddings\n",
        "    img_embeds = encoder(input_images)\n",
        "\n",
        "    # initialize lstm state conditioned on image\n",
        "    init_c = init_h = decoder.img_embed_bottleneck_to_h0(decoder.img_embed_to_bottleneck(img_embeds))\n",
        "    init_lstm = tf.assign(lstm_c, init_c), tf.assign(lstm_h, init_h)\n",
        "    \n",
        "    # current word index\n",
        "    current_word = tf.placeholder('int32', [1], name='current_input')\n",
        "\n",
        "    # embedding for current word\n",
        "    word_embed = decoder.word_embed(current_word)\n",
        "\n",
        "    # apply lstm cell, get new lstm states\n",
        "    new_c, new_h = decoder.lstm(word_embed, tf.nn.rnn_cell.LSTMStateTuple(lstm_c, lstm_h))[1]\n",
        "\n",
        "    # compute logits for next token\n",
        "    new_logits = decoder.token_logits(decoder.token_logits_bottleneck(new_h))\n",
        "    # compute probabilities for next token\n",
        "    new_probs = tf.nn.softmax(new_logits)\n",
        "\n",
        "    # `one_step` outputs probabilities of next token and updates lstm hidden state\n",
        "    one_step = new_probs, tf.assign(lstm_c, new_c), tf.assign(lstm_h, new_h)"
      ]
    },
    {
      "cell_type": "code",
      "execution_count": null,
      "metadata": {
        "ExecuteTime": {
          "end_time": "2017-09-17T17:27:17.828681Z",
          "start_time": "2017-09-17T17:27:17.820029Z"
        },
        "id": "uTpu7qwvZ4nt"
      },
      "outputs": [],
      "source": [
        "# look at how temperature works for probability distributions\n",
        "# for high temperature we have more uniform distribution\n",
        "_ = np.array([0.5, 0.4, 0.1])\n",
        "for t in [0.01, 0.1, 1, 10, 100]:\n",
        "    print(\" \".join(map(str, _**(1/t) / np.sum(_**(1/t)))), \"with temperature\", t)"
      ]
    },
    {
      "cell_type": "code",
      "execution_count": null,
      "metadata": {
        "ExecuteTime": {
          "end_time": "2017-09-17T14:44:22.575410Z",
          "start_time": "2017-09-17T14:44:22.547785Z"
        },
        "id": "d4s4yh24Z4nu"
      },
      "outputs": [],
      "source": [
        "# this is an actual prediction loop\n",
        "def generate_caption(image, t=1, sample=False, max_len=20):\n",
        "    \"\"\"\n",
        "    Generate caption for given image.\n",
        "    if `sample` is True, we will sample next token from predicted probability distribution.\n",
        "    `t` is a temperature during that sampling,\n",
        "        higher `t` causes more uniform-like distribution = more chaos.\n",
        "    \"\"\"\n",
        "    # condition lstm on the image\n",
        "    s.run(final_model.init_lstm, \n",
        "          {final_model.input_images: [image]})\n",
        "    \n",
        "    # current caption\n",
        "    # start with only START token\n",
        "    caption = [vocab[START]]\n",
        "    \n",
        "    for _ in range(max_len):\n",
        "        next_word_probs = s.run(final_model.one_step, \n",
        "                                {final_model.current_word: [caption[-1]]})[0]\n",
        "        next_word_probs = next_word_probs.ravel()\n",
        "        \n",
        "        # apply temperature\n",
        "        next_word_probs = next_word_probs**(1/t) / np.sum(next_word_probs**(1/t))\n",
        "\n",
        "        if sample:\n",
        "            next_word = np.random.choice(range(len(vocab)), p=next_word_probs)\n",
        "        else:\n",
        "            next_word = np.argmax(next_word_probs)\n",
        "\n",
        "        caption.append(next_word)\n",
        "        if next_word == vocab[END]:\n",
        "            break\n",
        "       \n",
        "    return list(map(vocab_inverse.get, caption))"
      ]
    },
    {
      "cell_type": "code",
      "execution_count": null,
      "metadata": {
        "ExecuteTime": {
          "end_time": "2017-09-17T17:44:15.525786Z",
          "start_time": "2017-09-17T17:44:15.238979Z"
        },
        "id": "fZCsg--hZ4nu"
      },
      "outputs": [],
      "source": [
        "# look at validation prediction example\n",
        "def apply_model_to_image_raw_bytes(raw):\n",
        "    img = utils.decode_image_from_buf(raw)\n",
        "    fig = plt.figure(figsize=(7, 7))\n",
        "    plt.grid('off')\n",
        "    plt.axis('off')\n",
        "    plt.imshow(img)\n",
        "    img = utils.crop_and_preprocess(img, (IMG_SIZE, IMG_SIZE), final_model.preprocess_for_model)\n",
        "    print(' '.join(generate_caption(img)[1:-1]))\n",
        "    plt.show()\n",
        "\n",
        "def show_valid_example(val_img_fns, example_idx=0):\n",
        "    zf = zipfile.ZipFile(\"val2014_sample.zip\")\n",
        "    all_files = set(val_img_fns)\n",
        "    found_files = list(filter(lambda x: x.filename.rsplit(\"/\")[-1] in all_files, zf.filelist))\n",
        "    example = found_files[example_idx]\n",
        "    apply_model_to_image_raw_bytes(zf.read(example))\n",
        "    \n",
        "show_valid_example(val_img_fns, example_idx=100)"
      ]
    },
    {
      "cell_type": "code",
      "execution_count": null,
      "metadata": {
        "ExecuteTime": {
          "end_time": "2017-09-17T15:07:47.191185Z",
          "start_time": "2017-09-17T15:06:44.121069Z"
        },
        "scrolled": true,
        "id": "mU9Ez3yCZ4nu"
      },
      "outputs": [],
      "source": [
        "# sample more images from validation\n",
        "for idx in np.random.choice(range(len(zipfile.ZipFile(\"val2014_sample.zip\").filelist) - 1), 10):\n",
        "    show_valid_example(val_img_fns, example_idx=idx)\n",
        "    time.sleep(1)"
      ]
    },
    {
      "cell_type": "markdown",
      "metadata": {
        "id": "ab96qwYXZ4nu"
      },
      "source": [
        "You can download any image from the Internet and appply your model to it!"
      ]
    },
    {
      "cell_type": "code",
      "execution_count": null,
      "metadata": {
        "ExecuteTime": {
          "end_time": "2017-09-17T17:42:56.055265Z",
          "start_time": "2017-09-17T17:42:54.242164Z"
        },
        "id": "Rk_NRBDcZ4nv"
      },
      "outputs": [],
      "source": [
        "download_utils.download_file(\n",
        "    \"http://www.bijouxandbits.com/wp-content/uploads/2016/06/portal-cake-10.jpg\",\n",
        "    \"portal-cake-10.jpg\"\n",
        ")"
      ]
    },
    {
      "cell_type": "code",
      "execution_count": null,
      "metadata": {
        "id": "eaNb9X8GZ4nv"
      },
      "outputs": [],
      "source": [
        "apply_model_to_image_raw_bytes(open(\"portal-cake-10.jpg\", \"rb\").read())"
      ]
    },
    {
      "cell_type": "markdown",
      "metadata": {
        "ExecuteTime": {
          "end_time": "2017-09-24T12:34:10.689158Z",
          "start_time": "2017-09-24T12:34:10.675938Z"
        },
        "id": "fd-uy--EZ4nv"
      },
      "source": [
        "Now it's time to find 10 examples where your model works good and 10 examples where it fails! \n",
        "\n",
        "You can use images from validation set as follows:\n",
        "```python\n",
        "show_valid_example(val_img_fns, example_idx=...)\n",
        "```\n",
        "\n",
        "You can use images from the Internet as follows:\n",
        "```python\n",
        "! wget ...\n",
        "apply_model_to_image_raw_bytes(open(\"...\", \"rb\").read())\n",
        "```\n",
        "\n",
        "If you use these functions, the output will be embedded into your notebook and will be visible during peer review!\n",
        "\n",
        "When you're done, download your noteboook using \"File\" -> \"Download as\" -> \"Notebook\" and prepare that file for peer review!"
      ]
    },
    {
      "cell_type": "code",
      "execution_count": null,
      "metadata": {
        "id": "_je9BNQRZ4nv"
      },
      "outputs": [],
      "source": [
        "### YOUR EXAMPLES HERE ###"
      ]
    },
    {
      "cell_type": "markdown",
      "metadata": {
        "ExecuteTime": {
          "end_time": "2017-09-24T12:34:25.055581Z",
          "start_time": "2017-09-24T12:34:25.052373Z"
        },
        "id": "V4QwET4BZ4nv"
      },
      "source": [
        "That's it! \n",
        "\n",
        "Congratulations, you've trained your image captioning model and now can produce captions for any picture from the  Internet!"
      ]
    }
  ],
  "metadata": {
    "kernelspec": {
      "display_name": "Python 3",
      "language": "python",
      "name": "python3"
    },
    "language_info": {
      "codemirror_mode": {
        "name": "ipython",
        "version": 3
      },
      "file_extension": ".py",
      "mimetype": "text/x-python",
      "name": "python",
      "nbconvert_exporter": "python",
      "pygments_lexer": "ipython3",
      "version": "3.6.5"
    },
    "toc": {
      "colors": {
        "hover_highlight": "#DAA520",
        "navigate_num": "#000000",
        "navigate_text": "#333333",
        "running_highlight": "#FF0000",
        "selected_highlight": "#FFD700",
        "sidebar_border": "#EEEEEE",
        "wrapper_background": "#FFFFFF"
      },
      "moveMenuLeft": true,
      "nav_menu": {
        "height": "157px",
        "width": "252px"
      },
      "navigate_menu": true,
      "number_sections": true,
      "sideBar": true,
      "threshold": 4,
      "toc_cell": false,
      "toc_section_display": "block",
      "toc_window_display": false,
      "widenNotebook": false
    },
    "colab": {
      "name": "Copy_of_week6_final_project_image_captioning_clean.ipynb",
      "provenance": [],
      "collapsed_sections": []
    },
    "accelerator": "GPU"
  },
  "nbformat": 4,
  "nbformat_minor": 0
}